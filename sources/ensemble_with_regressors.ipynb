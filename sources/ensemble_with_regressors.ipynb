{
 "cells": [
  {
   "cell_type": "markdown",
   "id": "9034ea7a",
   "metadata": {},
   "source": [
    "# Titanic - Machine Learning from Disaster. Ensemble"
   ]
  },
  {
   "cell_type": "markdown",
   "id": "e4356850",
   "metadata": {
    "toc": true
   },
   "source": [
    "<h1>Содержание<span class=\"tocSkip\"></span></h1>\n",
    "<div class=\"toc\"><ul class=\"toc-item\"><li><span><a href=\"#Загрузка-данных\" data-toc-modified-id=\"Загрузка-данных-1\"><span class=\"toc-item-num\">1&nbsp;&nbsp;</span>Загрузка данных</a></span></li><li><span><a href=\"#Подготовка-к-обучению-моделей\" data-toc-modified-id=\"Подготовка-к-обучению-моделей-2\"><span class=\"toc-item-num\">2&nbsp;&nbsp;</span>Подготовка к обучению моделей</a></span><ul class=\"toc-item\"><li><span><a href=\"#Категориальные-признаки\" data-toc-modified-id=\"Категориальные-признаки-2.1\"><span class=\"toc-item-num\">2.1&nbsp;&nbsp;</span>Категориальные признаки</a></span></li><li><span><a href=\"#Функция-для-вывода-оценки-модели\" data-toc-modified-id=\"Функция-для-вывода-оценки-модели-2.2\"><span class=\"toc-item-num\">2.2&nbsp;&nbsp;</span>Функция для вывода оценки модели</a></span></li><li><span><a href=\"#Трансформер-для-получения-титула-из-имени\" data-toc-modified-id=\"Трансформер-для-получения-титула-из-имени-2.3\"><span class=\"toc-item-num\">2.3&nbsp;&nbsp;</span>Трансформер для получения титула из имени</a></span></li><li><span><a href=\"#Трансформер-для-удаления-признаков\" data-toc-modified-id=\"Трансформер-для-удаления-признаков-2.4\"><span class=\"toc-item-num\">2.4&nbsp;&nbsp;</span>Трансформер для удаления признаков</a></span></li></ul></li><li><span><a href=\"#Базовые-модели\" data-toc-modified-id=\"Базовые-модели-3\"><span class=\"toc-item-num\">3&nbsp;&nbsp;</span>Базовые модели</a></span><ul class=\"toc-item\"><li><span><a href=\"#CatBoost\" data-toc-modified-id=\"CatBoost-3.1\"><span class=\"toc-item-num\">3.1&nbsp;&nbsp;</span>CatBoost</a></span></li><li><span><a href=\"#Градиентный-бустинг-с-LightGBM\" data-toc-modified-id=\"Градиентный-бустинг-с-LightGBM-3.2\"><span class=\"toc-item-num\">3.2&nbsp;&nbsp;</span>Градиентный бустинг с LightGBM</a></span></li><li><span><a href=\"#Случайный-лес-с-LightGBM\" data-toc-modified-id=\"Случайный-лес-с-LightGBM-3.3\"><span class=\"toc-item-num\">3.3&nbsp;&nbsp;</span>Случайный лес с LightGBM</a></span></li></ul></li><li><span><a href=\"#Стекинг\" data-toc-modified-id=\"Стекинг-4\"><span class=\"toc-item-num\">4&nbsp;&nbsp;</span>Стекинг</a></span></li></ul></div>"
   ]
  },
  {
   "cell_type": "markdown",
   "id": "085874e3",
   "metadata": {},
   "source": [
    "# Импорт модулей и константы"
   ]
  },
  {
   "cell_type": "code",
   "execution_count": 1,
   "id": "4104ed94",
   "metadata": {},
   "outputs": [],
   "source": [
    "from catboost import CatBoostClassifier, CatBoostRegressor, Pool, metrics, cv\n",
    "from category_encoders.m_estimate import MEstimateEncoder\n",
    "from category_encoders.ordinal import OrdinalEncoder\n",
    "from category_encoders.one_hot import OneHotEncoder\n",
    "from lightgbm import LGBMClassifier, LGBMRegressor\n",
    "from joblib import load\n",
    "import numpy as np\n",
    "import pandas as pd\n",
    "\n",
    "import sklearn\n",
    "from sklearn.base import BaseEstimator, ClassifierMixin\n",
    "from sklearn.compose import ColumnTransformer\n",
    "from sklearn.impute import SimpleImputer\n",
    "from sklearn.linear_model import LogisticRegression, Ridge\n",
    "from sklearn.metrics import accuracy_score\n",
    "from sklearn.model_selection import cross_val_score, cross_val_predict, train_test_split\n",
    "from sklearn.pipeline import Pipeline\n",
    "from sklearn.preprocessing import FunctionTransformer, StandardScaler, PolynomialFeatures\n",
    "\n",
    "SEED = 42\n",
    "N_JOBS = -1\n",
    "CV = 5\n",
    "N_TRIALS = 1000\n",
    "\n",
    "sklearn.set_config(transform_output=\"pandas\")\n",
    "%matplotlib inline"
   ]
  },
  {
   "cell_type": "markdown",
   "id": "70fd4a23",
   "metadata": {},
   "source": [
    "## Загрузка данных"
   ]
  },
  {
   "cell_type": "code",
   "execution_count": 2,
   "id": "408a6d15",
   "metadata": {},
   "outputs": [],
   "source": [
    "X_train, y_train = load(\"train_set.joblib\")\n",
    "X_test, y_test = load(\"test_set.joblib\")"
   ]
  },
  {
   "cell_type": "markdown",
   "id": "59f17cdb",
   "metadata": {},
   "source": [
    "## Подготовка к обучению моделей"
   ]
  },
  {
   "cell_type": "markdown",
   "id": "b7a6cea4",
   "metadata": {},
   "source": [
    "### Категориальные признаки"
   ]
  },
  {
   "cell_type": "code",
   "execution_count": 3,
   "id": "409b208d",
   "metadata": {},
   "outputs": [],
   "source": [
    "cat_features = ['Pclass', 'Sex', 'Ticket', 'Cabin', 'Embarked', 'Title']\n",
    "cat_indexes = [0, 1, 5, 7, 8, 9]"
   ]
  },
  {
   "cell_type": "markdown",
   "id": "593bc37c",
   "metadata": {},
   "source": [
    "### Функция для вывода оценки модели"
   ]
  },
  {
   "cell_type": "code",
   "execution_count": 4,
   "id": "1f03684e",
   "metadata": {},
   "outputs": [],
   "source": [
    "def plot_accuracy_score(scores):\n",
    "    print(f'Scores: {np.round(scores, 4)}')\n",
    "    print(f'mean accuracy: {np.round(scores.mean(), 3)}')\n",
    "    print(f'accuracy std: {np.round(scores.std(), 4)}')"
   ]
  },
  {
   "cell_type": "markdown",
   "id": "73b851a0",
   "metadata": {},
   "source": [
    "### Трансформер для получения титула из имени"
   ]
  },
  {
   "cell_type": "code",
   "execution_count": 5,
   "id": "3a351577",
   "metadata": {},
   "outputs": [],
   "source": [
    "def add_title(X, y=None, group_rare=True):\n",
    "    title = X.Name.str.extract(pat=r\"\\b,\\s(.+?)\\.\\s[\\b(]?\")\n",
    "    title = pd.Series(title[0], name=\"Title\").str.lower()\n",
    "\n",
    "    if group_rare:\n",
    "        title = title.where(\n",
    "            title.isin([\"mr\", \"miss\", \"mrs\", \"master\"]), \"aristocratic\"\n",
    "        )\n",
    "\n",
    "    return pd.concat([X, title], axis=\"columns\")\n",
    "\n",
    "title_adder = FunctionTransformer(add_title)"
   ]
  },
  {
   "cell_type": "markdown",
   "id": "57e9d816",
   "metadata": {},
   "source": [
    "### Трансформер для удаления признаков"
   ]
  },
  {
   "cell_type": "code",
   "execution_count": 6,
   "id": "810e8a70",
   "metadata": {},
   "outputs": [],
   "source": [
    "name_remover = FunctionTransformer(\n",
    "    lambda x: x.drop(columns=['PassengerId', 'Name'])\n",
    ")"
   ]
  },
  {
   "cell_type": "markdown",
   "id": "68a68f58",
   "metadata": {},
   "source": [
    "## Базовые модели"
   ]
  },
  {
   "cell_type": "markdown",
   "id": "840f96cb",
   "metadata": {},
   "source": [
    "### CatBoost"
   ]
  },
  {
   "cell_type": "code",
   "execution_count": 7,
   "id": "a56fc95c",
   "metadata": {},
   "outputs": [
    {
     "name": "stdout",
     "output_type": "stream",
     "text": [
      "Scores: [0.8182 0.7832 0.838  0.8451 0.8028]\n",
      "mean accuracy: 0.817\n",
      "accuracy std: 0.0227\n"
     ]
    }
   ],
   "source": [
    "classifier = CatBoostClassifier(\n",
    "    loss_function = metrics.Logloss(),\n",
    "    cat_features=cat_features,\n",
    "    random_seed=SEED,\n",
    "    verbose=False\n",
    ")\n",
    "\n",
    "catboost_pipeline = Pipeline([\n",
    "    ('title', title_adder),\n",
    "    ('drop', name_remover),\n",
    "    ('imputer', SimpleImputer(strategy='constant', fill_value=-999)),\n",
    "    ('classifier', classifier),\n",
    "])\n",
    "\n",
    "scores = cross_val_score(\n",
    "    estimator=catboost_pipeline,\n",
    "    X=X_train,\n",
    "    y=y_train,\n",
    "    scoring='accuracy',\n",
    "    cv=CV,\n",
    "    n_jobs=1,\n",
    ")\n",
    "\n",
    "plot_accuracy_score(scores)"
   ]
  },
  {
   "cell_type": "markdown",
   "id": "bb7de636",
   "metadata": {},
   "source": [
    "### Градиентный бустинг с LightGBM"
   ]
  },
  {
   "cell_type": "code",
   "execution_count": 8,
   "id": "918892a2",
   "metadata": {},
   "outputs": [
    {
     "name": "stdout",
     "output_type": "stream",
     "text": [
      "Scores: [0.7692 0.8112 0.8451 0.8028 0.7817]\n",
      "mean accuracy: 0.802\n",
      "accuracy std: 0.0262\n"
     ]
    }
   ],
   "source": [
    "classifier = LGBMClassifier(\n",
    "    learning_rate=0.1,\n",
    "    n_estimators=250,\n",
    "    boosting_type='gbdt',\n",
    "    class_weight='balanced',\n",
    "    n_jobs=N_JOBS,\n",
    "    verbose=-100,\n",
    ")\n",
    "\n",
    "lgbm_pipeline = Pipeline([\n",
    "    ('title', title_adder),\n",
    "    ('drop', name_remover),\n",
    "    ('encoder', MEstimateEncoder(cols=cat_features)),\n",
    "    ('imputer', SimpleImputer(strategy='constant', fill_value=-999)),\n",
    "    ('classifier', classifier),\n",
    "])\n",
    "\n",
    "scores = cross_val_score(\n",
    "    estimator=lgbm_pipeline,\n",
    "    X=X_train,\n",
    "    y=y_train,\n",
    "    scoring='accuracy',\n",
    "    cv=CV,\n",
    "    n_jobs=1,\n",
    ")\n",
    "\n",
    "plot_accuracy_score(scores)"
   ]
  },
  {
   "cell_type": "markdown",
   "id": "54e237b2",
   "metadata": {},
   "source": [
    "### Случайный лес с LightGBM"
   ]
  },
  {
   "cell_type": "code",
   "execution_count": 9,
   "id": "1962b18c",
   "metadata": {},
   "outputs": [
    {
     "name": "stdout",
     "output_type": "stream",
     "text": [
      "Scores: [0.7902 0.8182 0.8732 0.8169 0.7817]\n",
      "mean accuracy: 0.816\n",
      "accuracy std: 0.032\n"
     ]
    }
   ],
   "source": [
    "classifier = LGBMClassifier(\n",
    "    boosting_type='rf',\n",
    "    class_weight='balanced',\n",
    "    n_jobs=N_JOBS,\n",
    "    verbose=-100,\n",
    "    bagging_fraction=0.5,\n",
    "    feature_fraction=0.5,\n",
    "    bagging_freq=1,\n",
    ")\n",
    "\n",
    "rf_pipeline = Pipeline([\n",
    "    ('title', title_adder),\n",
    "    ('drop', name_remover),\n",
    "    ('encoder', MEstimateEncoder(cols=cat_features)),\n",
    "    ('imputer', SimpleImputer(strategy='constant', fill_value=-999)),\n",
    "    ('classifier', classifier),\n",
    "])\n",
    "\n",
    "scores = cross_val_score(\n",
    "    estimator=rf_pipeline,\n",
    "    X=X_train,\n",
    "    y=y_train,\n",
    "    scoring='accuracy',\n",
    "    cv=CV,\n",
    "    n_jobs=1,\n",
    ")\n",
    "\n",
    "plot_accuracy_score(scores)"
   ]
  },
  {
   "cell_type": "markdown",
   "id": "901707af",
   "metadata": {},
   "source": [
    "## Стекинг"
   ]
  },
  {
   "cell_type": "code",
   "execution_count": 10,
   "id": "482f6173",
   "metadata": {},
   "outputs": [],
   "source": [
    "class Blender(BaseEstimator, ClassifierMixin):\n",
    "    def __init__(\n",
    "        self, \n",
    "        catboost_params=None, \n",
    "        lgbm_params=None, \n",
    "        rf_params=None,\n",
    "        meta_model_params=None,\n",
    "        lin_reg_params=None,\n",
    "        cv=5,\n",
    "    ):\n",
    "        self.cv=cv\n",
    "        \n",
    "        if catboost_params is None:\n",
    "            self.catboost_params = dict(\n",
    "                cat_features=cat_features,\n",
    "                verbose=False\n",
    "            )\n",
    "        else:\n",
    "            self.catboost_params = catboost_params\n",
    "            \n",
    "        if lgbm_params is None:\n",
    "            self.lgbm_params = dict(\n",
    "                learning_rate=0.1,\n",
    "                n_estimators=250,\n",
    "                boosting_type='gbdt',\n",
    "                n_jobs=N_JOBS,\n",
    "                verbose=-100,\n",
    "            )\n",
    "        else:\n",
    "            self.lgbm_params = lgbm_params\n",
    "            \n",
    "        if rf_params is None:\n",
    "            self.rf_params = dict(    \n",
    "                boosting_type='rf',\n",
    "                n_jobs=N_JOBS,\n",
    "                verbose=-100,\n",
    "                bagging_fraction=0.5,\n",
    "                feature_fraction=0.5,\n",
    "                bagging_freq=1,\n",
    "            )\n",
    "        else:\n",
    "            self.rf_params = rf_params\n",
    "            \n",
    "        if lin_reg_params is None:\n",
    "            self.lin_reg_params = dict()\n",
    "        else:\n",
    "            self.lin_reg_params = lin_reg_params\n",
    "            \n",
    "        if meta_model_params is None:\n",
    "            self.meta_model_params = dict(class_weight='balanced')\n",
    "        else:\n",
    "            self.meta_model_params = meta_model_params\n",
    "            \n",
    "    \n",
    "    def get_metafeatures(self, X, y=None):\n",
    "        meta_features = pd.DataFrame()\n",
    "        \n",
    "        if y is None:\n",
    "            meta_features['catboost'] = self.catboost_pipeline.predict(X)\n",
    "            meta_features['lgbm'] = self.lgbm_pipeline.predict(X)\n",
    "            meta_features['rf'] = self.rf_pipeline.predict(X)\n",
    "            meta_features['lin_reg'] = self.lin_reg_pipe.predict(X)\n",
    "            meta_features['lin_reg_1'] = self.lin_reg_1_pipe.predict(X)\n",
    "        else:\n",
    "            meta_features['catboost'] = cross_val_predict(\n",
    "                X=X, \n",
    "                y=y,\n",
    "                estimator=self.catboost_pipeline,\n",
    "                cv=self.cv,\n",
    "                method='predict',\n",
    "                n_jobs=N_JOBS,\n",
    "            )\n",
    "\n",
    "            meta_features['lgbm'] = cross_val_predict(\n",
    "                X=X, \n",
    "                y=y,\n",
    "                estimator=self.lgbm_pipeline,\n",
    "                cv=self.cv,\n",
    "                method='predict',\n",
    "                n_jobs=N_JOBS,\n",
    "            )\n",
    "\n",
    "            meta_features['rf'] = cross_val_predict(\n",
    "                X=X, \n",
    "                y=y,\n",
    "                estimator=self.rf_pipeline,\n",
    "                cv=self.cv,\n",
    "                method='predict',\n",
    "                n_jobs=N_JOBS,\n",
    "            )\n",
    "            \n",
    "            meta_features['lin_reg'] = cross_val_predict(\n",
    "                X=X, \n",
    "                y=y,\n",
    "                estimator=self.lin_reg_pipe,\n",
    "                cv=self.cv,\n",
    "                method='predict',\n",
    "                n_jobs=N_JOBS,\n",
    "            )\n",
    "            \n",
    "            meta_features['lin_reg_1'] = cross_val_predict(\n",
    "                X=X, \n",
    "                y=y,\n",
    "                estimator=self.lin_reg_1_pipe,\n",
    "                cv=self.cv,\n",
    "                method='predict',\n",
    "                n_jobs=N_JOBS,\n",
    "            )\n",
    "        \n",
    "        return meta_features\n",
    "            \n",
    "            \n",
    "    def fit(self, X, y=None):\n",
    "        self.catboost_pipeline = Pipeline([\n",
    "            ('title', title_adder),\n",
    "            ('drop', name_remover),\n",
    "            ('imputer', SimpleImputer(strategy='constant', fill_value=-999)),\n",
    "            ('regressor', CatBoostRegressor(**self.catboost_params)),\n",
    "        ])\n",
    "\n",
    "        self.lgbm_pipeline = Pipeline([\n",
    "            ('title', title_adder),\n",
    "            ('drop', name_remover),\n",
    "            ('encoder', MEstimateEncoder(cols=cat_features)),\n",
    "            ('imputer', SimpleImputer(strategy='constant', fill_value=-999)),\n",
    "            ('classifier', LGBMRegressor(**self.lgbm_params)),\n",
    "        ])\n",
    "        \n",
    "        self.rf_pipeline = Pipeline([\n",
    "            ('title', title_adder),\n",
    "            ('drop', name_remover),\n",
    "            ('encoder', MEstimateEncoder(cols=cat_features)),\n",
    "            ('imputer', SimpleImputer(strategy='constant', fill_value=-999)),\n",
    "            ('classifier', LGBMRegressor(**self.rf_params)),\n",
    "        ])\n",
    "        \n",
    "        self.lin_reg_pipe = Pipeline([\n",
    "            ('col_selector', \n",
    "             FunctionTransformer(\n",
    "                 lambda x: x[['PassengerId', 'Pclass', 'Name', 'Sex', 'Age', 'SibSp', 'Parch', 'Fare', 'Embarked']]\n",
    "             )\n",
    "            ),\n",
    "            ('title', title_adder),\n",
    "            ('drop', name_remover),\n",
    "            ('encoder', OneHotEncoder(cols=['Sex', 'Title', 'Pclass', 'Embarked'])),\n",
    "            ('imputer', SimpleImputer(strategy='median')),\n",
    "            ('scaler', StandardScaler()),\n",
    "            ('classifier', Ridge(**self.lin_reg_params)),\n",
    "        ])\n",
    "        \n",
    "        self.lin_reg_1_pipe = Pipeline([\n",
    "            ('col_selector', \n",
    "             FunctionTransformer(\n",
    "                 lambda x: x[['PassengerId', 'Pclass', 'Name', 'Sex', 'Age', 'SibSp', 'Parch', 'Fare', 'Embarked']]\n",
    "             )\n",
    "            ),\n",
    "            ('title', title_adder),\n",
    "            ('drop', name_remover),\n",
    "            ('encoder', OneHotEncoder(cols=['Sex', 'Title', 'Pclass', 'Embarked'])),\n",
    "            ('imputer', SimpleImputer(strategy='median')),\n",
    "            ('scaler', StandardScaler()),\n",
    "            ('classifier', Ridge(alpha=0.1)),\n",
    "        ])\n",
    "        \n",
    "        meta_features = self.get_metafeatures(X, y)\n",
    "        \n",
    "        self.metamodel = Pipeline([\n",
    "            ('interaction', PolynomialFeatures(interaction_only=True)),\n",
    "            ('scaler', StandardScaler()),\n",
    "            ('classifier', LogisticRegression(**self.meta_model_params))\n",
    "        ])\n",
    "        \n",
    "        self.metamodel.fit(meta_features, y)\n",
    "        \n",
    "        self.catboost_pipeline.fit(X,y)\n",
    "        self.lgbm_pipeline.fit(X, y)\n",
    "        self.rf_pipeline.fit(X, y)\n",
    "        self.lin_reg_pipe.fit(X, y)\n",
    "        self.lin_reg_1_pipe.fit(X, y)\n",
    "        \n",
    "        return self\n",
    "        \n",
    "\n",
    "    def predict(self, X):\n",
    "        meta_features = self.get_metafeatures(X)\n",
    "        preds = self.metamodel.predict(meta_features)\n",
    "        \n",
    "        return preds"
   ]
  },
  {
   "cell_type": "code",
   "execution_count": 11,
   "id": "8b0eb1b8",
   "metadata": {},
   "outputs": [
    {
     "name": "stdout",
     "output_type": "stream",
     "text": [
      "Scores: [0.8042 0.8322 0.831  0.8451 0.8099]\n",
      "mean accuracy: 0.824\n",
      "accuracy std: 0.0152\n"
     ]
    }
   ],
   "source": [
    "meta_model_params = dict(class_weight='balanced', solver='liblinear', C=10)#, penalty='l1')\n",
    "\n",
    "scores = cross_val_score(\n",
    "    estimator=Blender(cv=5, meta_model_params = meta_model_params),\n",
    "    X=X_train,\n",
    "    y=y_train,\n",
    "    scoring='accuracy',\n",
    "    cv=CV,\n",
    "    n_jobs=1,\n",
    ")\n",
    "\n",
    "plot_accuracy_score(scores)"
   ]
  },
  {
   "cell_type": "code",
   "execution_count": 12,
   "id": "f04cf092",
   "metadata": {},
   "outputs": [
    {
     "data": {
      "text/plain": [
       "0.8156424581005587"
      ]
     },
     "execution_count": 12,
     "metadata": {},
     "output_type": "execute_result"
    }
   ],
   "source": [
    "accuracy_score(y_test, catboost_pipeline.fit(X_train, y_train).predict(X_test))"
   ]
  },
  {
   "cell_type": "code",
   "execution_count": 13,
   "id": "4582bfe5",
   "metadata": {},
   "outputs": [],
   "source": [
    "stacking = Blender(cv=5, meta_model_params = meta_model_params).fit(X_train, y_train)"
   ]
  },
  {
   "cell_type": "code",
   "execution_count": 14,
   "id": "1be3228e",
   "metadata": {},
   "outputs": [
    {
     "data": {
      "text/plain": [
       "0.8156424581005587"
      ]
     },
     "execution_count": 14,
     "metadata": {},
     "output_type": "execute_result"
    }
   ],
   "source": [
    "accuracy_score(y_test, stacking.predict(X_test))"
   ]
  },
  {
   "cell_type": "code",
   "execution_count": 15,
   "id": "bdc4a9c9",
   "metadata": {},
   "outputs": [
    {
     "data": {
      "text/plain": [
       "array([[ 0.        ,  1.18633116,  0.42008944,  0.32028932, -0.14012998,\n",
       "         0.0456106 , -1.66828794,  1.04400154, -0.30276032, -0.19804328,\n",
       "        -0.02762313,  0.21149573,  0.28529655,  0.18755451,  0.2726067 ,\n",
       "         0.62294017]])"
      ]
     },
     "execution_count": 15,
     "metadata": {},
     "output_type": "execute_result"
    }
   ],
   "source": [
    "stacking.metamodel[-1].coef_"
   ]
  },
  {
   "cell_type": "code",
   "execution_count": null,
   "id": "b196d0ed",
   "metadata": {},
   "outputs": [],
   "source": []
  },
  {
   "cell_type": "code",
   "execution_count": null,
   "id": "f996d480",
   "metadata": {},
   "outputs": [],
   "source": []
  },
  {
   "cell_type": "code",
   "execution_count": null,
   "id": "344f7792",
   "metadata": {},
   "outputs": [],
   "source": []
  },
  {
   "cell_type": "code",
   "execution_count": null,
   "id": "f20af4a1",
   "metadata": {},
   "outputs": [],
   "source": []
  }
 ],
 "metadata": {
  "kernelspec": {
   "display_name": "Python 3 (ipykernel)",
   "language": "python",
   "name": "python3"
  },
  "language_info": {
   "codemirror_mode": {
    "name": "ipython",
    "version": 3
   },
   "file_extension": ".py",
   "mimetype": "text/x-python",
   "name": "python",
   "nbconvert_exporter": "python",
   "pygments_lexer": "ipython3",
   "version": "3.9.16"
  },
  "toc": {
   "base_numbering": 1,
   "nav_menu": {},
   "number_sections": true,
   "sideBar": true,
   "skip_h1_title": true,
   "title_cell": "Содержание",
   "title_sidebar": "Содержание",
   "toc_cell": true,
   "toc_position": {},
   "toc_section_display": true,
   "toc_window_display": false
  }
 },
 "nbformat": 4,
 "nbformat_minor": 5
}
