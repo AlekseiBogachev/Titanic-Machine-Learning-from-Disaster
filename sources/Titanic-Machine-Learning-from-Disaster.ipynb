{
 "cells": [
  {
   "cell_type": "markdown",
   "id": "fa33fd9f",
   "metadata": {},
   "source": [
    "# Titanic - Machine Learning from Disaster\n",
    "This is the legendary Titanic ML competition on [Kaggle](https://www.kaggle.com/c/titanic)\n",
    "\n",
    "## Goal\n",
    "To predict if a passanger survived the sinking of the Titanic or not.\n",
    "\n",
    "## Crrent Solutions\n",
    "There are dosens of solutions available on the [discussion forum](https://www.kaggle.com/c/titanic/discussion) and on the Internet.\n",
    "\n",
    "## Frame the Problem\n",
    "- Supervise learning\n",
    "- Classification\n",
    "- Binary classification (survived of not)\n",
    "- Batch learning (no continuous flow of data and the dataset is small)\n",
    "\n",
    "## Performance metrics\n",
    "The percentage of correctly predicted passengers (accuracy).\n",
    "\n",
    "There are also several useful metrics for evaluating the performance of a classification system:\n",
    "- precision,\n",
    "- recall,\n",
    "- $F_1$ score,\n",
    "- precision/recall curve,\n",
    "- ROC curve,\n",
    "- ROC AUC score.\n",
    "\n",
    "## Target performance\n",
    "The Leadedboard of this competition contains a lot of solutions with better than 0.9 score, so, \n",
    "I'm going to get 0.9 or better accuracy.\n",
    "\n",
    "## Data Dictionary\n",
    "0. **PassengerId** - Passenger ID.\n",
    "1. **Survived** - Survival:\n",
    "    - 0 = No, \n",
    "    - 1 = Yes.\n",
    "2. **Pclass** - Ticket class:\n",
    "    - 1 = 1st, \n",
    "    - 2 = 2nd, \n",
    "    - 3 = 3rd.\n",
    "3. **Name** - Passanger's name, for example, \"Braund, Mr. Owen Harris\".\n",
    "4. **Sex** - Gender:\n",
    "    - male,\n",
    "    - female.\n",
    "5. **Age** - Age in years, for example 38.0.\n",
    "6. **SibSp** - Number of siblings or spouses aboard the Titanic.\n",
    "7. **Parch** - Number of parents or children aboard the Titanic.\n",
    "8. **Ticket** - Ticket number, for example, A/5 21171.\n",
    "9. **Fare** - Passenger fare, for ecample, 71.2833.\n",
    "10. **Cabin** - Cabin number, for example, C85.\n",
    "11. **Embarked** - Port of Embarkation:\n",
    "    - C = Cherbourg,\n",
    "    - Q = Queenstown,\n",
    "    - S = Southampton.\n",
    "    \n",
    "## Variable Notes\n",
    "- **pclass**: socio-economic status\n",
    "    - *1st* = Upper\n",
    "    - *2nd* = Middle\n",
    "    - *3rd* = Lower\n",
    "- **age**: Age is fractional if less than 1. If the age is estimated, is it in the form of xx.5\n",
    "- **sibsp**: number of sibling/spouses aboard the Titanic\n",
    "    - *sibling* = brother, sister, stepbrother, stepsister\n",
    "    - *spouse* = husband, wife (mistresses and fiancés were ignored)\n",
    "- **parch**: number of parents (mother, father)/children (daughter, son, stepdauter, stepson) aboard the Titanic. Some children travelled only with a nanny, therefore parch=0 for them.\n",
    "\n",
    "## File Paths\n",
    "- **training set**: ../datasets/train.csv\n",
    "- **test set**: ../datasets/test.csv\n",
    "- **example of a submission file**: ../datasets/gender_submission.csv\n",
    "\n",
    "## Assumptions\n",
    "Women were more likely to survive than men."
   ]
  },
  {
   "cell_type": "markdown",
   "id": "e7840921",
   "metadata": {},
   "source": [
    "## Import Packages"
   ]
  },
  {
   "cell_type": "code",
   "execution_count": 1,
   "id": "a544d8b0",
   "metadata": {},
   "outputs": [],
   "source": [
    "import numpy as np\n",
    "import pandas as pd\n",
    "\n",
    "import matplotlib.pyplot as plt\n",
    "import seaborn as sns"
   ]
  },
  {
   "cell_type": "markdown",
   "id": "aeee5179",
   "metadata": {},
   "source": [
    "## Load Data\n",
    "### Traing data"
   ]
  },
  {
   "cell_type": "code",
   "execution_count": 2,
   "id": "569ff375",
   "metadata": {},
   "outputs": [],
   "source": [
    "data = pd.read_csv('../datasets/train.csv')"
   ]
  },
  {
   "cell_type": "markdown",
   "id": "ee905837",
   "metadata": {},
   "source": [
    "### Test set for submission"
   ]
  },
  {
   "cell_type": "code",
   "execution_count": 3,
   "id": "63bb8ac0",
   "metadata": {},
   "outputs": [],
   "source": [
    "submission_X = pd.read_csv('../datasets/gender_submission.csv')"
   ]
  },
  {
   "cell_type": "markdown",
   "id": "6ca4b90e",
   "metadata": {},
   "source": [
    "## Exploratory Analysis"
   ]
  }
 ],
 "metadata": {
  "kernelspec": {
   "display_name": "Python 3 (ipykernel)",
   "language": "python",
   "name": "python3"
  },
  "language_info": {
   "codemirror_mode": {
    "name": "ipython",
    "version": 3
   },
   "file_extension": ".py",
   "mimetype": "text/x-python",
   "name": "python",
   "nbconvert_exporter": "python",
   "pygments_lexer": "ipython3",
   "version": "3.9.12"
  }
 },
 "nbformat": 4,
 "nbformat_minor": 5
}
