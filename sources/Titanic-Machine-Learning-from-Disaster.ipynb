{
 "cells": [
  {
   "cell_type": "markdown",
   "id": "7ccac65e",
   "metadata": {},
   "source": [
    "# Titanic - Machine Learning from Disaster\n",
    "\n",
    "Легендарное ML-соревнование с [Kaggle](https://www.kaggle.com/c/titanic)\n",
    "\n",
    "<img src='./Titanic.jpg' width=500>\n",
    "\n",
    "Возможно, гибель Титаника - одно из самых печально известных кораблекрушений в истории. Титаник был крупнейшим действующим океанским лайнером своего времени, у него были улучшенные меры обеспечения безопасности, такие как водонепроницаемые отсеки и водонепроницаемые двери с дистанционным управлением. Корабль считался «непотопляемым», однако он затонул рано утром 15 апреля 1912 года в северной части Атлантического океана во время своего первого рейса из Саутгемптона в Нью-Йорк. В момент столкновения корабля с айсбергом на борту находились 2224 человека.\n",
    "\n",
    "В соответствии с существующей в то время практикой система спасательных шлюпок Титаника была разработана для переправки пассажиров на ближайшие спасательные суда, а не для одновременного удержания всех на плаву. Таким образом, когда корабль быстро тонул (корабль затонул за 2 часа 40 минут), а до прибытия помощи оставалось еще несколько часов, многим пассажирам и членам экипажа не хватило места на спасательных шлюпках, которых было всего 20. Плохая организация эвакуации привела к тому, что многие лодки были спущены на воду до того, как были полностью заполнены.\n",
    "\n",
    "В результате кораблекрушения погибло более 1500 человек, что сделало его одним из самых смертоносных в истории.\n",
    "\n",
    "Без сомнения, при спасении пассажиров имел место элемент удачи, но, возможно, были те, кто имели большие шансы уцелеть чем другие. [Titanic ML competition on Kaggle](https://www.kaggle.com/c/titanic) предлагает участникам предсказать кто из пассажиров пережил кораблекрушение, основываясь на сохранившихся данных о пассажирах.\n",
    "\n",
    "В Интернете можно найти десятки статей, посвященных этому соревнованию, и сотни решений этой задачи. В исследовательском анализе я во многом ориентировался на [эту статью](https://habr.com/ru/company/mlclass/blog/270973/) и позаимствовал из неё несколько идей."
   ]
  },
  {
   "cell_type": "markdown",
   "id": "c43de457",
   "metadata": {},
   "source": [
    "**Примечание**\n",
    "\n",
    "Терадка состоит из нескольких этапов, некоторые из которых могут занимать продолжительное время, поэтому будем использовать логирование с помощью библиотеки `notifiers` и чатбота в телеграм."
   ]
  },
  {
   "cell_type": "markdown",
   "id": "a1654642",
   "metadata": {
    "toc": true
   },
   "source": [
    "<h1>Содержание<span class=\"tocSkip\"></span></h1>\n",
    "<div class=\"toc\"><ul class=\"toc-item\"><li><span><a href=\"#Импорт-модулей-и-константы\" data-toc-modified-id=\"Импорт-модулей-и-константы-1\"><span class=\"toc-item-num\">1&nbsp;&nbsp;</span>Импорт модулей и константы</a></span></li><li><span><a href=\"#Настройка-логирования\" data-toc-modified-id=\"Настройка-логирования-2\"><span class=\"toc-item-num\">2&nbsp;&nbsp;</span>Настройка логирования</a></span></li><li><span><a href=\"#Описание-проекта\" data-toc-modified-id=\"Описание-проекта-3\"><span class=\"toc-item-num\">3&nbsp;&nbsp;</span>Описание проекта</a></span></li><li><span><a href=\"#Описание-данных\" data-toc-modified-id=\"Описание-данных-4\"><span class=\"toc-item-num\">4&nbsp;&nbsp;</span>Описание данных</a></span></li><li><span><a href=\"#Примечания-к-признкакм\" data-toc-modified-id=\"Примечания-к-признкакм-5\"><span class=\"toc-item-num\">5&nbsp;&nbsp;</span>Примечания к признкакм</a></span></li><li><span><a href=\"#Пути-к-файлам\" data-toc-modified-id=\"Пути-к-файлам-6\"><span class=\"toc-item-num\">6&nbsp;&nbsp;</span>Пути к файлам</a></span></li><li><span><a href=\"#Предположения\" data-toc-modified-id=\"Предположения-7\"><span class=\"toc-item-num\">7&nbsp;&nbsp;</span>Предположения</a></span></li><li><span><a href=\"#Анализ-таблицы-с-результатами-соревнований\" data-toc-modified-id=\"Анализ-таблицы-с-результатами-соревнований-8\"><span class=\"toc-item-num\">8&nbsp;&nbsp;</span>Анализ таблицы с результатами соревнований</a></span></li><li><span><a href=\"#Загрузка-данных\" data-toc-modified-id=\"Загрузка-данных-9\"><span class=\"toc-item-num\">9&nbsp;&nbsp;</span>Загрузка данных</a></span></li><li><span><a href=\"#Знакомство-с-данными\" data-toc-modified-id=\"Знакомство-с-данными-10\"><span class=\"toc-item-num\">10&nbsp;&nbsp;</span>Знакомство с данными</a></span></li><li><span><a href=\"#Разделения-на-тестовый-и-тренировочный-наборы\" data-toc-modified-id=\"Разделения-на-тестовый-и-тренировочный-наборы-11\"><span class=\"toc-item-num\">11&nbsp;&nbsp;</span>Разделения на тестовый и тренировочный наборы</a></span></li><li><span><a href=\"#Исследовательский-анализ\" data-toc-modified-id=\"Исследовательский-анализ-12\"><span class=\"toc-item-num\">12&nbsp;&nbsp;</span>Исследовательский анализ</a></span></li><li><span><a href=\"#Базовая-модель\" data-toc-modified-id=\"Базовая-модель-13\"><span class=\"toc-item-num\">13&nbsp;&nbsp;</span>Базовая модель</a></span></li><li><span><a href=\"#Подготовка-результатов-для-Kaggle\" data-toc-modified-id=\"Подготовка-результатов-для-Kaggle-14\"><span class=\"toc-item-num\">14&nbsp;&nbsp;</span>Подготовка результатов для Kaggle</a></span></li></ul></div>"
   ]
  },
  {
   "cell_type": "markdown",
   "id": "ce1b44eb",
   "metadata": {},
   "source": [
    "## Импорт модулей и константы"
   ]
  },
  {
   "cell_type": "code",
   "execution_count": 1,
   "id": "a544d8b0",
   "metadata": {},
   "outputs": [],
   "source": [
    "from category_encoders.target_encoder import TargetEncoder\n",
    "\n",
    "from joblib import Parallel, delayed, dump, load\n",
    "\n",
    "import optuna\n",
    "\n",
    "import pandas as pd\n",
    "\n",
    "import seaborn as sns\n",
    "\n",
    "from sklearn.compose import ColumnTransformer\n",
    "\n",
    "from sklearn.dummy import DummyClassifier\n",
    "\n",
    "from sklearn.ensemble import RandomForestClassifier\n",
    "\n",
    "from sklearn.feature_selection import (mutual_info_classif,\n",
    "                                       SelectKBest,\n",
    "                                      )\n",
    "\n",
    "from sklearn.impute import SimpleImputer\n",
    "\n",
    "from sklearn.neighbors import KNeighborsClassifier\n",
    "\n",
    "from sklearn.linear_model import LogisticRegression\n",
    "\n",
    "from sklearn.metrics import accuracy_score\n",
    "\n",
    "from sklearn.model_selection import (cross_val_score,\n",
    "                                     GridSearchCV,\n",
    "                                     train_test_split,\n",
    "                                    )\n",
    "\n",
    "from sklearn.pipeline import Pipeline\n",
    "\n",
    "from sklearn.preprocessing import (Binarizer, \n",
    "                                   FunctionTransformer, \n",
    "                                   KBinsDiscretizer, \n",
    "                                   StandardScaler,\n",
    "                                  )\n",
    "\n",
    "from sklearn.svm import SVC\n",
    "\n",
    "from sklearn.tree import DecisionTreeClassifier\n",
    "\n",
    "from useful_funcs import *\n",
    "\n",
    "from xgboost import XGBClassifier\n",
    "\n",
    "\n",
    "CV = 10\n",
    "N_JOBS = -1\n",
    "N_OPTIMIZATIONS = 50\n",
    "N_TRIALS = 100\n",
    "SEED = 42\n",
    "\n",
    "\n",
    "%matplotlib inline"
   ]
  },
  {
   "cell_type": "markdown",
   "id": "fdea39e1",
   "metadata": {},
   "source": [
    "## Настройка логирования"
   ]
  },
  {
   "cell_type": "code",
   "execution_count": 2,
   "id": "cb32185b",
   "metadata": {},
   "outputs": [],
   "source": [
    "set_notification = make_notifier()"
   ]
  },
  {
   "cell_type": "code",
   "execution_count": 3,
   "id": "93d73d2a",
   "metadata": {},
   "outputs": [],
   "source": [
    "set_notification('Titanic - Machine Learning from Disaster\\n\\nМодули импортированы.\\nЛогирование настроено.')"
   ]
  },
  {
   "cell_type": "markdown",
   "id": "ac481167",
   "metadata": {},
   "source": [
    "## Описание проекта\n",
    "\n",
    "**Цель** - предсказать выживет пассажир Тинтаника в кораблекрушении или нет.\n",
    "\n",
    "**Тип задачи** - классификация (бинарная классификация).\n",
    "\n",
    "**Целевая метрика** - *accuracy* (точность).\n",
    "\n",
    "**Желаемое значение целевой метрики:** Табилца с результатами соревнований содержит почти 14000 записей. \n",
    "Медианное значение точности 0.775, но менее 4% имеют резутат выше 0.8. \n",
    "Таким образом, **значение метрики accuracy больше или равное 0.8 будет отличным результатом**.\n",
    "\n",
    "**Существующие решения:** имеется огромное количество решений опубликованных в интернете и [на форуме](https://www.kaggle.com/c/titanic/discussion)\n",
    "\n",
    "## Описание данных\n",
    "0. **PassengerId** - ID пассажира.\n",
    "1. **Survived** - Выживший:\n",
    "    - 0 = Нет, \n",
    "    - 1 = Да.\n",
    "2. **Pclass** - Класс билета:\n",
    "    - 1 = первый, \n",
    "    - 2 = второй, \n",
    "    - 3 = третий.\n",
    "3. **Name** - Имя пассажира, например Braund, Mr. Owen Harris.\n",
    "4. **Sex** - Пол:\n",
    "    - male - мужчина,\n",
    "    - female - женщина.\n",
    "5. **Age** - Возраст в годах, например 38.0.\n",
    "6. **SibSp** - Количество братьев и сестер или супругов на борту Титаника.\n",
    "7. **Parch** - Количество родителей или детей на борту Титаника.\n",
    "8. **Ticket** - Номер билета, например A/5 21171.\n",
    "9. **Fare** - Стоимость билета, например 71.2833.\n",
    "10. **Cabin** - Номер каюты, напрмер C85.\n",
    "11. **Embarked** - Порт, где пассажир сел на корабль:\n",
    "    - C = Cherbourg,\n",
    "    - Q = Queenstown,\n",
    "    - S = Southampton.\n",
    "    \n",
    "**Признаки:** PassengerId, Pclass, Name, Sex, Age, SibSp, Parch, Ticket,\n",
    "Fare, Cabin, Embarked\n",
    "\n",
    "**Целевой признак** - Survived\n",
    "    \n",
    "## Примечания к признкакм\n",
    "- **pclass**: социально-экономический статус\n",
    "    - *1st* = Upper\n",
    "    - *2nd* = Middle\n",
    "    - *3rd* = Lower\n",
    "- **age**: Возраст представлен дробным значением, если он меньше 1 года. Если возрас известен, то значение имеет вид xx.5.\n",
    "- **sibsp**: Количество братьев и сестер или супругов на борту Титаника\n",
    "    - *sibling* = брат, сестра, сводный брат, сводная сестра\n",
    "    - *spouse* = муж, жена (любовницы, женихи и невесты игнорировались)\n",
    "- **parch**: количество родителей (мать, отец)/детей (дочь, сын, в т.ч. приёмные) на борту Титаника. Некоторые дети путешествовали только с няней, поэтому для них parch=0.\n",
    "\n",
    "## Пути к файлам\n",
    "- **training set**: ../datasets/train.csv - набор данных для обучения модели.\n",
    "- **test set**: ../datasets/test.csv - набор для подготовки предсказания для отправки на проверку.\n",
    "- **example of a submission file**: ../datasets/gender_submission.csv - пример данных, подготовленных для проверки. В нём значения целевой переменной расставлены случайным образом.\n",
    "\n",
    "## Предположения\n",
    "У женщин было больше шансов выжить, чем у мужчин.\n",
    "\n",
    "## Анализ таблицы с результатами соревнований\n",
    "Скачаем [таблицу с результатами соревнования](https://www.kaggle.com/competitions/titanic/leaderboard) и проанализируем результаты в ней. Таблица загружена 04.02.2023.\n",
    "\n",
    "Выведем первые 5 строк таблицы."
   ]
  },
  {
   "cell_type": "code",
   "execution_count": 4,
   "id": "a6134ed7",
   "metadata": {},
   "outputs": [
    {
     "data": {
      "text/html": [
       "<div>\n",
       "<style scoped>\n",
       "    .dataframe tbody tr th:only-of-type {\n",
       "        vertical-align: middle;\n",
       "    }\n",
       "\n",
       "    .dataframe tbody tr th {\n",
       "        vertical-align: top;\n",
       "    }\n",
       "\n",
       "    .dataframe thead th {\n",
       "        text-align: right;\n",
       "    }\n",
       "</style>\n",
       "<table border=\"1\" class=\"dataframe\">\n",
       "  <thead>\n",
       "    <tr style=\"text-align: right;\">\n",
       "      <th></th>\n",
       "      <th>TeamId</th>\n",
       "      <th>TeamName</th>\n",
       "      <th>SubmissionDate</th>\n",
       "      <th>Score</th>\n",
       "    </tr>\n",
       "  </thead>\n",
       "  <tbody>\n",
       "    <tr>\n",
       "      <th>0</th>\n",
       "      <td>221819</td>\n",
       "      <td>https://bit.ly/TryPrevisionIO</td>\n",
       "      <td>2022-12-06 07:04:39</td>\n",
       "      <td>1.0</td>\n",
       "    </tr>\n",
       "    <tr>\n",
       "      <th>1</th>\n",
       "      <td>9577831</td>\n",
       "      <td>DANUSHKUMAR. V</td>\n",
       "      <td>2022-12-06 15:05:10</td>\n",
       "      <td>1.0</td>\n",
       "    </tr>\n",
       "    <tr>\n",
       "      <th>2</th>\n",
       "      <td>7943932</td>\n",
       "      <td>Aleksei Fomin</td>\n",
       "      <td>2023-01-28 09:24:51</td>\n",
       "      <td>1.0</td>\n",
       "    </tr>\n",
       "    <tr>\n",
       "      <th>3</th>\n",
       "      <td>9583552</td>\n",
       "      <td>sdg888</td>\n",
       "      <td>2022-12-07 16:17:33</td>\n",
       "      <td>1.0</td>\n",
       "    </tr>\n",
       "    <tr>\n",
       "      <th>4</th>\n",
       "      <td>9584744</td>\n",
       "      <td>TJ Carpenter</td>\n",
       "      <td>2022-12-08 17:28:28</td>\n",
       "      <td>1.0</td>\n",
       "    </tr>\n",
       "  </tbody>\n",
       "</table>\n",
       "</div>"
      ],
      "text/plain": [
       "    TeamId                       TeamName       SubmissionDate  Score\n",
       "0   221819  https://bit.ly/TryPrevisionIO  2022-12-06 07:04:39    1.0\n",
       "1  9577831                 DANUSHKUMAR. V  2022-12-06 15:05:10    1.0\n",
       "2  7943932                  Aleksei Fomin  2023-01-28 09:24:51    1.0\n",
       "3  9583552                         sdg888  2022-12-07 16:17:33    1.0\n",
       "4  9584744                   TJ Carpenter  2022-12-08 17:28:28    1.0"
      ]
     },
     "execution_count": 4,
     "metadata": {},
     "output_type": "execute_result"
    }
   ],
   "source": [
    "leaderboard = pd.read_csv('../datasets/titanic-publicleaderboard.csv')\n",
    "leaderboard.head()"
   ]
  },
  {
   "cell_type": "markdown",
   "id": "05aa6b56",
   "metadata": {},
   "source": [
    "Неожиданно в начале таблицы оказались результаты с точностью (метрика *accuracy*) равной 1. Неужели авторы смогли достичь совершенства?\n",
    "\n",
    "Посчитаем описательные статистики для результатов приведённых в таблице (столбец `Score`)."
   ]
  },
  {
   "cell_type": "code",
   "execution_count": 5,
   "id": "149ff572",
   "metadata": {
    "scrolled": true
   },
   "outputs": [
    {
     "data": {
      "text/plain": [
       "count    14118.000000\n",
       "mean         0.759704\n",
       "std          0.078944\n",
       "min          0.000000\n",
       "25%          0.765550\n",
       "50%          0.775110\n",
       "75%          0.777510\n",
       "max          1.000000\n",
       "Name: Score, dtype: float64"
      ]
     },
     "execution_count": 5,
     "metadata": {},
     "output_type": "execute_result"
    }
   ],
   "source": [
    "leaderboard.Score.describe()"
   ]
  },
  {
   "cell_type": "markdown",
   "id": "f927a1d3",
   "metadata": {},
   "source": [
    "Посчитаем процент участников показавших результат лучше 0.8."
   ]
  },
  {
   "cell_type": "code",
   "execution_count": 6,
   "id": "8d1aec8a",
   "metadata": {},
   "outputs": [
    {
     "name": "stdout",
     "output_type": "stream",
     "text": [
      "Только 3.24% участников показали результат лучше 0.8\n"
     ]
    }
   ],
   "source": [
    "print(f'Только {1 - percentileofscore(leaderboard.Score, 0.8) / 100 :.2%} участников показали результат лучше 0.8')"
   ]
  },
  {
   "cell_type": "markdown",
   "id": "9825cefd",
   "metadata": {},
   "source": [
    "Таким образом, **значение метрики accuracy больше или равное 0.8 будет отличным результатом**.\n",
    "\n",
    "Построим функцию распределения (ECDF) вероятности результатов участников. Красным отметим желаемое значение целевой метрики."
   ]
  },
  {
   "cell_type": "code",
   "execution_count": 7,
   "id": "9993b00f",
   "metadata": {},
   "outputs": [
    {
     "data": {
      "image/png": "[encoded data removed]",
      "text/plain": [
       "<Figure size 500x500 with 1 Axes>"
      ]
     },
     "metadata": {},
     "output_type": "display_data"
    }
   ],
   "source": [
    "plot_ecdf_with_target(leaderboard.Score, 0.8)"
   ]
  },
  {
   "cell_type": "markdown",
   "id": "044471d5",
   "metadata": {},
   "source": [
    "Построим плотность распределения вероятности получения определённого результата соревнования. Красной стрелкой отметим результаты равные 1.0 ."
   ]
  },
  {
   "cell_type": "code",
   "execution_count": 8,
   "id": "72724af5",
   "metadata": {
    "scrolled": false
   },
   "outputs": [
    {
     "data": {
      "image/png": "[encoded data removed]",
      "text/plain": [
       "<Figure size 500x500 with 1 Axes>"
      ]
     },
     "metadata": {},
     "output_type": "display_data"
    }
   ],
   "source": [
    "sns.displot(leaderboard, x='Score', kind='kde')\n",
    "\n",
    "plt.arrow(x=1.0, y=5, dx=0, dy=-3.5, width=0.01, head_width=0.04, head_length=0.8, color='r')\n",
    "plt.title(\"KDE результатов соревнования\")\n",
    "plt.grid()\n",
    "\n",
    "plt.show()"
   ]
  },
  {
   "cell_type": "markdown",
   "id": "f3cb443a",
   "metadata": {},
   "source": [
    "Возможно, решения с \"совершенным\" результатом появились из-за того, что на [GitHub](https://github.com/thisisjasonjafari/my-datascientise-handcode/raw/master/005-datavisualization/titanic.csv) есть точное решение задачи соревнования. Вполен возможно, что выложены данные, извлечённые из [Encyclopedia Titanica](https://www.encyclopedia-titanica.org/titanic-survivors/) или из [OpenML](https://www.openml.org/search?type=data&sort=runs&id=40945&status=active).\n",
    "\n",
    "Некоторые авторы в своих тетрадках честно предупреждают других пользователей о наличии такой возможности, например [вот этот](https://www.kaggle.com/code/suzukifelipe/how-to-be-a-top-lb-explained-for-beginners/notebook?scriptVersionId=99817039).\n",
    "\n",
    "Приступим к решению задачи."
   ]
  },
  {
   "cell_type": "code",
   "execution_count": 9,
   "id": "c63ed487",
   "metadata": {},
   "outputs": [],
   "source": [
    "set_notification('Выполнен анализ таблицы с результатами соревнования.')"
   ]
  },
  {
   "cell_type": "markdown",
   "id": "aeee5179",
   "metadata": {},
   "source": [
    "## Загрузка данных\n",
    "Загрузим набор данных для разработки модели. Далее будем работать с этим набором данных."
   ]
  },
  {
   "cell_type": "code",
   "execution_count": 10,
   "id": "569ff375",
   "metadata": {},
   "outputs": [],
   "source": [
    "data = pd.read_csv('../datasets/train.csv')"
   ]
  },
  {
   "cell_type": "markdown",
   "id": "ee905837",
   "metadata": {},
   "source": [
    "Загрузим набор признкаов для отправки результатов на проверку. Отложим этот набор."
   ]
  },
  {
   "cell_type": "code",
   "execution_count": 11,
   "id": "63bb8ac0",
   "metadata": {},
   "outputs": [],
   "source": [
    "submission_X = pd.read_csv('../datasets/test.csv')"
   ]
  },
  {
   "cell_type": "code",
   "execution_count": 12,
   "id": "22e7080f",
   "metadata": {},
   "outputs": [],
   "source": [
    "set_notification('Выполнена загрузка данных.')"
   ]
  },
  {
   "cell_type": "markdown",
   "id": "6ca4b90e",
   "metadata": {},
   "source": [
    "## Знакомство с данными\n",
    "Выведем форму датасета."
   ]
  },
  {
   "cell_type": "code",
   "execution_count": 13,
   "id": "4f1f5585",
   "metadata": {},
   "outputs": [
    {
     "name": "stdout",
     "output_type": "stream",
     "text": [
      "Датасет содержит 891 строку и 12 столбцов.\n"
     ]
    }
   ],
   "source": [
    "print(f'Датасет содержит {data.shape[0]} строку и {data.shape[1]} столбцов.')"
   ]
  },
  {
   "cell_type": "markdown",
   "id": "ce52dece",
   "metadata": {},
   "source": [
    "Выведем на экран первые 10 строк датасета"
   ]
  },
  {
   "cell_type": "code",
   "execution_count": 14,
   "id": "2a6f6e57",
   "metadata": {
    "scrolled": false
   },
   "outputs": [
    {
     "data": {
      "text/html": [
       "<div>\n",
       "<style scoped>\n",
       "    .dataframe tbody tr th:only-of-type {\n",
       "        vertical-align: middle;\n",
       "    }\n",
       "\n",
       "    .dataframe tbody tr th {\n",
       "        vertical-align: top;\n",
       "    }\n",
       "\n",
       "    .dataframe thead th {\n",
       "        text-align: right;\n",
       "    }\n",
       "</style>\n",
       "<table border=\"1\" class=\"dataframe\">\n",
       "  <thead>\n",
       "    <tr style=\"text-align: right;\">\n",
       "      <th></th>\n",
       "      <th>PassengerId</th>\n",
       "      <th>Survived</th>\n",
       "      <th>Pclass</th>\n",
       "      <th>Name</th>\n",
       "      <th>Sex</th>\n",
       "      <th>Age</th>\n",
       "      <th>SibSp</th>\n",
       "      <th>Parch</th>\n",
       "      <th>Ticket</th>\n",
       "      <th>Fare</th>\n",
       "      <th>Cabin</th>\n",
       "      <th>Embarked</th>\n",
       "    </tr>\n",
       "  </thead>\n",
       "  <tbody>\n",
       "    <tr>\n",
       "      <th>0</th>\n",
       "      <td>1</td>\n",
       "      <td>0</td>\n",
       "      <td>3</td>\n",
       "      <td>Braund, Mr. Owen Harris</td>\n",
       "      <td>male</td>\n",
       "      <td>22.0</td>\n",
       "      <td>1</td>\n",
       "      <td>0</td>\n",
       "      <td>A/5 21171</td>\n",
       "      <td>7.2500</td>\n",
       "      <td>NaN</td>\n",
       "      <td>S</td>\n",
       "    </tr>\n",
       "    <tr>\n",
       "      <th>1</th>\n",
       "      <td>2</td>\n",
       "      <td>1</td>\n",
       "      <td>1</td>\n",
       "      <td>Cumings, Mrs. John Bradley (Florence Briggs Th...</td>\n",
       "      <td>female</td>\n",
       "      <td>38.0</td>\n",
       "      <td>1</td>\n",
       "      <td>0</td>\n",
       "      <td>PC 17599</td>\n",
       "      <td>71.2833</td>\n",
       "      <td>C85</td>\n",
       "      <td>C</td>\n",
       "    </tr>\n",
       "    <tr>\n",
       "      <th>2</th>\n",
       "      <td>3</td>\n",
       "      <td>1</td>\n",
       "      <td>3</td>\n",
       "      <td>Heikkinen, Miss. Laina</td>\n",
       "      <td>female</td>\n",
       "      <td>26.0</td>\n",
       "      <td>0</td>\n",
       "      <td>0</td>\n",
       "      <td>STON/O2. 3101282</td>\n",
       "      <td>7.9250</td>\n",
       "      <td>NaN</td>\n",
       "      <td>S</td>\n",
       "    </tr>\n",
       "    <tr>\n",
       "      <th>3</th>\n",
       "      <td>4</td>\n",
       "      <td>1</td>\n",
       "      <td>1</td>\n",
       "      <td>Futrelle, Mrs. Jacques Heath (Lily May Peel)</td>\n",
       "      <td>female</td>\n",
       "      <td>35.0</td>\n",
       "      <td>1</td>\n",
       "      <td>0</td>\n",
       "      <td>113803</td>\n",
       "      <td>53.1000</td>\n",
       "      <td>C123</td>\n",
       "      <td>S</td>\n",
       "    </tr>\n",
       "    <tr>\n",
       "      <th>4</th>\n",
       "      <td>5</td>\n",
       "      <td>0</td>\n",
       "      <td>3</td>\n",
       "      <td>Allen, Mr. William Henry</td>\n",
       "      <td>male</td>\n",
       "      <td>35.0</td>\n",
       "      <td>0</td>\n",
       "      <td>0</td>\n",
       "      <td>373450</td>\n",
       "      <td>8.0500</td>\n",
       "      <td>NaN</td>\n",
       "      <td>S</td>\n",
       "    </tr>\n",
       "    <tr>\n",
       "      <th>5</th>\n",
       "      <td>6</td>\n",
       "      <td>0</td>\n",
       "      <td>3</td>\n",
       "      <td>Moran, Mr. James</td>\n",
       "      <td>male</td>\n",
       "      <td>NaN</td>\n",
       "      <td>0</td>\n",
       "      <td>0</td>\n",
       "      <td>330877</td>\n",
       "      <td>8.4583</td>\n",
       "      <td>NaN</td>\n",
       "      <td>Q</td>\n",
       "    </tr>\n",
       "    <tr>\n",
       "      <th>6</th>\n",
       "      <td>7</td>\n",
       "      <td>0</td>\n",
       "      <td>1</td>\n",
       "      <td>McCarthy, Mr. Timothy J</td>\n",
       "      <td>male</td>\n",
       "      <td>54.0</td>\n",
       "      <td>0</td>\n",
       "      <td>0</td>\n",
       "      <td>17463</td>\n",
       "      <td>51.8625</td>\n",
       "      <td>E46</td>\n",
       "      <td>S</td>\n",
       "    </tr>\n",
       "    <tr>\n",
       "      <th>7</th>\n",
       "      <td>8</td>\n",
       "      <td>0</td>\n",
       "      <td>3</td>\n",
       "      <td>Palsson, Master. Gosta Leonard</td>\n",
       "      <td>male</td>\n",
       "      <td>2.0</td>\n",
       "      <td>3</td>\n",
       "      <td>1</td>\n",
       "      <td>349909</td>\n",
       "      <td>21.0750</td>\n",
       "      <td>NaN</td>\n",
       "      <td>S</td>\n",
       "    </tr>\n",
       "    <tr>\n",
       "      <th>8</th>\n",
       "      <td>9</td>\n",
       "      <td>1</td>\n",
       "      <td>3</td>\n",
       "      <td>Johnson, Mrs. Oscar W (Elisabeth Vilhelmina Berg)</td>\n",
       "      <td>female</td>\n",
       "      <td>27.0</td>\n",
       "      <td>0</td>\n",
       "      <td>2</td>\n",
       "      <td>347742</td>\n",
       "      <td>11.1333</td>\n",
       "      <td>NaN</td>\n",
       "      <td>S</td>\n",
       "    </tr>\n",
       "    <tr>\n",
       "      <th>9</th>\n",
       "      <td>10</td>\n",
       "      <td>1</td>\n",
       "      <td>2</td>\n",
       "      <td>Nasser, Mrs. Nicholas (Adele Achem)</td>\n",
       "      <td>female</td>\n",
       "      <td>14.0</td>\n",
       "      <td>1</td>\n",
       "      <td>0</td>\n",
       "      <td>237736</td>\n",
       "      <td>30.0708</td>\n",
       "      <td>NaN</td>\n",
       "      <td>C</td>\n",
       "    </tr>\n",
       "  </tbody>\n",
       "</table>\n",
       "</div>"
      ],
      "text/plain": [
       "   PassengerId  Survived  Pclass   \n",
       "0            1         0       3  \\\n",
       "1            2         1       1   \n",
       "2            3         1       3   \n",
       "3            4         1       1   \n",
       "4            5         0       3   \n",
       "5            6         0       3   \n",
       "6            7         0       1   \n",
       "7            8         0       3   \n",
       "8            9         1       3   \n",
       "9           10         1       2   \n",
       "\n",
       "                                                Name     Sex   Age  SibSp   \n",
       "0                            Braund, Mr. Owen Harris    male  22.0      1  \\\n",
       "1  Cumings, Mrs. John Bradley (Florence Briggs Th...  female  38.0      1   \n",
       "2                             Heikkinen, Miss. Laina  female  26.0      0   \n",
       "3       Futrelle, Mrs. Jacques Heath (Lily May Peel)  female  35.0      1   \n",
       "4                           Allen, Mr. William Henry    male  35.0      0   \n",
       "5                                   Moran, Mr. James    male   NaN      0   \n",
       "6                            McCarthy, Mr. Timothy J    male  54.0      0   \n",
       "7                     Palsson, Master. Gosta Leonard    male   2.0      3   \n",
       "8  Johnson, Mrs. Oscar W (Elisabeth Vilhelmina Berg)  female  27.0      0   \n",
       "9                Nasser, Mrs. Nicholas (Adele Achem)  female  14.0      1   \n",
       "\n",
       "   Parch            Ticket     Fare Cabin Embarked  \n",
       "0      0         A/5 21171   7.2500   NaN        S  \n",
       "1      0          PC 17599  71.2833   C85        C  \n",
       "2      0  STON/O2. 3101282   7.9250   NaN        S  \n",
       "3      0            113803  53.1000  C123        S  \n",
       "4      0            373450   8.0500   NaN        S  \n",
       "5      0            330877   8.4583   NaN        Q  \n",
       "6      0             17463  51.8625   E46        S  \n",
       "7      1            349909  21.0750   NaN        S  \n",
       "8      2            347742  11.1333   NaN        S  \n",
       "9      0            237736  30.0708   NaN        C  "
      ]
     },
     "execution_count": 14,
     "metadata": {},
     "output_type": "execute_result"
    }
   ],
   "source": [
    "data.head(10)"
   ]
  },
  {
   "cell_type": "markdown",
   "id": "4edbe7da",
   "metadata": {},
   "source": [
    "Проверим типы данных признаков и наличие пропусков"
   ]
  },
  {
   "cell_type": "code",
   "execution_count": 15,
   "id": "b5e32b91",
   "metadata": {},
   "outputs": [
    {
     "name": "stdout",
     "output_type": "stream",
     "text": [
      "<class 'pandas.core.frame.DataFrame'>\n",
      "RangeIndex: 891 entries, 0 to 890\n",
      "Data columns (total 12 columns):\n",
      " #   Column       Non-Null Count  Dtype  \n",
      "---  ------       --------------  -----  \n",
      " 0   PassengerId  891 non-null    int64  \n",
      " 1   Survived     891 non-null    int64  \n",
      " 2   Pclass       891 non-null    int64  \n",
      " 3   Name         891 non-null    object \n",
      " 4   Sex          891 non-null    object \n",
      " 5   Age          714 non-null    float64\n",
      " 6   SibSp        891 non-null    int64  \n",
      " 7   Parch        891 non-null    int64  \n",
      " 8   Ticket       891 non-null    object \n",
      " 9   Fare         891 non-null    float64\n",
      " 10  Cabin        204 non-null    object \n",
      " 11  Embarked     889 non-null    object \n",
      "dtypes: float64(2), int64(5), object(5)\n",
      "memory usage: 83.7+ KB\n"
     ]
    }
   ],
   "source": [
    "data.info()"
   ]
  },
  {
   "cell_type": "markdown",
   "id": "17768384",
   "metadata": {},
   "source": [
    "Столбцы `Age`, `Cabin`, `Embarked` содержат пропуски, причём, в столбце `Cabin` пропусков большинство."
   ]
  },
  {
   "cell_type": "markdown",
   "id": "9bbbe0c8",
   "metadata": {},
   "source": [
    "Проверим есть ли дисбаланс классов целевой переменной."
   ]
  },
  {
   "cell_type": "code",
   "execution_count": 16,
   "id": "de3ba29a",
   "metadata": {},
   "outputs": [
    {
     "name": "stdout",
     "output_type": "stream",
     "text": [
      "Доля выживших пассажиров -  38.38%\n",
      "Доля погибших пассажиров -  61.62%\n"
     ]
    }
   ],
   "source": [
    "check_target_imbalance(data.Survived)"
   ]
  },
  {
   "cell_type": "markdown",
   "id": "0c2ba008",
   "metadata": {},
   "source": [
    "В датасете есть дисбаланс классов, поэтому будем использовать стратификацию при разделении на тренировочный и тестовый наборы. Дисбаланс небольшой, и он, скорее всего, отражает объективную реальность, а не является результатом несовершенства сбора данных, поэтому пока оставим его как есть. \n",
    "\n",
    "Конечно, может оказаться, что применение какой-либо техники для борьбы с дисбалансом, например апсемплинга, может привести к улучшению результатов.\n",
    "\n",
    "Проверим наличие дубликатов в наборе данных."
   ]
  },
  {
   "cell_type": "code",
   "execution_count": 17,
   "id": "b5fd163c",
   "metadata": {},
   "outputs": [
    {
     "name": "stdout",
     "output_type": "stream",
     "text": [
      "Дубликаты не обнаружены.\n"
     ]
    }
   ],
   "source": [
    "if data.duplicated().any():\n",
    "    print('В данных есть дубликаты!')\n",
    "else:\n",
    "    print('Дубликаты не обнаружены.')"
   ]
  },
  {
   "cell_type": "code",
   "execution_count": 18,
   "id": "306a5ff3",
   "metadata": {},
   "outputs": [],
   "source": [
    "set_notification('Выполнено знакомство с данными.')"
   ]
  },
  {
   "cell_type": "markdown",
   "id": "f19ae8bd",
   "metadata": {},
   "source": [
    "## Разделения на тестовый и тренировочный наборы\n",
    "Чтобы обучить модель и спрогнозировать точность её предсказаний на новых данных (результат соревнования) необходимо разделить данные на тестовый и тренировочный наборы. При разделении будем делать стратификацию по целевому признаку."
   ]
  },
  {
   "cell_type": "code",
   "execution_count": 19,
   "id": "81368515",
   "metadata": {},
   "outputs": [],
   "source": [
    "X = data.drop(columns = 'Survived')\n",
    "y = data.Survived.copy()\n",
    "\n",
    "X_train, X_test, y_train, y_test = train_test_split(X, y, test_size=0.2, random_state=SEED, stratify=y)"
   ]
  },
  {
   "cell_type": "markdown",
   "id": "3660394e",
   "metadata": {},
   "source": [
    "Проверим дисбаланс классов в тренировочной выборке"
   ]
  },
  {
   "cell_type": "code",
   "execution_count": 20,
   "id": "4282f3e5",
   "metadata": {},
   "outputs": [
    {
     "name": "stdout",
     "output_type": "stream",
     "text": [
      "Доля выживших пассажиров -  38.34%\n",
      "Доля погибших пассажиров -  61.66%\n"
     ]
    }
   ],
   "source": [
    "check_target_imbalance(y_train)"
   ]
  },
  {
   "cell_type": "markdown",
   "id": "58afcdb1",
   "metadata": {},
   "source": [
    "Проверим дисбаланс классов в тестовой выборке"
   ]
  },
  {
   "cell_type": "code",
   "execution_count": 21,
   "id": "78bc6915",
   "metadata": {},
   "outputs": [
    {
     "name": "stdout",
     "output_type": "stream",
     "text": [
      "Доля выживших пассажиров -  38.55%\n",
      "Доля погибших пассажиров -  61.45%\n"
     ]
    }
   ],
   "source": [
    "check_target_imbalance(y_test)"
   ]
  },
  {
   "cell_type": "markdown",
   "id": "4002a363",
   "metadata": {},
   "source": [
    "Пропорции приблизительно одинаковые."
   ]
  },
  {
   "cell_type": "code",
   "execution_count": 22,
   "id": "fcc18bd7",
   "metadata": {},
   "outputs": [],
   "source": [
    "set_notification('Данные разделены на тестовый и тренировочный наборы.')"
   ]
  },
  {
   "cell_type": "markdown",
   "id": "59498a7e",
   "metadata": {},
   "source": [
    "Сохраним тренировочный набор для использования в других тетрадках."
   ]
  },
  {
   "cell_type": "code",
   "execution_count": 23,
   "id": "6e36f963",
   "metadata": {},
   "outputs": [
    {
     "data": {
      "text/plain": [
       "['train_set.joblib']"
      ]
     },
     "execution_count": 23,
     "metadata": {},
     "output_type": "execute_result"
    }
   ],
   "source": [
    "dump(\n",
    "    value=(X_train, y_train),\n",
    "    filename='train_set.joblib'\n",
    ")"
   ]
  },
  {
   "cell_type": "markdown",
   "id": "28dfe79d",
   "metadata": {},
   "source": [
    "Сохраним тестовый набор для использования в других тетрадках."
   ]
  },
  {
   "cell_type": "code",
   "execution_count": 24,
   "id": "0f56dc89",
   "metadata": {},
   "outputs": [
    {
     "data": {
      "text/plain": [
       "['test_set.joblib']"
      ]
     },
     "execution_count": 24,
     "metadata": {},
     "output_type": "execute_result"
    }
   ],
   "source": [
    "dump(\n",
    "    value=(X_test, y_test),\n",
    "    filename='test_set.joblib'\n",
    ")"
   ]
  },
  {
   "cell_type": "markdown",
   "id": "29eedbca",
   "metadata": {},
   "source": [
    "## Исследовательский анализ\n",
    "\n",
    "Исследовательский анализ данных собран в отдельной [тетрадке](EDA.ipynb).\n",
    "\n",
    "**Ниже повторим основные выводы из исследовательского анализа:**\n",
    "1. Присутствует дисбаланс классов\n",
    "1. Требуется кодирование категориальных признаков\n",
    "1. Требуется удаление неинформативных признаков\n",
    "1. Требуется обработка пропусков\n",
    "1. Требуется стандартизация данных\n",
    "1. К исследовательскому набору были добавлены новые признаки, информативность которых еще предстоит оценить:\n",
    "    - `Title`\n",
    "    - `AgeGroup`\n",
    "    - `Family`\n",
    "    - `isFamily`\n",
    "    - `FareGroup`\n",
    "    - `Cabin`\n",
    "    - `Ticket`\n",
    "1. Возможно наличие корреляции между добавленными и имевшимися признаками\n",
    "\n",
    "На первый взгляд, очень важными признаками являются класс билета `Pclass` и пол `Sex` пассажира. Могут оказаться полезны признаки `Title`, `AgeGroup`, `isFamily`. Возможно, окажутся информативны `FareGroup` и `isCabin`. Проверим это предположение после обработки данных.\n",
    "\n",
    "Отметим что женщины имели более высокие шансы спастись, чем мужчины, и что в данных нет явных сведений о том, что более молодые пассажиры имели больше шансов выжить, однако, может оказаться, что некоторые возрастные группы имели больше шансов спастись."
   ]
  },
  {
   "cell_type": "markdown",
   "id": "d3f8e6c7",
   "metadata": {},
   "source": [
    "## Базовая модель"
   ]
  },
  {
   "cell_type": "markdown",
   "id": "5152f40f",
   "metadata": {},
   "source": [
    "В качестве базовой модели выбран `XGBClassifier` с предварительной обработкой данных, подробнее в [тетрадке](Baseline.ipynb). \n",
    "\n",
    "Для базовой модели среднее значение метрики `accuracy` на кросс-валидации приблизительно равно **0.834**. На тестовом множестве `accuracy` приблизительно равно **0.777**. Модель демонстрирует **небольшой оверфитинг** и показывает результат сравнимый с результатом логистической регрессии.\n",
    "\n",
    "Будем стараться улучшить полученный результат, при этом больше не будем обращаться к тестовому множеству, пока не получим финальную модель, чтобы избежать излишней адаптации под тестовый набор."
   ]
  },
  {
   "cell_type": "markdown",
   "id": "1727f5f3",
   "metadata": {},
   "source": [
    "## Подготовка результатов для Kaggle\n",
    "Подготовим данные для отправки на Kaggle."
   ]
  },
  {
   "cell_type": "code",
   "execution_count": null,
   "id": "1c839a9f",
   "metadata": {},
   "outputs": [],
   "source": []
  },
  {
   "cell_type": "code",
   "execution_count": null,
   "id": "66467cbc",
   "metadata": {},
   "outputs": [],
   "source": []
  },
  {
   "cell_type": "code",
   "execution_count": null,
   "id": "af0c6cda",
   "metadata": {},
   "outputs": [],
   "source": []
  },
  {
   "cell_type": "code",
   "execution_count": null,
   "id": "21947ce1",
   "metadata": {},
   "outputs": [],
   "source": []
  },
  {
   "cell_type": "code",
   "execution_count": null,
   "id": "07e1fdc4",
   "metadata": {},
   "outputs": [],
   "source": []
  },
  {
   "cell_type": "markdown",
   "id": "f2f4bacc",
   "metadata": {},
   "source": [
    "```Python\n",
    "model.fit(X, y)\n",
    "\n",
    "display(submission_X.head())\n",
    "\n",
    "submission_y = model.predict(submission_X)\n",
    "\n",
    "\n",
    "submission = pd.DataFrame({'PassengerId': submission_X.PassengerId,\n",
    "                           'Survived': submission_y,\n",
    "                          }\n",
    "                         )\n",
    "\n",
    "display(submission.head())\n",
    "\n",
    "\n",
    "submission.to_csv('submission.csv', index=False)\n",
    "```"
   ]
  },
  {
   "cell_type": "markdown",
   "id": "5d46c9fe",
   "metadata": {},
   "source": [
    "```Python\n",
    "set_notification('Подготовлены данные для отправки на Kaggle.')\n",
    "```"
   ]
  },
  {
   "cell_type": "markdown",
   "id": "c741f79c",
   "metadata": {},
   "source": [
    "После отправки платформа сообщила о следующем результате:\n",
    "![Результат на Kaggle](scores_on_kaggle.PNG)\n",
    "\n",
    "Довольно скромный результат, возможно, однажды его получится улучшить :)"
   ]
  }
 ],
 "metadata": {
  "kernelspec": {
   "display_name": "Python 3 (ipykernel)",
   "language": "python",
   "name": "python3"
  },
  "language_info": {
   "codemirror_mode": {
    "name": "ipython",
    "version": 3
   },
   "file_extension": ".py",
   "mimetype": "text/x-python",
   "name": "python",
   "nbconvert_exporter": "python",
   "pygments_lexer": "ipython3",
   "version": "3.9.16"
  },
  "toc": {
   "base_numbering": 1,
   "nav_menu": {
    "height": "741px",
    "width": "447px"
   },
   "number_sections": true,
   "sideBar": true,
   "skip_h1_title": true,
   "title_cell": "Содержание",
   "title_sidebar": "Содержание",
   "toc_cell": true,
   "toc_position": {
    "height": "541.594px",
    "left": "25px",
    "top": "110.229px",
    "width": "276.641px"
   },
   "toc_section_display": true,
   "toc_window_display": true
  }
 },
 "nbformat": 4,
 "nbformat_minor": 5
}
