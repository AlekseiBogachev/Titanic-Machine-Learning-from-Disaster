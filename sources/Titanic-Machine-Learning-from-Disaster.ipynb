{
 "cells": [
  {
   "cell_type": "code",
   "execution_count": 1,
   "id": "a544d8b0",
   "metadata": {},
   "outputs": [],
   "source": [
    "import numpy as np\n",
    "import pandas as pd\n",
    "\n",
    "import matplotlib as mpl\n",
    "import matplotlib.pyplot as plt\n",
    "import seaborn as sns\n",
    "\n",
    "sns.set_style(\"whitegrid\")\n",
    "mpl.rc('axes', labelsize=16)\n",
    "mpl.rc('axes', titlesize=18)\n",
    "mpl.rc('xtick', labelsize=14)\n",
    "mpl.rc('ytick', labelsize=14)\n",
    "mpl.rc('legend', fontsize=14)\n",
    "mpl.rc('legend', title_fontsize=16)\n",
    "%matplotlib inline\n",
    "\n",
    "from sklearn.model_selection import StratifiedShuffleSplit\n",
    "from sklearn.feature_selection import mutual_info_classif\n",
    "\n",
    "from scipy.stats import percentileofscore"
   ]
  },
  {
   "cell_type": "markdown",
   "id": "fa33fd9f",
   "metadata": {},
   "source": [
    "# Titanic - Machine Learning from Disaster\n",
    "This is the legendary Titanic ML competition on [Kaggle](https://www.kaggle.com/c/titanic)\n",
    "\n",
    "## Goal\n",
    "To predict if a passanger survived the sinking of the Titanic or not.\n",
    "\n",
    "## Crrent Solutions\n",
    "There are dosens of solutions available on the [discussion forum](https://www.kaggle.com/c/titanic/discussion) and on the Internet.\n",
    "\n",
    "## Frame the Problem\n",
    "- Supervised learning\n",
    "- Classification\n",
    "- Binary classification (survived of not)\n",
    "- Batch learning (no continuous flow of data and the dataset is small)\n",
    "\n",
    "## Performance metrics\n",
    "**The percentage of correctly predicted passengers** (accuracy).\n",
    "\n",
    "There are also several useful metrics for evaluating the performance of a classification system:\n",
    "- precision,\n",
    "- recall,\n",
    "- $F_1$ score,\n",
    "- precision/recall curve,\n",
    "- ROC curve,\n",
    "- ROC AUC score."
   ]
  },
  {
   "cell_type": "markdown",
   "id": "7d687f0c",
   "metadata": {},
   "source": [
    "## Target performance\n",
    "The leaderboard of this competition contains almost 14000 entries. \n",
    "The median score is about 0.775, but less than 3% of the solutions have a score above 0.8. \n",
    "Thus, **an accuracy score equal to or greater than 0.8 would be a very good result**."
   ]
  },
  {
   "cell_type": "code",
   "execution_count": 2,
   "id": "a6134ed7",
   "metadata": {},
   "outputs": [
    {
     "data": {
      "text/html": [
       "<div>\n",
       "<style scoped>\n",
       "    .dataframe tbody tr th:only-of-type {\n",
       "        vertical-align: middle;\n",
       "    }\n",
       "\n",
       "    .dataframe tbody tr th {\n",
       "        vertical-align: top;\n",
       "    }\n",
       "\n",
       "    .dataframe thead th {\n",
       "        text-align: right;\n",
       "    }\n",
       "</style>\n",
       "<table border=\"1\" class=\"dataframe\">\n",
       "  <thead>\n",
       "    <tr style=\"text-align: right;\">\n",
       "      <th></th>\n",
       "      <th>TeamId</th>\n",
       "      <th>TeamName</th>\n",
       "      <th>SubmissionDate</th>\n",
       "      <th>Score</th>\n",
       "    </tr>\n",
       "  </thead>\n",
       "  <tbody>\n",
       "    <tr>\n",
       "      <th>0</th>\n",
       "      <td>6987444</td>\n",
       "      <td>no name</td>\n",
       "      <td>2022-08-23 18:16:28</td>\n",
       "      <td>1.0</td>\n",
       "    </tr>\n",
       "    <tr>\n",
       "      <th>1</th>\n",
       "      <td>720238</td>\n",
       "      <td>rosh</td>\n",
       "      <td>2022-06-26 10:58:42</td>\n",
       "      <td>1.0</td>\n",
       "    </tr>\n",
       "    <tr>\n",
       "      <th>2</th>\n",
       "      <td>8814675</td>\n",
       "      <td>nikolai otvetchikov #2</td>\n",
       "      <td>2022-06-26 13:59:39</td>\n",
       "      <td>1.0</td>\n",
       "    </tr>\n",
       "    <tr>\n",
       "      <th>3</th>\n",
       "      <td>8821160</td>\n",
       "      <td>Vibhav Rathkanthiwar</td>\n",
       "      <td>2022-06-26 15:28:12</td>\n",
       "      <td>1.0</td>\n",
       "    </tr>\n",
       "    <tr>\n",
       "      <th>4</th>\n",
       "      <td>6590016</td>\n",
       "      <td>Osman Altuntas</td>\n",
       "      <td>2022-07-24 15:40:15</td>\n",
       "      <td>1.0</td>\n",
       "    </tr>\n",
       "  </tbody>\n",
       "</table>\n",
       "</div>"
      ],
      "text/plain": [
       "    TeamId                TeamName       SubmissionDate  Score\n",
       "0  6987444                 no name  2022-08-23 18:16:28    1.0\n",
       "1   720238                    rosh  2022-06-26 10:58:42    1.0\n",
       "2  8814675  nikolai otvetchikov #2  2022-06-26 13:59:39    1.0\n",
       "3  8821160    Vibhav Rathkanthiwar  2022-06-26 15:28:12    1.0\n",
       "4  6590016          Osman Altuntas  2022-07-24 15:40:15    1.0"
      ]
     },
     "execution_count": 2,
     "metadata": {},
     "output_type": "execute_result"
    }
   ],
   "source": [
    "leaderboard = pd.read_csv('../datasets/titanic-publicleaderboard.csv')\n",
    "leaderboard.head()"
   ]
  },
  {
   "cell_type": "code",
   "execution_count": 3,
   "id": "149ff572",
   "metadata": {
    "scrolled": true
   },
   "outputs": [
    {
     "data": {
      "text/plain": [
       "count    13915.000000\n",
       "mean         0.760751\n",
       "std          0.075145\n",
       "min          0.000000\n",
       "25%          0.765550\n",
       "50%          0.775110\n",
       "75%          0.777510\n",
       "max          1.000000\n",
       "Name: Score, dtype: float64"
      ]
     },
     "execution_count": 3,
     "metadata": {},
     "output_type": "execute_result"
    }
   ],
   "source": [
    "leaderboard.Score.describe()"
   ]
  },
  {
   "cell_type": "code",
   "execution_count": 4,
   "id": "8d1aec8a",
   "metadata": {},
   "outputs": [
    {
     "data": {
      "text/plain": [
       "0.9711821775062881"
      ]
     },
     "execution_count": 4,
     "metadata": {},
     "output_type": "execute_result"
    }
   ],
   "source": [
    "percentileofscore(leaderboard.Score, 0.8) / 100"
   ]
  },
  {
   "cell_type": "code",
   "execution_count": 5,
   "id": "9993b00f",
   "metadata": {},
   "outputs": [
    {
     "data": {
      "image/png": "[encoded data removed]",
      "text/plain": [
       "<Figure size 360x360 with 1 Axes>"
      ]
     },
     "metadata": {
      "needs_background": "light"
     },
     "output_type": "display_data"
    }
   ],
   "source": [
    "def plot_ecdf_with_target(data, target):\n",
    "    sns.displot(data, stat='proportion', kind='ecdf', height=5, aspect=1)\n",
    "    \n",
    "    quantile = percentileofscore(data, target) / 100\n",
    "    \n",
    "    plt.plot([0, target, target], [quantile, quantile, 0], '-.r')\n",
    "    plt.plot([target], [quantile], 'or')\n",
    "    \n",
    "    plt.xlim((0, 1))\n",
    "    plt.ylim((0, 1))\n",
    "    \n",
    "    plt.title('ECDF of competition scores')\n",
    "    \n",
    "    plt.show()\n",
    "\n",
    "    \n",
    "plot_ecdf_with_target(leaderboard.Score, 0.8)"
   ]
  },
  {
   "cell_type": "markdown",
   "id": "044471d5",
   "metadata": {},
   "source": [
    "In addition, there are several solutions with a score equal to 1.0. Have authors reached perfection?"
   ]
  },
  {
   "cell_type": "code",
   "execution_count": 6,
   "id": "72724af5",
   "metadata": {
    "scrolled": false
   },
   "outputs": [
    {
     "data": {
      "image/png": "[encoded data removed]",
      "text/plain": [
       "<Figure size 360x360 with 1 Axes>"
      ]
     },
     "metadata": {
      "needs_background": "light"
     },
     "output_type": "display_data"
    }
   ],
   "source": [
    "sns.displot(leaderboard, x='Score', kind='kde')\n",
    "plt.arrow(x=1.0, y=5, dx=0, dy=-3.5, width=0.01, head_width=0.04, head_length=0.8, color='r')\n",
    "plt.title(\"KDE of competition scores\")\n",
    "\n",
    "plt.show()"
   ]
  },
  {
   "cell_type": "markdown",
   "id": "f3cb443a",
   "metadata": {},
   "source": [
    "## Data Dictionary\n",
    "0. **PassengerId** - Passenger ID.\n",
    "1. **Survived** - Survival:\n",
    "    - 0 = No, \n",
    "    - 1 = Yes.\n",
    "2. **Pclass** - Ticket class:\n",
    "    - 1 = 1st, \n",
    "    - 2 = 2nd, \n",
    "    - 3 = 3rd.\n",
    "3. **Name** - Passanger's name, for example, \"Braund, Mr. Owen Harris\".\n",
    "4. **Sex** - Gender:\n",
    "    - male,\n",
    "    - female.\n",
    "5. **Age** - Age in years, for example 38.0.\n",
    "6. **SibSp** - Number of siblings or spouses aboard the Titanic.\n",
    "7. **Parch** - Number of parents or children aboard the Titanic.\n",
    "8. **Ticket** - Ticket number, for example, A/5 21171.\n",
    "9. **Fare** - Passenger fare, for ecample, 71.2833.\n",
    "10. **Cabin** - Cabin number, for example, C85.\n",
    "11. **Embarked** - Port of Embarkation:\n",
    "    - C = Cherbourg,\n",
    "    - Q = Queenstown,\n",
    "    - S = Southampton.\n",
    "    \n",
    "### Features\n",
    "PassengerId, Pclass, Name, Sex, Age, SibSp, Parch, Ticket,\n",
    "Fare, Cabin, Embarked\n",
    "\n",
    "### Target\n",
    "Survived\n",
    "    \n",
    "## Variable Notes\n",
    "- **pclass**: socio-economic status\n",
    "    - *1st* = Upper\n",
    "    - *2nd* = Middle\n",
    "    - *3rd* = Lower\n",
    "- **age**: Age is fractional if less than 1. If the age is estimated, is it in the form of xx.5\n",
    "- **sibsp**: number of sibling/spouses aboard the Titanic\n",
    "    - *sibling* = brother, sister, stepbrother, stepsister\n",
    "    - *spouse* = husband, wife (mistresses and fiancés were ignored)\n",
    "- **parch**: number of parents (mother, father)/children (daughter, son, stepdauter, stepson) aboard the Titanic. Some children travelled only with a nanny, therefore parch=0 for them.\n",
    "\n",
    "## File Paths\n",
    "- **training set**: ../datasets/train.csv\n",
    "- **test set**: ../datasets/test.csv\n",
    "- **example of a submission file**: ../datasets/gender_submission.csv\n",
    "\n",
    "## Assumptions\n",
    "Women were more likely to survive than men."
   ]
  },
  {
   "cell_type": "markdown",
   "id": "aeee5179",
   "metadata": {},
   "source": [
    "## Load Data\n",
    "### Traing data"
   ]
  },
  {
   "cell_type": "code",
   "execution_count": 7,
   "id": "569ff375",
   "metadata": {},
   "outputs": [],
   "source": [
    "data = pd.read_csv('../datasets/train.csv')"
   ]
  },
  {
   "cell_type": "markdown",
   "id": "ee905837",
   "metadata": {},
   "source": [
    "### Test set for submission"
   ]
  },
  {
   "cell_type": "code",
   "execution_count": 8,
   "id": "63bb8ac0",
   "metadata": {},
   "outputs": [],
   "source": [
    "submission_X = pd.read_csv('../datasets/gender_submission.csv')"
   ]
  },
  {
   "cell_type": "markdown",
   "id": "6ca4b90e",
   "metadata": {},
   "source": [
    "## Preliminary Analysis\n",
    "### Shape of the dataset"
   ]
  },
  {
   "cell_type": "code",
   "execution_count": 9,
   "id": "4f1f5585",
   "metadata": {},
   "outputs": [
    {
     "data": {
      "text/plain": [
       "(891, 12)"
      ]
     },
     "execution_count": 9,
     "metadata": {},
     "output_type": "execute_result"
    }
   ],
   "source": [
    "data.shape"
   ]
  },
  {
   "cell_type": "markdown",
   "id": "ce52dece",
   "metadata": {},
   "source": [
    "### First rows of the dataset"
   ]
  },
  {
   "cell_type": "code",
   "execution_count": 10,
   "id": "2a6f6e57",
   "metadata": {
    "scrolled": true
   },
   "outputs": [
    {
     "data": {
      "text/html": [
       "<div>\n",
       "<style scoped>\n",
       "    .dataframe tbody tr th:only-of-type {\n",
       "        vertical-align: middle;\n",
       "    }\n",
       "\n",
       "    .dataframe tbody tr th {\n",
       "        vertical-align: top;\n",
       "    }\n",
       "\n",
       "    .dataframe thead th {\n",
       "        text-align: right;\n",
       "    }\n",
       "</style>\n",
       "<table border=\"1\" class=\"dataframe\">\n",
       "  <thead>\n",
       "    <tr style=\"text-align: right;\">\n",
       "      <th></th>\n",
       "      <th>PassengerId</th>\n",
       "      <th>Survived</th>\n",
       "      <th>Pclass</th>\n",
       "      <th>Name</th>\n",
       "      <th>Sex</th>\n",
       "      <th>Age</th>\n",
       "      <th>SibSp</th>\n",
       "      <th>Parch</th>\n",
       "      <th>Ticket</th>\n",
       "      <th>Fare</th>\n",
       "      <th>Cabin</th>\n",
       "      <th>Embarked</th>\n",
       "    </tr>\n",
       "  </thead>\n",
       "  <tbody>\n",
       "    <tr>\n",
       "      <th>0</th>\n",
       "      <td>1</td>\n",
       "      <td>0</td>\n",
       "      <td>3</td>\n",
       "      <td>Braund, Mr. Owen Harris</td>\n",
       "      <td>male</td>\n",
       "      <td>22.0</td>\n",
       "      <td>1</td>\n",
       "      <td>0</td>\n",
       "      <td>A/5 21171</td>\n",
       "      <td>7.2500</td>\n",
       "      <td>NaN</td>\n",
       "      <td>S</td>\n",
       "    </tr>\n",
       "    <tr>\n",
       "      <th>1</th>\n",
       "      <td>2</td>\n",
       "      <td>1</td>\n",
       "      <td>1</td>\n",
       "      <td>Cumings, Mrs. John Bradley (Florence Briggs Th...</td>\n",
       "      <td>female</td>\n",
       "      <td>38.0</td>\n",
       "      <td>1</td>\n",
       "      <td>0</td>\n",
       "      <td>PC 17599</td>\n",
       "      <td>71.2833</td>\n",
       "      <td>C85</td>\n",
       "      <td>C</td>\n",
       "    </tr>\n",
       "    <tr>\n",
       "      <th>2</th>\n",
       "      <td>3</td>\n",
       "      <td>1</td>\n",
       "      <td>3</td>\n",
       "      <td>Heikkinen, Miss. Laina</td>\n",
       "      <td>female</td>\n",
       "      <td>26.0</td>\n",
       "      <td>0</td>\n",
       "      <td>0</td>\n",
       "      <td>STON/O2. 3101282</td>\n",
       "      <td>7.9250</td>\n",
       "      <td>NaN</td>\n",
       "      <td>S</td>\n",
       "    </tr>\n",
       "    <tr>\n",
       "      <th>3</th>\n",
       "      <td>4</td>\n",
       "      <td>1</td>\n",
       "      <td>1</td>\n",
       "      <td>Futrelle, Mrs. Jacques Heath (Lily May Peel)</td>\n",
       "      <td>female</td>\n",
       "      <td>35.0</td>\n",
       "      <td>1</td>\n",
       "      <td>0</td>\n",
       "      <td>113803</td>\n",
       "      <td>53.1000</td>\n",
       "      <td>C123</td>\n",
       "      <td>S</td>\n",
       "    </tr>\n",
       "    <tr>\n",
       "      <th>4</th>\n",
       "      <td>5</td>\n",
       "      <td>0</td>\n",
       "      <td>3</td>\n",
       "      <td>Allen, Mr. William Henry</td>\n",
       "      <td>male</td>\n",
       "      <td>35.0</td>\n",
       "      <td>0</td>\n",
       "      <td>0</td>\n",
       "      <td>373450</td>\n",
       "      <td>8.0500</td>\n",
       "      <td>NaN</td>\n",
       "      <td>S</td>\n",
       "    </tr>\n",
       "  </tbody>\n",
       "</table>\n",
       "</div>"
      ],
      "text/plain": [
       "   PassengerId  Survived  Pclass  \\\n",
       "0            1         0       3   \n",
       "1            2         1       1   \n",
       "2            3         1       3   \n",
       "3            4         1       1   \n",
       "4            5         0       3   \n",
       "\n",
       "                                                Name     Sex   Age  SibSp  \\\n",
       "0                            Braund, Mr. Owen Harris    male  22.0      1   \n",
       "1  Cumings, Mrs. John Bradley (Florence Briggs Th...  female  38.0      1   \n",
       "2                             Heikkinen, Miss. Laina  female  26.0      0   \n",
       "3       Futrelle, Mrs. Jacques Heath (Lily May Peel)  female  35.0      1   \n",
       "4                           Allen, Mr. William Henry    male  35.0      0   \n",
       "\n",
       "   Parch            Ticket     Fare Cabin Embarked  \n",
       "0      0         A/5 21171   7.2500   NaN        S  \n",
       "1      0          PC 17599  71.2833   C85        C  \n",
       "2      0  STON/O2. 3101282   7.9250   NaN        S  \n",
       "3      0            113803  53.1000  C123        S  \n",
       "4      0            373450   8.0500   NaN        S  "
      ]
     },
     "execution_count": 10,
     "metadata": {},
     "output_type": "execute_result"
    }
   ],
   "source": [
    "data.head()"
   ]
  },
  {
   "cell_type": "markdown",
   "id": "5e5fedf9",
   "metadata": {},
   "source": [
    "### Data types and non-null counts"
   ]
  },
  {
   "cell_type": "code",
   "execution_count": 11,
   "id": "bd9891b9",
   "metadata": {},
   "outputs": [
    {
     "name": "stdout",
     "output_type": "stream",
     "text": [
      "<class 'pandas.core.frame.DataFrame'>\n",
      "RangeIndex: 891 entries, 0 to 890\n",
      "Data columns (total 12 columns):\n",
      " #   Column       Non-Null Count  Dtype  \n",
      "---  ------       --------------  -----  \n",
      " 0   PassengerId  891 non-null    int64  \n",
      " 1   Survived     891 non-null    int64  \n",
      " 2   Pclass       891 non-null    int64  \n",
      " 3   Name         891 non-null    object \n",
      " 4   Sex          891 non-null    object \n",
      " 5   Age          714 non-null    float64\n",
      " 6   SibSp        891 non-null    int64  \n",
      " 7   Parch        891 non-null    int64  \n",
      " 8   Ticket       891 non-null    object \n",
      " 9   Fare         891 non-null    float64\n",
      " 10  Cabin        204 non-null    object \n",
      " 11  Embarked     889 non-null    object \n",
      "dtypes: float64(2), int64(5), object(5)\n",
      "memory usage: 83.7+ KB\n"
     ]
    }
   ],
   "source": [
    "data.info()"
   ]
  },
  {
   "cell_type": "markdown",
   "id": "5354a793",
   "metadata": {},
   "source": [
    "### Number of missing values"
   ]
  },
  {
   "cell_type": "code",
   "execution_count": 12,
   "id": "7e387b17",
   "metadata": {},
   "outputs": [
    {
     "data": {
      "text/plain": [
       "PassengerId      0\n",
       "Survived         0\n",
       "Pclass           0\n",
       "Name             0\n",
       "Sex              0\n",
       "Age            177\n",
       "SibSp            0\n",
       "Parch            0\n",
       "Ticket           0\n",
       "Fare             0\n",
       "Cabin          687\n",
       "Embarked         2\n",
       "dtype: int64"
      ]
     },
     "execution_count": 12,
     "metadata": {},
     "output_type": "execute_result"
    }
   ],
   "source": [
    "data.isna().sum(axis=0)"
   ]
  },
  {
   "cell_type": "markdown",
   "id": "cbe64ced",
   "metadata": {},
   "source": [
    "### Number of unique values\n",
    "There are high-cardinality features with object dtype:\n",
    "- Name\n",
    "- Ticket\n",
    "- Cabin\n",
    "\n",
    "This features, possibly, will need special preprocessing.\n",
    "\n",
    "The **\"PassengerId\"** feature is the ID of the passanger. \n",
    "It won't help in analysis and will be droped."
   ]
  },
  {
   "cell_type": "code",
   "execution_count": 13,
   "id": "dc61a5a9",
   "metadata": {},
   "outputs": [
    {
     "data": {
      "text/plain": [
       "Name        891\n",
       "Sex           2\n",
       "Ticket      681\n",
       "Cabin       147\n",
       "Embarked      3\n",
       "dtype: int64"
      ]
     },
     "execution_count": 13,
     "metadata": {},
     "output_type": "execute_result"
    }
   ],
   "source": [
    "data.select_dtypes(include='object').nunique()"
   ]
  },
  {
   "cell_type": "code",
   "execution_count": 14,
   "id": "2cad6375",
   "metadata": {
    "scrolled": true
   },
   "outputs": [
    {
     "data": {
      "text/plain": [
       "PassengerId    891\n",
       "Survived         2\n",
       "Pclass           3\n",
       "Age             88\n",
       "SibSp            7\n",
       "Parch            7\n",
       "Fare           248\n",
       "dtype: int64"
      ]
     },
     "execution_count": 14,
     "metadata": {},
     "output_type": "execute_result"
    }
   ],
   "source": [
    "data.select_dtypes(exclude='object').nunique()"
   ]
  },
  {
   "cell_type": "markdown",
   "id": "423e2489",
   "metadata": {},
   "source": [
    "### Summary statistics"
   ]
  },
  {
   "cell_type": "code",
   "execution_count": 15,
   "id": "c8ded5b4",
   "metadata": {},
   "outputs": [
    {
     "data": {
      "text/html": [
       "<div>\n",
       "<style scoped>\n",
       "    .dataframe tbody tr th:only-of-type {\n",
       "        vertical-align: middle;\n",
       "    }\n",
       "\n",
       "    .dataframe tbody tr th {\n",
       "        vertical-align: top;\n",
       "    }\n",
       "\n",
       "    .dataframe thead th {\n",
       "        text-align: right;\n",
       "    }\n",
       "</style>\n",
       "<table border=\"1\" class=\"dataframe\">\n",
       "  <thead>\n",
       "    <tr style=\"text-align: right;\">\n",
       "      <th></th>\n",
       "      <th>PassengerId</th>\n",
       "      <th>Survived</th>\n",
       "      <th>Pclass</th>\n",
       "      <th>Age</th>\n",
       "      <th>SibSp</th>\n",
       "      <th>Parch</th>\n",
       "      <th>Fare</th>\n",
       "    </tr>\n",
       "  </thead>\n",
       "  <tbody>\n",
       "    <tr>\n",
       "      <th>count</th>\n",
       "      <td>891.000000</td>\n",
       "      <td>891.000000</td>\n",
       "      <td>891.000000</td>\n",
       "      <td>714.000000</td>\n",
       "      <td>891.000000</td>\n",
       "      <td>891.000000</td>\n",
       "      <td>891.000000</td>\n",
       "    </tr>\n",
       "    <tr>\n",
       "      <th>mean</th>\n",
       "      <td>446.000000</td>\n",
       "      <td>0.383838</td>\n",
       "      <td>2.308642</td>\n",
       "      <td>29.699118</td>\n",
       "      <td>0.523008</td>\n",
       "      <td>0.381594</td>\n",
       "      <td>32.204208</td>\n",
       "    </tr>\n",
       "    <tr>\n",
       "      <th>std</th>\n",
       "      <td>257.353842</td>\n",
       "      <td>0.486592</td>\n",
       "      <td>0.836071</td>\n",
       "      <td>14.526497</td>\n",
       "      <td>1.102743</td>\n",
       "      <td>0.806057</td>\n",
       "      <td>49.693429</td>\n",
       "    </tr>\n",
       "    <tr>\n",
       "      <th>min</th>\n",
       "      <td>1.000000</td>\n",
       "      <td>0.000000</td>\n",
       "      <td>1.000000</td>\n",
       "      <td>0.420000</td>\n",
       "      <td>0.000000</td>\n",
       "      <td>0.000000</td>\n",
       "      <td>0.000000</td>\n",
       "    </tr>\n",
       "    <tr>\n",
       "      <th>25%</th>\n",
       "      <td>223.500000</td>\n",
       "      <td>0.000000</td>\n",
       "      <td>2.000000</td>\n",
       "      <td>20.125000</td>\n",
       "      <td>0.000000</td>\n",
       "      <td>0.000000</td>\n",
       "      <td>7.910400</td>\n",
       "    </tr>\n",
       "    <tr>\n",
       "      <th>50%</th>\n",
       "      <td>446.000000</td>\n",
       "      <td>0.000000</td>\n",
       "      <td>3.000000</td>\n",
       "      <td>28.000000</td>\n",
       "      <td>0.000000</td>\n",
       "      <td>0.000000</td>\n",
       "      <td>14.454200</td>\n",
       "    </tr>\n",
       "    <tr>\n",
       "      <th>75%</th>\n",
       "      <td>668.500000</td>\n",
       "      <td>1.000000</td>\n",
       "      <td>3.000000</td>\n",
       "      <td>38.000000</td>\n",
       "      <td>1.000000</td>\n",
       "      <td>0.000000</td>\n",
       "      <td>31.000000</td>\n",
       "    </tr>\n",
       "    <tr>\n",
       "      <th>max</th>\n",
       "      <td>891.000000</td>\n",
       "      <td>1.000000</td>\n",
       "      <td>3.000000</td>\n",
       "      <td>80.000000</td>\n",
       "      <td>8.000000</td>\n",
       "      <td>6.000000</td>\n",
       "      <td>512.329200</td>\n",
       "    </tr>\n",
       "  </tbody>\n",
       "</table>\n",
       "</div>"
      ],
      "text/plain": [
       "       PassengerId    Survived      Pclass         Age       SibSp  \\\n",
       "count   891.000000  891.000000  891.000000  714.000000  891.000000   \n",
       "mean    446.000000    0.383838    2.308642   29.699118    0.523008   \n",
       "std     257.353842    0.486592    0.836071   14.526497    1.102743   \n",
       "min       1.000000    0.000000    1.000000    0.420000    0.000000   \n",
       "25%     223.500000    0.000000    2.000000   20.125000    0.000000   \n",
       "50%     446.000000    0.000000    3.000000   28.000000    0.000000   \n",
       "75%     668.500000    1.000000    3.000000   38.000000    1.000000   \n",
       "max     891.000000    1.000000    3.000000   80.000000    8.000000   \n",
       "\n",
       "            Parch        Fare  \n",
       "count  891.000000  891.000000  \n",
       "mean     0.381594   32.204208  \n",
       "std      0.806057   49.693429  \n",
       "min      0.000000    0.000000  \n",
       "25%      0.000000    7.910400  \n",
       "50%      0.000000   14.454200  \n",
       "75%      0.000000   31.000000  \n",
       "max      6.000000  512.329200  "
      ]
     },
     "execution_count": 15,
     "metadata": {},
     "output_type": "execute_result"
    }
   ],
   "source": [
    "data.describe()"
   ]
  },
  {
   "cell_type": "code",
   "execution_count": 16,
   "id": "ff7b7430",
   "metadata": {},
   "outputs": [
    {
     "data": {
      "text/html": [
       "<div>\n",
       "<style scoped>\n",
       "    .dataframe tbody tr th:only-of-type {\n",
       "        vertical-align: middle;\n",
       "    }\n",
       "\n",
       "    .dataframe tbody tr th {\n",
       "        vertical-align: top;\n",
       "    }\n",
       "\n",
       "    .dataframe thead th {\n",
       "        text-align: right;\n",
       "    }\n",
       "</style>\n",
       "<table border=\"1\" class=\"dataframe\">\n",
       "  <thead>\n",
       "    <tr style=\"text-align: right;\">\n",
       "      <th></th>\n",
       "      <th>Name</th>\n",
       "      <th>Sex</th>\n",
       "      <th>Ticket</th>\n",
       "      <th>Cabin</th>\n",
       "      <th>Embarked</th>\n",
       "    </tr>\n",
       "  </thead>\n",
       "  <tbody>\n",
       "    <tr>\n",
       "      <th>count</th>\n",
       "      <td>891</td>\n",
       "      <td>891</td>\n",
       "      <td>891</td>\n",
       "      <td>204</td>\n",
       "      <td>889</td>\n",
       "    </tr>\n",
       "    <tr>\n",
       "      <th>unique</th>\n",
       "      <td>891</td>\n",
       "      <td>2</td>\n",
       "      <td>681</td>\n",
       "      <td>147</td>\n",
       "      <td>3</td>\n",
       "    </tr>\n",
       "    <tr>\n",
       "      <th>top</th>\n",
       "      <td>Braund, Mr. Owen Harris</td>\n",
       "      <td>male</td>\n",
       "      <td>347082</td>\n",
       "      <td>B96 B98</td>\n",
       "      <td>S</td>\n",
       "    </tr>\n",
       "    <tr>\n",
       "      <th>freq</th>\n",
       "      <td>1</td>\n",
       "      <td>577</td>\n",
       "      <td>7</td>\n",
       "      <td>4</td>\n",
       "      <td>644</td>\n",
       "    </tr>\n",
       "  </tbody>\n",
       "</table>\n",
       "</div>"
      ],
      "text/plain": [
       "                           Name   Sex  Ticket    Cabin Embarked\n",
       "count                       891   891     891      204      889\n",
       "unique                      891     2     681      147        3\n",
       "top     Braund, Mr. Owen Harris  male  347082  B96 B98        S\n",
       "freq                          1   577       7        4      644"
      ]
     },
     "execution_count": 16,
     "metadata": {},
     "output_type": "execute_result"
    }
   ],
   "source": [
    "data.select_dtypes(include='object').describe()"
   ]
  },
  {
   "cell_type": "markdown",
   "id": "d1317134",
   "metadata": {},
   "source": [
    "## Sample a Test Set\n",
    "\n",
    "The test set will be used to evaluate performance of a very final model\n",
    "and forecast the score in the competitions leaderboard. It may seems like\n",
    "it's to early to create a test set, but I'll do it to prevent data snooping.\n",
    "\n",
    "I'm going to do stratified sampling with scikit-learn's StratifiedShuffleSplit to maintain equal ratio of men and women in the train set and the test set. Women seem to have had a better chance of surviving due to the \"women and children first\" protocol for loading lifeboats.\n",
    "\n",
    "First, let's check how many passengers survived."
   ]
  },
  {
   "cell_type": "code",
   "execution_count": 17,
   "id": "eb056747",
   "metadata": {},
   "outputs": [
    {
     "name": "stdout",
     "output_type": "stream",
     "text": [
      "Number of survived passengers 342, (38.38%)\n",
      "Number of drowned passengers 549, (61.62%)\n"
     ]
    },
    {
     "data": {
      "image/png": "[encoded data removed]",
      "text/plain": [
       "<Figure size 360x360 with 1 Axes>"
      ]
     },
     "metadata": {
      "needs_background": "light"
     },
     "output_type": "display_data"
    }
   ],
   "source": [
    "print(f'Number of survived passengers {data.Survived.sum()}, ({data.Survived.sum()/len(data):.2%})')\n",
    "print(f'Number of drowned passengers {len(data) - data.Survived.sum()}, ({(len(data) - data.Survived.sum())/len(data):.2%})')\n",
    "sns.catplot(data=data, x='Survived', kind='count')\n",
    "# plt.savefig('../docs/images/number_of_survivors.pdf', bbox_inches='tight')\n",
    "plt.show()"
   ]
  },
  {
   "cell_type": "markdown",
   "id": "c8aa7b32",
   "metadata": {},
   "source": [
    "Next, let's check the proportion of women among the survivors."
   ]
  },
  {
   "cell_type": "code",
   "execution_count": 18,
   "id": "27277fc0",
   "metadata": {},
   "outputs": [
    {
     "data": {
      "image/png": "[encoded data removed]",
      "text/plain": [
       "<Figure size 360x360 with 1 Axes>"
      ]
     },
     "metadata": {
      "needs_background": "light"
     },
     "output_type": "display_data"
    }
   ],
   "source": [
    "sns.catplot(data=data, x='Sex', y='Survived', kind='bar')\n",
    "# plt.savefig('../docs/images/proportion_of_survived_women.pdf', bbox_inches='tight')\n",
    "plt.show()"
   ]
  },
  {
   "cell_type": "markdown",
   "id": "fffd447c",
   "metadata": {},
   "source": [
    "Let's check this assumption  for each passanger class."
   ]
  },
  {
   "cell_type": "code",
   "execution_count": 19,
   "id": "782c88a0",
   "metadata": {},
   "outputs": [
    {
     "data": {
      "image/png": "[encoded data removed]",
      "text/plain": [
       "<Figure size 452.275x360 with 1 Axes>"
      ]
     },
     "metadata": {
      "needs_background": "light"
     },
     "output_type": "display_data"
    }
   ],
   "source": [
    "sns.catplot(data=data, x='Pclass', y='Survived', hue='Sex', kind='bar')\n",
    "# plt.savefig('../docs/images/proportion_of_survived_women_among_pclasses.pdf',\n",
    "#             bbox_inches='tight')\n",
    "plt.show()"
   ]
  },
  {
   "cell_type": "markdown",
   "id": "4f1e55ea",
   "metadata": {},
   "source": [
    "The assumtpion seems to be correct. Now, it's time to split dataset."
   ]
  },
  {
   "cell_type": "code",
   "execution_count": 20,
   "id": "4e878578",
   "metadata": {},
   "outputs": [],
   "source": [
    "split = StratifiedShuffleSplit(n_splits=1, test_size=0.2, random_state=42)\n",
    "\n",
    "for train_index, test_index in split.split(data, data.Sex):\n",
    "    train_set = data.loc[train_index]\n",
    "    test_set = data.loc[test_index]"
   ]
  },
  {
   "cell_type": "markdown",
   "id": "5e4dc109",
   "metadata": {},
   "source": [
    "## Exploratory Analysis\n",
    "Let's explore each attribute and its characteristics."
   ]
  },
  {
   "cell_type": "code",
   "execution_count": 21,
   "id": "03ae1924",
   "metadata": {},
   "outputs": [
    {
     "name": "stdout",
     "output_type": "stream",
     "text": [
      "PassengerId\n",
      "Survived\n",
      "Pclass\n",
      "Name\n",
      "Sex\n",
      "Age\n",
      "SibSp\n",
      "Parch\n",
      "Ticket\n",
      "Fare\n",
      "Cabin\n",
      "Embarked\n"
     ]
    }
   ],
   "source": [
    "exploratory_set = train_set.copy()\n",
    "\n",
    "for column_name in exploratory_set:\n",
    "    print(column_name)"
   ]
  },
  {
   "cell_type": "markdown",
   "id": "e18aff93",
   "metadata": {},
   "source": [
    "### Pclass"
   ]
  },
  {
   "cell_type": "code",
   "execution_count": 22,
   "id": "2fabfa69",
   "metadata": {},
   "outputs": [
    {
     "data": {
      "image/png": "[encoded data removed]",
      "text/plain": [
       "<Figure size 360x360 with 1 Axes>"
      ]
     },
     "metadata": {
      "needs_background": "light"
     },
     "output_type": "display_data"
    }
   ],
   "source": [
    "sns.displot(data=exploratory_set.Pclass.astype('category'))\n",
    "# plt.savefig('../docs/images/pclass_count.pdf', bbox_inches='tight')\n",
    "plt.show()"
   ]
  },
  {
   "cell_type": "code",
   "execution_count": 23,
   "id": "6bfb3112",
   "metadata": {},
   "outputs": [
    {
     "data": {
      "image/png": "[encoded data removed]",
      "text/plain": [
       "<Figure size 360x360 with 1 Axes>"
      ]
     },
     "metadata": {
      "needs_background": "light"
     },
     "output_type": "display_data"
    }
   ],
   "source": [
    "sns.catplot(data=exploratory_set, x='Pclass', y='Survived', kind='bar')\n",
    "# plt.savefig('../docs/images/pclass_survived_entire_dataset.pdf', bbox_inches='tight')\n",
    "plt.show()"
   ]
  },
  {
   "cell_type": "code",
   "execution_count": 24,
   "id": "a22f58e4",
   "metadata": {},
   "outputs": [
    {
     "data": {
      "image/png": "[encoded data removed]",
      "text/plain": [
       "<Figure size 452.275x360 with 1 Axes>"
      ]
     },
     "metadata": {
      "needs_background": "light"
     },
     "output_type": "display_data"
    }
   ],
   "source": [
    "sns.catplot(data=exploratory_set, x='Pclass', y='Survived', hue='Sex', kind='bar')\n",
    "# plt.savefig('../docs/images/pclass_survived_gender.pdf', bbox_inches='tight')\n",
    "plt.show()"
   ]
  },
  {
   "cell_type": "markdown",
   "id": "91397737",
   "metadata": {},
   "source": [
    "### Name"
   ]
  },
  {
   "cell_type": "code",
   "execution_count": 25,
   "id": "9a4c6afc",
   "metadata": {
    "scrolled": true
   },
   "outputs": [
    {
     "data": {
      "text/plain": [
       "788                   Dean, Master. Bertram Vere\n",
       "347    Davison, Mrs. Thomas Henry (Mary E Finck)\n",
       "629                     O'Connell, Mr. Patrick D\n",
       "734                 Troupiansky, Mr. Moses Aaron\n",
       "106             Salkjelsvik, Miss. Anna Kristine\n",
       "                         ...                    \n",
       "263                        Harrison, Mr. William\n",
       "628                    Bostandyeff, Mr. Guentcho\n",
       "711                           Klaber, Mr. Herman\n",
       "453                     Goldenberg, Mr. Samuel L\n",
       "261            Asplund, Master. Edvin Rojj Felix\n",
       "Name: Name, Length: 712, dtype: object"
      ]
     },
     "execution_count": 25,
     "metadata": {},
     "output_type": "execute_result"
    }
   ],
   "source": [
    "exploratory_set.Name"
   ]
  },
  {
   "cell_type": "code",
   "execution_count": 26,
   "id": "3c79b79e",
   "metadata": {},
   "outputs": [
    {
     "data": {
      "text/plain": [
       "712"
      ]
     },
     "execution_count": 26,
     "metadata": {},
     "output_type": "execute_result"
    }
   ],
   "source": [
    "exploratory_set.Name.nunique()"
   ]
  },
  {
   "cell_type": "code",
   "execution_count": 27,
   "id": "9a676a18",
   "metadata": {
    "scrolled": false
   },
   "outputs": [
    {
     "data": {
      "text/html": [
       "<div>\n",
       "<style scoped>\n",
       "    .dataframe tbody tr th:only-of-type {\n",
       "        vertical-align: middle;\n",
       "    }\n",
       "\n",
       "    .dataframe tbody tr th {\n",
       "        vertical-align: top;\n",
       "    }\n",
       "\n",
       "    .dataframe thead th {\n",
       "        text-align: right;\n",
       "    }\n",
       "</style>\n",
       "<table border=\"1\" class=\"dataframe\">\n",
       "  <thead>\n",
       "    <tr style=\"text-align: right;\">\n",
       "      <th></th>\n",
       "      <th>PassengerId</th>\n",
       "      <th>Survived</th>\n",
       "      <th>Pclass</th>\n",
       "      <th>Name</th>\n",
       "      <th>Sex</th>\n",
       "      <th>Age</th>\n",
       "      <th>SibSp</th>\n",
       "      <th>Parch</th>\n",
       "      <th>Ticket</th>\n",
       "      <th>Fare</th>\n",
       "      <th>Cabin</th>\n",
       "      <th>Embarked</th>\n",
       "      <th>Title</th>\n",
       "    </tr>\n",
       "  </thead>\n",
       "  <tbody>\n",
       "    <tr>\n",
       "      <th>788</th>\n",
       "      <td>789</td>\n",
       "      <td>1</td>\n",
       "      <td>3</td>\n",
       "      <td>Dean, Master. Bertram Vere</td>\n",
       "      <td>male</td>\n",
       "      <td>1.0</td>\n",
       "      <td>1</td>\n",
       "      <td>2</td>\n",
       "      <td>C.A. 2315</td>\n",
       "      <td>20.5750</td>\n",
       "      <td>NaN</td>\n",
       "      <td>S</td>\n",
       "      <td>master</td>\n",
       "    </tr>\n",
       "    <tr>\n",
       "      <th>347</th>\n",
       "      <td>348</td>\n",
       "      <td>1</td>\n",
       "      <td>3</td>\n",
       "      <td>Davison, Mrs. Thomas Henry (Mary E Finck)</td>\n",
       "      <td>female</td>\n",
       "      <td>NaN</td>\n",
       "      <td>1</td>\n",
       "      <td>0</td>\n",
       "      <td>386525</td>\n",
       "      <td>16.1000</td>\n",
       "      <td>NaN</td>\n",
       "      <td>S</td>\n",
       "      <td>mrs</td>\n",
       "    </tr>\n",
       "    <tr>\n",
       "      <th>629</th>\n",
       "      <td>630</td>\n",
       "      <td>0</td>\n",
       "      <td>3</td>\n",
       "      <td>O'Connell, Mr. Patrick D</td>\n",
       "      <td>male</td>\n",
       "      <td>NaN</td>\n",
       "      <td>0</td>\n",
       "      <td>0</td>\n",
       "      <td>334912</td>\n",
       "      <td>7.7333</td>\n",
       "      <td>NaN</td>\n",
       "      <td>Q</td>\n",
       "      <td>mr</td>\n",
       "    </tr>\n",
       "    <tr>\n",
       "      <th>734</th>\n",
       "      <td>735</td>\n",
       "      <td>0</td>\n",
       "      <td>2</td>\n",
       "      <td>Troupiansky, Mr. Moses Aaron</td>\n",
       "      <td>male</td>\n",
       "      <td>23.0</td>\n",
       "      <td>0</td>\n",
       "      <td>0</td>\n",
       "      <td>233639</td>\n",
       "      <td>13.0000</td>\n",
       "      <td>NaN</td>\n",
       "      <td>S</td>\n",
       "      <td>mr</td>\n",
       "    </tr>\n",
       "    <tr>\n",
       "      <th>106</th>\n",
       "      <td>107</td>\n",
       "      <td>1</td>\n",
       "      <td>3</td>\n",
       "      <td>Salkjelsvik, Miss. Anna Kristine</td>\n",
       "      <td>female</td>\n",
       "      <td>21.0</td>\n",
       "      <td>0</td>\n",
       "      <td>0</td>\n",
       "      <td>343120</td>\n",
       "      <td>7.6500</td>\n",
       "      <td>NaN</td>\n",
       "      <td>S</td>\n",
       "      <td>miss</td>\n",
       "    </tr>\n",
       "  </tbody>\n",
       "</table>\n",
       "</div>"
      ],
      "text/plain": [
       "     PassengerId  Survived  Pclass                                       Name  \\\n",
       "788          789         1       3                 Dean, Master. Bertram Vere   \n",
       "347          348         1       3  Davison, Mrs. Thomas Henry (Mary E Finck)   \n",
       "629          630         0       3                   O'Connell, Mr. Patrick D   \n",
       "734          735         0       2               Troupiansky, Mr. Moses Aaron   \n",
       "106          107         1       3           Salkjelsvik, Miss. Anna Kristine   \n",
       "\n",
       "        Sex   Age  SibSp  Parch     Ticket     Fare Cabin Embarked   Title  \n",
       "788    male   1.0      1      2  C.A. 2315  20.5750   NaN        S  master  \n",
       "347  female   NaN      1      0     386525  16.1000   NaN        S     mrs  \n",
       "629    male   NaN      0      0     334912   7.7333   NaN        Q      mr  \n",
       "734    male  23.0      0      0     233639  13.0000   NaN        S      mr  \n",
       "106  female  21.0      0      0     343120   7.6500   NaN        S    miss  "
      ]
     },
     "execution_count": 27,
     "metadata": {},
     "output_type": "execute_result"
    }
   ],
   "source": [
    "exploratory_set['Title'] = exploratory_set.Name.str.extract(pat=r'\\b,\\s(.+)\\.\\s\\b', expand=True)\n",
    "exploratory_set['Title'] = exploratory_set['Title'].str.lower()\n",
    "exploratory_set.head()"
   ]
  },
  {
   "cell_type": "code",
   "execution_count": 28,
   "id": "2936a7b1",
   "metadata": {
    "scrolled": true
   },
   "outputs": [
    {
     "data": {
      "text/plain": [
       "mr              415\n",
       "miss            144\n",
       "mrs              88\n",
       "master           29\n",
       "dr                6\n",
       "rev               4\n",
       "major             2\n",
       "col               2\n",
       "jonkheer          1\n",
       "ms                1\n",
       "the countess      1\n",
       "don               1\n",
       "mme               1\n",
       "sir               1\n",
       "capt              1\n",
       "mlle              1\n",
       "Name: Title, dtype: int64"
      ]
     },
     "execution_count": 28,
     "metadata": {},
     "output_type": "execute_result"
    }
   ],
   "source": [
    "exploratory_set['Title'].value_counts()"
   ]
  },
  {
   "cell_type": "code",
   "execution_count": 29,
   "id": "737a7da0",
   "metadata": {},
   "outputs": [
    {
     "data": {
      "image/png": "[encoded data removed]",
      "text/plain": [
       "<Figure size 360x360 with 1 Axes>"
      ]
     },
     "metadata": {
      "needs_background": "light"
     },
     "output_type": "display_data"
    }
   ],
   "source": [
    "sns.catplot(data=exploratory_set, y='Title', kind='count')\n",
    "# plt.savefig('../docs/images/title_count.pdf', bbox_inches='tight')\n",
    "plt.show()"
   ]
  },
  {
   "cell_type": "markdown",
   "id": "acf77258",
   "metadata": {},
   "source": [
    "### Sex"
   ]
  },
  {
   "cell_type": "code",
   "execution_count": null,
   "id": "16a21a86",
   "metadata": {},
   "outputs": [],
   "source": []
  },
  {
   "cell_type": "markdown",
   "id": "aa35fb8a",
   "metadata": {},
   "source": [
    "https://ru.wikipedia.org/wiki/%D0%A2%D0%B8%D1%82%D0%B0%D0%BD%D0%B8%D0%BA\n",
    "\n",
    "https://www.tensorflow.org/datasets/catalog/titanic\n",
    "\n",
    "https://habr.com/ru/company/mlclass/blog/270973/\n",
    "\n",
    "https://towardsdatascience.com/machine-learning-with-the-titanic-dataset-7f6909e58280\n",
    "\n",
    "https://ru.wikipedia.org/wiki/%D0%9F%D0%B0%D1%81%D1%81%D0%B0%D0%B6%D0%B8%D1%80%D1%8B_%C2%AB%D0%A2%D0%B8%D1%82%D0%B0%D0%BD%D0%B8%D0%BA%D0%B0%C2%BB\n",
    "\n",
    "https://www.openml.org/search?type=data&sort=runs&id=40945&status=active"
   ]
  }
 ],
 "metadata": {
  "kernelspec": {
   "display_name": "Python 3 (ipykernel)",
   "language": "python",
   "name": "python3"
  },
  "language_info": {
   "codemirror_mode": {
    "name": "ipython",
    "version": 3
   },
   "file_extension": ".py",
   "mimetype": "text/x-python",
   "name": "python",
   "nbconvert_exporter": "python",
   "pygments_lexer": "ipython3",
   "version": "3.9.12"
  }
 },
 "nbformat": 4,
 "nbformat_minor": 5
}
