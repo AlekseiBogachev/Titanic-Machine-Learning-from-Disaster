{
 "cells": [
  {
   "cell_type": "markdown",
   "id": "7ccac65e",
   "metadata": {},
   "source": [
    "# Titanic - Machine Learning from Disaster\n",
    "\n",
    "Легендарное ML-соревнование с [Kaggle](https://www.kaggle.com/c/titanic)\n",
    "\n",
    "<img src='./Titanic.jpg' width=500>\n",
    "\n",
    "Возможно, гибель Титаника - одно из самых печально известных кораблекрушений в истории. Титаник был крупнейшим действующим океанским лайнером своего времени, у него были улучшенные меры обеспечения безопасности, такие как водонепроницаемые отсеки и водонепроницаемые двери с дистанционным управлением. Корабль считался «непотопляемым», однако он затонул рано утром 15 апреля 1912 года в северной части Атлантического океана во время своего первого рейса из Саутгемптона в Нью-Йорк. В момент столкновения корабля с айсбергом на борту находились 2224 человека.\n",
    "\n",
    "В соответствии с существующей в то время практикой система спасательных шлюпок Титаника была разработана для переправки пассажиров на ближайшие спасательные суда, а не для одновременного удержания всех на плаву. Таким образом, когда корабль быстро тонул (корабль затонул за 2 часа 40 минут), а до прибытия помощи оставалось еще несколько часов, многим пассажирам и членам экипажа не хватило места на спасательных шлюпках, которых было всего 20. Плохая организация эвакуации привела к тому, что многие лодки были спущены на воду до того, как были полностью заполнены.\n",
    "\n",
    "В результате кораблекрушения погибло более 1500 человек, что сделало его одним из самых смертоносных в истории.\n",
    "\n",
    "Без сомнения, при спасении пассажиров имел место элемент удачи, но, возможно, были те, кто имели большие шансы уцелеть чем другие. [Titanic ML competition on Kaggle](https://www.kaggle.com/c/titanic) предлагает участникам предсказать кто их пассажиров пережил кораблекрушение, основываясь на сохранившихся данных о пассажирах.\n",
    "\n",
    "В Интернете можно найти десятки статей, посвященных этому соревнованию, и сотни решений этой задачи. В исследовательском анализе я во многом ориентировался на [эту статью](https://habr.com/ru/company/mlclass/blog/270973/) и позаимствовал из неё несколько идей."
   ]
  },
  {
   "cell_type": "markdown",
   "id": "a1654642",
   "metadata": {
    "toc": true
   },
   "source": [
    "<h1>Содержание<span class=\"tocSkip\"></span></h1>\n",
    "<div class=\"toc\"><ul class=\"toc-item\"><li><span><a href=\"#Импорт-модулей-и-константы\" data-toc-modified-id=\"Импорт-модулей-и-константы-1\"><span class=\"toc-item-num\">1&nbsp;&nbsp;</span>Импорт модулей и константы</a></span></li><li><span><a href=\"#Описание-проекта\" data-toc-modified-id=\"Описание-проекта-2\"><span class=\"toc-item-num\">2&nbsp;&nbsp;</span>Описание проекта</a></span></li><li><span><a href=\"#Описание-данных\" data-toc-modified-id=\"Описание-данных-3\"><span class=\"toc-item-num\">3&nbsp;&nbsp;</span>Описание данных</a></span></li><li><span><a href=\"#Примечания-к-признкакм\" data-toc-modified-id=\"Примечания-к-признкакм-4\"><span class=\"toc-item-num\">4&nbsp;&nbsp;</span>Примечания к признкакм</a></span></li><li><span><a href=\"#Пути-к-файлам\" data-toc-modified-id=\"Пути-к-файлам-5\"><span class=\"toc-item-num\">5&nbsp;&nbsp;</span>Пути к файлам</a></span></li><li><span><a href=\"#Предположения\" data-toc-modified-id=\"Предположения-6\"><span class=\"toc-item-num\">6&nbsp;&nbsp;</span>Предположения</a></span></li><li><span><a href=\"#Анализ-таблицы-с-результатами-соревнований\" data-toc-modified-id=\"Анализ-таблицы-с-результатами-соревнований-7\"><span class=\"toc-item-num\">7&nbsp;&nbsp;</span>Анализ таблицы с результатами соревнований</a></span></li><li><span><a href=\"#Загрузка-данных\" data-toc-modified-id=\"Загрузка-данных-8\"><span class=\"toc-item-num\">8&nbsp;&nbsp;</span>Загрузка данных</a></span></li><li><span><a href=\"#Знакомство-с-данными\" data-toc-modified-id=\"Знакомство-с-данными-9\"><span class=\"toc-item-num\">9&nbsp;&nbsp;</span>Знакомство с данными</a></span></li><li><span><a href=\"#Разделения-на-тестовый-и-тренировочный-наборы\" data-toc-modified-id=\"Разделения-на-тестовый-и-тренировочный-наборы-10\"><span class=\"toc-item-num\">10&nbsp;&nbsp;</span>Разделения на тестовый и тренировочный наборы</a></span></li><li><span><a href=\"#Исследовательский-анализ\" data-toc-modified-id=\"Исследовательский-анализ-11\"><span class=\"toc-item-num\">11&nbsp;&nbsp;</span>Исследовательский анализ</a></span><ul class=\"toc-item\"><li><span><a href=\"#Предварительный-анализ\" data-toc-modified-id=\"Предварительный-анализ-11.1\"><span class=\"toc-item-num\">11.1&nbsp;&nbsp;</span>Предварительный анализ</a></span></li><li><span><a href=\"#Детальный-анализ-признаков\" data-toc-modified-id=\"Детальный-анализ-признаков-11.2\"><span class=\"toc-item-num\">11.2&nbsp;&nbsp;</span>Детальный анализ признаков</a></span><ul class=\"toc-item\"><li><span><a href=\"#Pclass\" data-toc-modified-id=\"Pclass-11.2.1\"><span class=\"toc-item-num\">11.2.1&nbsp;&nbsp;</span>Pclass</a></span></li><li><span><a href=\"#Name\" data-toc-modified-id=\"Name-11.2.2\"><span class=\"toc-item-num\">11.2.2&nbsp;&nbsp;</span>Name</a></span></li><li><span><a href=\"#Sex\" data-toc-modified-id=\"Sex-11.2.3\"><span class=\"toc-item-num\">11.2.3&nbsp;&nbsp;</span>Sex</a></span></li><li><span><a href=\"#Age\" data-toc-modified-id=\"Age-11.2.4\"><span class=\"toc-item-num\">11.2.4&nbsp;&nbsp;</span>Age</a></span></li><li><span><a href=\"#SibSp\" data-toc-modified-id=\"SibSp-11.2.5\"><span class=\"toc-item-num\">11.2.5&nbsp;&nbsp;</span>SibSp</a></span></li><li><span><a href=\"#Parch\" data-toc-modified-id=\"Parch-11.2.6\"><span class=\"toc-item-num\">11.2.6&nbsp;&nbsp;</span>Parch</a></span></li><li><span><a href=\"#Fare\" data-toc-modified-id=\"Fare-11.2.7\"><span class=\"toc-item-num\">11.2.7&nbsp;&nbsp;</span>Fare</a></span></li><li><span><a href=\"#Cabin\" data-toc-modified-id=\"Cabin-11.2.8\"><span class=\"toc-item-num\">11.2.8&nbsp;&nbsp;</span>Cabin</a></span></li><li><span><a href=\"#Embarked\" data-toc-modified-id=\"Embarked-11.2.9\"><span class=\"toc-item-num\">11.2.9&nbsp;&nbsp;</span>Embarked</a></span></li></ul></li><li><span><a href=\"#Вывод\" data-toc-modified-id=\"Вывод-11.3\"><span class=\"toc-item-num\">11.3&nbsp;&nbsp;</span>Вывод</a></span></li></ul></li><li><span><a href=\"#Обработка-данных\" data-toc-modified-id=\"Обработка-данных-12\"><span class=\"toc-item-num\">12&nbsp;&nbsp;</span>Обработка данных</a></span><ul class=\"toc-item\"><li><span><a href=\"#Разработка-новых-признаков\" data-toc-modified-id=\"Разработка-новых-признаков-12.1\"><span class=\"toc-item-num\">12.1&nbsp;&nbsp;</span>Разработка новых признаков</a></span><ul class=\"toc-item\"><li><span><a href=\"#Title\" data-toc-modified-id=\"Title-12.1.1\"><span class=\"toc-item-num\">12.1.1&nbsp;&nbsp;</span><code>Title</code></a></span></li><li><span><a href=\"#AgeGroup-и-FareGroup\" data-toc-modified-id=\"AgeGroup-и-FareGroup-12.1.2\"><span class=\"toc-item-num\">12.1.2&nbsp;&nbsp;</span><code>AgeGroup</code> и <code>FareGroup</code></a></span></li><li><span><a href=\"#Family\" data-toc-modified-id=\"Family-12.1.3\"><span class=\"toc-item-num\">12.1.3&nbsp;&nbsp;</span><code>Family</code></a></span></li><li><span><a href=\"#isFramily-и-isCabin\" data-toc-modified-id=\"isFramily-и-isCabin-12.1.4\"><span class=\"toc-item-num\">12.1.4&nbsp;&nbsp;</span><code>isFramily</code> и <code>isCabin</code></a></span></li></ul></li><li><span><a href=\"#Оценка-информативности-признаков\" data-toc-modified-id=\"Оценка-информативности-признаков-12.2\"><span class=\"toc-item-num\">12.2&nbsp;&nbsp;</span>Оценка информативности признаков</a></span><ul class=\"toc-item\"><li><span><a href=\"#Конвейер\" data-toc-modified-id=\"Конвейер-12.2.1\"><span class=\"toc-item-num\">12.2.1&nbsp;&nbsp;</span>Конвейер</a></span></li><li><span><a href=\"#Корреляция-между-обучающими-признаками\" data-toc-modified-id=\"Корреляция-между-обучающими-признаками-12.2.2\"><span class=\"toc-item-num\">12.2.2&nbsp;&nbsp;</span>Корреляция между обучающими признаками</a></span></li><li><span><a href=\"#Взаимная-информация-(Mutual-Information)\" data-toc-modified-id=\"Взаимная-информация-(Mutual-Information)-12.2.3\"><span class=\"toc-item-num\">12.2.3&nbsp;&nbsp;</span>Взаимная информация (Mutual Information)</a></span></li></ul></li></ul></li><li><span><a href=\"#Базовая-модель\" data-toc-modified-id=\"Базовая-модель-13\"><span class=\"toc-item-num\">13&nbsp;&nbsp;</span>Базовая модель</a></span></li><li><span><a href=\"#Выбор-модели\" data-toc-modified-id=\"Выбор-модели-14\"><span class=\"toc-item-num\">14&nbsp;&nbsp;</span>Выбор модели</a></span></li><li><span><a href=\"#Отбор-признаков\" data-toc-modified-id=\"Отбор-признаков-15\"><span class=\"toc-item-num\">15&nbsp;&nbsp;</span>Отбор признаков</a></span></li></ul></div>"
   ]
  },
  {
   "cell_type": "markdown",
   "id": "ce1b44eb",
   "metadata": {},
   "source": [
    "## Импорт модулей и константы"
   ]
  },
  {
   "cell_type": "code",
   "execution_count": null,
   "id": "a544d8b0",
   "metadata": {},
   "outputs": [],
   "source": [
    "import warnings\n",
    "\n",
    "\n",
    "from category_encoders.target_encoder import TargetEncoder\n",
    "\n",
    "from imblearn.over_sampling import SMOTE\n",
    "\n",
    "from imblearn.pipeline import Pipeline\n",
    "\n",
    "import matplotlib.pyplot as plt\n",
    "\n",
    "import numpy as np\n",
    "\n",
    "import pandas as pd\n",
    "\n",
    "from pandas.plotting import scatter_matrix\n",
    "\n",
    "import seaborn as sns\n",
    "\n",
    "from scipy.stats import (percentileofscore,\n",
    "                         randint,\n",
    "                         ttest_ind,\n",
    "                         uniform,\n",
    "                        )\n",
    "\n",
    "from sklearn.compose import ColumnTransformer\n",
    "\n",
    "from sklearn.decomposition import PCA\n",
    "\n",
    "from sklearn.dummy import DummyClassifier\n",
    "\n",
    "from sklearn.ensemble import (GradientBoostingClassifier, \n",
    "                              RandomForestClassifier)\n",
    "\n",
    "from sklearn.feature_selection import (mutual_info_classif, \n",
    "                                       RFE,\n",
    "                                       RFECV)\n",
    "\n",
    "from sklearn.impute import (MissingIndicator, \n",
    "                            SimpleImputer)\n",
    "\n",
    "from sklearn.neighbors import KNeighborsClassifier\n",
    "\n",
    "from sklearn.linear_model import LogisticRegression\n",
    "\n",
    "from sklearn.metrics import (get_scorer, \n",
    "                             roc_curve)\n",
    "\n",
    "from sklearn.model_selection import (cross_val_predict, \n",
    "                                     cross_val_score,\n",
    "                                     train_test_split,)\n",
    "\n",
    "from sklearn.preprocessing import (Binarizer, \n",
    "                                   FunctionTransformer, \n",
    "                                   KBinsDiscretizer, \n",
    "                                   StandardScaler)\n",
    "\n",
    "from sklearn.svm import SVC\n",
    "\n",
    "from sklearn.tree import DecisionTreeClassifier\n",
    "\n",
    "\n",
    "warnings.simplefilter(action='ignore', category=FutureWarning)\n",
    "\n",
    "\n",
    "SEED = 42\n",
    "CV = 10\n",
    "\n",
    "\n",
    "%matplotlib inline"
   ]
  },
  {
   "cell_type": "markdown",
   "id": "ac481167",
   "metadata": {},
   "source": [
    "## Описание проекта\n",
    "\n",
    "**Цель** - предсказать выживет пассажир Тинтаника в кораблекрушении или нет.\n",
    "\n",
    "**Тип задачи** - классификация (бинарная классификация).\n",
    "\n",
    "**Целевая метрика** - *accuracy* (точность).\n",
    "\n",
    "**Желаемое значение целевой метрики:** Табилца с результатами соревнований содержит почти 14000 записей. \n",
    "Медианное значение точности 0.775, но менее 4% имеют резутат выше 0.8. \n",
    "Таким образом, **значение метрики accuracy больше или равное 0.8 будет отличным результатом**.\n",
    "\n",
    "**Существующие решения:** имеется огромное количество решений опубликованных в интернете и [на форуме](https://www.kaggle.com/c/titanic/discussion)\n",
    "\n",
    "## Описание данных\n",
    "0. **PassengerId** - ID пассажира.\n",
    "1. **Survived** - Выживший:\n",
    "    - 0 = Нет, \n",
    "    - 1 = Да.\n",
    "2. **Pclass** - Класс билета:\n",
    "    - 1 = первый, \n",
    "    - 2 = второй, \n",
    "    - 3 = третий.\n",
    "3. **Name** - Имя пассажира, например Braund, Mr. Owen Harris.\n",
    "4. **Sex** - Пол:\n",
    "    - male - мужчина,\n",
    "    - female - женщина.\n",
    "5. **Age** - Возраст в годах, например 38.0.\n",
    "6. **SibSp** - Количество братьев и сестер или супругов на борту Титаника.\n",
    "7. **Parch** - Количество родителей или детей на борту Титаника.\n",
    "8. **Ticket** - Номер билета, например A/5 21171.\n",
    "9. **Fare** - Стоимость билета, например 71.2833.\n",
    "10. **Cabin** - Номер каюты, напрмер C85.\n",
    "11. **Embarked** - Порт, где пассажир сел на корабль:\n",
    "    - C = Cherbourg,\n",
    "    - Q = Queenstown,\n",
    "    - S = Southampton.\n",
    "    \n",
    "**Признаки:** PassengerId, Pclass, Name, Sex, Age, SibSp, Parch, Ticket,\n",
    "Fare, Cabin, Embarked\n",
    "\n",
    "**Целевой признак** - Survived\n",
    "    \n",
    "## Примечания к признкакм\n",
    "- **pclass**: социально-экономический статус\n",
    "    - *1st* = Upper\n",
    "    - *2nd* = Middle\n",
    "    - *3rd* = Lower\n",
    "- **age**: Возраст представлен дробным значением, если он меньше 1 года. Если возрас известен, то значение имеет вид xx.5.\n",
    "- **sibsp**: Количество братьев и сестер или супругов на борту Титаника\n",
    "    - *sibling* = брат, сестра, сводный брат, сводная сестра\n",
    "    - *spouse* = муж, жена (любовницы, женихи и невесты игнорировались)\n",
    "- **parch**: количество родителей (мать, отец)/детей (дочь, сын, в т.ч. приёмные) на борту Титаника. Некоторые дети путешествовали только с няней, поэтому для них parch=0.\n",
    "\n",
    "## Пути к файлам\n",
    "- **training set**: ../datasets/train.csv - набор данных для обучения модели.\n",
    "- **test set**: ../datasets/test.csv - набор для подготовки предсказания для отправки на проверку.\n",
    "- **example of a submission file**: ../datasets/gender_submission.csv - пример данных, подготовленных для проверки. В нём значения целевой переменной расставлены случайным образом.\n",
    "\n",
    "## Предположения\n",
    "У женщин было больше шансов выжить, чем у мужчин.\n",
    "\n",
    "## Анализ таблицы с результатами соревнований\n",
    "Скачаем [таблицу с результатами соревнования](https://www.kaggle.com/competitions/titanic/leaderboard) и проанализируем результаты в ней. Таблица загружена 07.01.2023.\n",
    "\n",
    "Выведем первые 5 строк таблицы."
   ]
  },
  {
   "cell_type": "code",
   "execution_count": null,
   "id": "a6134ed7",
   "metadata": {},
   "outputs": [],
   "source": [
    "leaderboard = pd.read_csv('../datasets/titanic-publicleaderboard.csv')\n",
    "leaderboard.head()"
   ]
  },
  {
   "cell_type": "markdown",
   "id": "05aa6b56",
   "metadata": {},
   "source": [
    "Неожиданно, в начале таблицы оказались результаты с точностью (метрика accuracy) равной 1. Неужели авторы смогли достичь совершенства?\n",
    "\n",
    "Посчитаем описательные статистики для результатов приведённых в таблице (столбец `Score`)."
   ]
  },
  {
   "cell_type": "code",
   "execution_count": null,
   "id": "149ff572",
   "metadata": {
    "scrolled": true
   },
   "outputs": [],
   "source": [
    "leaderboard.Score.describe()"
   ]
  },
  {
   "cell_type": "markdown",
   "id": "f927a1d3",
   "metadata": {},
   "source": [
    "Посчитаем процент участников показавших результат лучше 0.8."
   ]
  },
  {
   "cell_type": "code",
   "execution_count": null,
   "id": "8d1aec8a",
   "metadata": {},
   "outputs": [],
   "source": [
    "print(f'Только {1 - percentileofscore(leaderboard.Score, 0.8) / 100 :.2%} участников показали результат лучше 0.8')"
   ]
  },
  {
   "cell_type": "markdown",
   "id": "9825cefd",
   "metadata": {},
   "source": [
    "Таким образом, **значение метрики accuracy больше или равное 0.8 будет отличным результатом**.\n",
    "\n",
    "Построим функцию распределения (ECDF) вероятности результатов участников. Красным отметим желаемое значение целевой метрики."
   ]
  },
  {
   "cell_type": "code",
   "execution_count": null,
   "id": "9993b00f",
   "metadata": {},
   "outputs": [],
   "source": [
    "def plot_ecdf_with_target(data, target):\n",
    "    sns.displot(data, stat='proportion', kind='ecdf', height=5, aspect=1)\n",
    "    \n",
    "    quantile = percentileofscore(data, target) / 100\n",
    "    \n",
    "    plt.plot([0, target, target], [quantile, quantile, 0], '-.r')\n",
    "    plt.plot([target], [quantile], 'or')\n",
    "    \n",
    "    plt.xlim((0, 1))\n",
    "    plt.ylim((0, 1))\n",
    "    \n",
    "    plt.title('ECDF результатов соревнования')\n",
    "    \n",
    "    plt.grid()\n",
    "    \n",
    "    plt.show()\n",
    "\n",
    "    \n",
    "plot_ecdf_with_target(leaderboard.Score, 0.8)"
   ]
  },
  {
   "cell_type": "markdown",
   "id": "044471d5",
   "metadata": {},
   "source": [
    "Построим плотность распределения вероятности получения определённого результата соревнования. Красной стрелкой отметим результаты равные 1.0 ."
   ]
  },
  {
   "cell_type": "code",
   "execution_count": null,
   "id": "72724af5",
   "metadata": {
    "scrolled": false
   },
   "outputs": [],
   "source": [
    "sns.displot(leaderboard, x='Score', kind='kde')\n",
    "\n",
    "plt.arrow(x=1.0, y=5, dx=0, dy=-3.5, width=0.01, head_width=0.04, head_length=0.8, color='r')\n",
    "plt.title(\"KDE результатов соревнования\")\n",
    "plt.grid()\n",
    "\n",
    "plt.show()"
   ]
  },
  {
   "cell_type": "markdown",
   "id": "f3cb443a",
   "metadata": {},
   "source": [
    "Возможно, решения с \"совершенным\" результатом появились из-за того, что на [GitHub](https://github.com/thisisjasonjafari/my-datascientise-handcode/raw/master/005-datavisualization/titanic.csv) есть точное решение задачи соревнования. Вполен возможно, что выложены данные, извлечённые из [Encyclopedia Titanica](https://www.encyclopedia-titanica.org/titanic-survivors/) или из [OpenML](https://www.openml.org/search?type=data&sort=runs&id=40945&status=active).\n",
    "\n",
    "Некоторые авторы в своих тетрадках честно предупреждают других пользователей о наличии такой возможности, например [вот этот](https://www.kaggle.com/code/suzukifelipe/how-to-be-a-top-lb-explained-for-beginners/notebook?scriptVersionId=99817039).\n",
    "\n",
    "Приступим к решению задачи."
   ]
  },
  {
   "cell_type": "markdown",
   "id": "aeee5179",
   "metadata": {},
   "source": [
    "## Загрузка данных\n",
    "Загрузим набор данных для разработки модели. Далее будем работать с этим набором данных."
   ]
  },
  {
   "cell_type": "code",
   "execution_count": null,
   "id": "569ff375",
   "metadata": {},
   "outputs": [],
   "source": [
    "data = pd.read_csv('../datasets/train.csv')"
   ]
  },
  {
   "cell_type": "markdown",
   "id": "ee905837",
   "metadata": {},
   "source": [
    "Загрузим набор признкаов для отправки результатов на проверку. Отложим этот набор."
   ]
  },
  {
   "cell_type": "code",
   "execution_count": null,
   "id": "63bb8ac0",
   "metadata": {},
   "outputs": [],
   "source": [
    "submission_X = pd.read_csv('../datasets/test.csv')"
   ]
  },
  {
   "cell_type": "markdown",
   "id": "6ca4b90e",
   "metadata": {},
   "source": [
    "## Знакомство с данными\n",
    "Выведем форму датасета."
   ]
  },
  {
   "cell_type": "code",
   "execution_count": null,
   "id": "4f1f5585",
   "metadata": {},
   "outputs": [],
   "source": [
    "print(f'Датасет содержит {data.shape[0]} строку и {data.shape[1]} столбцов.')"
   ]
  },
  {
   "cell_type": "markdown",
   "id": "ce52dece",
   "metadata": {},
   "source": [
    "Выведем на экран первые 10 строк датасета"
   ]
  },
  {
   "cell_type": "code",
   "execution_count": null,
   "id": "2a6f6e57",
   "metadata": {
    "scrolled": false
   },
   "outputs": [],
   "source": [
    "data.head(10)"
   ]
  },
  {
   "cell_type": "markdown",
   "id": "4edbe7da",
   "metadata": {},
   "source": [
    "Проверим типы данных признаков и наличие пропусков"
   ]
  },
  {
   "cell_type": "code",
   "execution_count": null,
   "id": "b5e32b91",
   "metadata": {},
   "outputs": [],
   "source": [
    "data.info()"
   ]
  },
  {
   "cell_type": "markdown",
   "id": "17768384",
   "metadata": {},
   "source": [
    "Столбцы `Age`, `Cabin`, `Embarked` содержат пропуски, причём, в столбце `Cabin` пропусков большинство."
   ]
  },
  {
   "cell_type": "markdown",
   "id": "9bbbe0c8",
   "metadata": {},
   "source": [
    "Проверим есть ли дисбаланс классов целевой переменной."
   ]
  },
  {
   "cell_type": "code",
   "execution_count": null,
   "id": "de3ba29a",
   "metadata": {},
   "outputs": [],
   "source": [
    "def check_target_imbalance(vals):\n",
    "    mean_val = vals.mean()\n",
    "    \n",
    "    print(f'Доля выживших пассажиров - {mean_val: .2%}')\n",
    "    print(f'Доля погибших пассажиров - {1 - mean_val: .2%}')\n",
    "    \n",
    "check_target_imbalance(data.Survived)"
   ]
  },
  {
   "cell_type": "markdown",
   "id": "0c2ba008",
   "metadata": {},
   "source": [
    "В датасете есть дисбаланс классов, поэтому будем использовать стратификацию при разделении на тренировочный и тестовый наборы и апсемплинг при обучении модели.\n",
    "\n",
    "Проверим наличие дубликатов в наборе данных."
   ]
  },
  {
   "cell_type": "code",
   "execution_count": null,
   "id": "b5fd163c",
   "metadata": {},
   "outputs": [],
   "source": [
    "if data.duplicated().any():\n",
    "    print('В данных есть дубликаты!')\n",
    "else:\n",
    "    print('Дубликаты не обнаружены.')"
   ]
  },
  {
   "cell_type": "markdown",
   "id": "f19ae8bd",
   "metadata": {},
   "source": [
    "## Разделения на тестовый и тренировочный наборы\n",
    "Чтобы обучить модель и спрогнозировать точность её предсказаний на новых данных (результат соревнования) необходимо разделить данные (датафрейм `data`) на тестовый и тренировочный наборы. При разделении будем делать стратификацию по целевому признаку."
   ]
  },
  {
   "cell_type": "code",
   "execution_count": null,
   "id": "81368515",
   "metadata": {},
   "outputs": [],
   "source": [
    "X = data.drop(columns = 'Survived')\n",
    "y = data.Survived.copy()\n",
    "\n",
    "X_train, X_test, y_train, y_test = train_test_split(X, y, test_size=0.2, random_state=SEED, stratify=y)"
   ]
  },
  {
   "cell_type": "markdown",
   "id": "3660394e",
   "metadata": {},
   "source": [
    "Проверим дисбаланс классов в тренировочной выборке"
   ]
  },
  {
   "cell_type": "code",
   "execution_count": null,
   "id": "4282f3e5",
   "metadata": {},
   "outputs": [],
   "source": [
    "check_target_imbalance(y_train)"
   ]
  },
  {
   "cell_type": "markdown",
   "id": "58afcdb1",
   "metadata": {},
   "source": [
    "Проверим дисбаланс классов в тестовой выборке"
   ]
  },
  {
   "cell_type": "code",
   "execution_count": null,
   "id": "78bc6915",
   "metadata": {},
   "outputs": [],
   "source": [
    "check_target_imbalance(y_test)"
   ]
  },
  {
   "cell_type": "markdown",
   "id": "4002a363",
   "metadata": {},
   "source": [
    "Пропорции приблизительно одинаковые."
   ]
  },
  {
   "cell_type": "markdown",
   "id": "29eedbca",
   "metadata": {},
   "source": [
    "## Исследовательский анализ"
   ]
  },
  {
   "cell_type": "markdown",
   "id": "418cb167",
   "metadata": {},
   "source": [
    "### Предварительный анализ"
   ]
  },
  {
   "cell_type": "markdown",
   "id": "ff844476",
   "metadata": {},
   "source": [
    "Распечатаем описательные статистики для числовых признаков"
   ]
  },
  {
   "cell_type": "code",
   "execution_count": null,
   "id": "894d87df",
   "metadata": {},
   "outputs": [],
   "source": [
    "X_train.describe()"
   ]
  },
  {
   "cell_type": "markdown",
   "id": "0c3eef73",
   "metadata": {},
   "source": [
    "В таблицу попал категориальный признак `Pclass` рассмотрим его отдельно"
   ]
  },
  {
   "cell_type": "code",
   "execution_count": null,
   "id": "26c63673",
   "metadata": {},
   "outputs": [],
   "source": [
    "X_train[['Pclass']].astype('object').describe()"
   ]
  },
  {
   "cell_type": "markdown",
   "id": "d3d28b91",
   "metadata": {},
   "source": [
    "Выведем описательные статистики для столбцов с типом `object`."
   ]
  },
  {
   "cell_type": "code",
   "execution_count": null,
   "id": "0f9ed19f",
   "metadata": {},
   "outputs": [],
   "source": [
    "X_train.describe(include='object')"
   ]
  },
  {
   "cell_type": "markdown",
   "id": "3d9cd420",
   "metadata": {},
   "source": [
    "Признак `PassengerID` - уникальный идентификатор пассажира, он не несёт никакой информации. \n",
    "\n",
    "Признаки `Name` и `Ticket` имеют слишком большое количество уникальных значений и, скорее всего, не помогут нам. Однако, из признака `Name` можно извлечь титул, который принадлежал человеку, нёс информацию о его социально-экономическом положении и, чисто теоретически, мог влиять на шанс выжить.\n",
    "\n",
    "Признак `Cabin` содержит большое количество пропущенных значений, тем не менее, можно попробовать предположить, что номер каюты известен для выживших пассажиров, и закодировать номер каюты единицей, когда он известен, а когда не известен, закодировать его нулём, или применить другой способ кодирования категориальной переменной."
   ]
  },
  {
   "cell_type": "markdown",
   "id": "0bec25fd",
   "metadata": {},
   "source": [
    "Выведем гистограммы потенциально полезных количественных признаков."
   ]
  },
  {
   "cell_type": "code",
   "execution_count": null,
   "id": "410ae57a",
   "metadata": {},
   "outputs": [],
   "source": [
    "num_columns = ['Age', 'SibSp', 'Parch', 'Fare']\n",
    "\n",
    "X_train[num_columns].hist(figsize=(7,7))\n",
    "plt.show()"
   ]
  },
  {
   "cell_type": "markdown",
   "id": "07207127",
   "metadata": {},
   "source": [
    "Распределение пассажиров по возрастам  близко к нормальному, остальные по форме далеки от нормального распределения. Также признаки имеют очень разные масштабы.\n",
    "\n",
    "Проверим наличие корреляции между количественными признакми."
   ]
  },
  {
   "cell_type": "code",
   "execution_count": null,
   "id": "8468da85",
   "metadata": {},
   "outputs": [],
   "source": [
    "scatter_matrix(X_train[num_columns],\n",
    "               figsize=(7, 7),\n",
    "               alpha=0.2,\n",
    "              )\n",
    "\n",
    "plt.show()"
   ]
  },
  {
   "cell_type": "markdown",
   "id": "d4e95db1",
   "metadata": {},
   "source": [
    "Построим матрицу корреляции"
   ]
  },
  {
   "cell_type": "code",
   "execution_count": null,
   "id": "f45ea588",
   "metadata": {},
   "outputs": [],
   "source": [
    "def plot_corr_matrix(df, size=(7, 7), vmin=-1, vmax=1, method='pearson'):\n",
    "    corr = df.corr(method=method)\n",
    "    \n",
    "    mask = np.triu(np.ones_like(corr, dtype=bool))\n",
    "    \n",
    "    f, ax = plt.subplots(figsize=size)\n",
    "    \n",
    "    cmap = sns.diverging_palette(230, 20, as_cmap=True)\n",
    "    \n",
    "    sns.heatmap(corr,\n",
    "                mask=mask,\n",
    "                cmap=cmap,\n",
    "                annot=True,\n",
    "                vmax=vmax,\n",
    "                vmin=vmin,\n",
    "                center=0.0,\n",
    "                square=True,\n",
    "                linewidths=1.0,\n",
    "                cbar_kws={'shrink': 0.5},\n",
    "                ax=ax\n",
    "               )\n",
    "    \n",
    "    ax.set_title('Матрица корреляции')\n",
    "    \n",
    "    plt.show()\n",
    "    \n",
    "plot_corr_matrix(X_train[num_columns], vmin=-0.4, vmax=0.4)"
   ]
  },
  {
   "cell_type": "markdown",
   "id": "43d1a8ba",
   "metadata": {},
   "source": [
    "Наблюдается небольшая отрицательная корреляция между признакми `SibSp` и `Age`, коэффициент корреляции равер -0.31, и небольшая положительная корреляция между `Parch` и `SibSp`, коэффициент корреляции равен 0.39."
   ]
  },
  {
   "cell_type": "markdown",
   "id": "3315735c",
   "metadata": {},
   "source": [
    "### Детальный анализ признаков\n",
    "Рассмотрим каждый признак по отдельности, чтобы найти перспективные преобразования для них и выявить аномалии в данных. Признаки `PassengerId` и `Ticket` рассматривать не будем.\n",
    "\n",
    "Для этого снова присоединим к набору целевой признак и присвоем их переменной `exploratory_set`."
   ]
  },
  {
   "cell_type": "code",
   "execution_count": null,
   "id": "f9d4fa37",
   "metadata": {},
   "outputs": [],
   "source": [
    "exploratory_set = pd.concat([X_train, y_train], axis='columns')\n",
    "exploratory_set.head()"
   ]
  },
  {
   "cell_type": "markdown",
   "id": "86503e4f",
   "metadata": {},
   "source": [
    "#### Pclass\n",
    "Посчитаем количество пассажиров для каждого класса билета."
   ]
  },
  {
   "cell_type": "code",
   "execution_count": null,
   "id": "2fabfa69",
   "metadata": {},
   "outputs": [],
   "source": [
    "sns.catplot(data=exploratory_set, x='Pclass', kind='count')\n",
    "\n",
    "plt.title('Количество пассажиров в каждом классе')\n",
    "plt.xlabel('Класс билета')\n",
    "plt.ylabel('Количество человек')\n",
    "\n",
    "plt.show()\n",
    "\n",
    "display(exploratory_set.Pclass.value_counts())"
   ]
  },
  {
   "cell_type": "markdown",
   "id": "28e22206",
   "metadata": {},
   "source": [
    "Больше всего пассажиров находились в третьем классе.\n",
    "\n",
    "Оценим долю выживших для каждого класса."
   ]
  },
  {
   "cell_type": "code",
   "execution_count": null,
   "id": "6bfb3112",
   "metadata": {},
   "outputs": [],
   "source": [
    "sns.catplot(data=exploratory_set, x='Pclass', y='Survived', kind='bar', errorbar=None)\n",
    "\n",
    "plt.title('Доля выживших в каждом классе')\n",
    "plt.xlabel('Класс билета')\n",
    "plt.ylabel('Доля выживших')\n",
    "\n",
    "plt.show()"
   ]
  },
  {
   "cell_type": "markdown",
   "id": "730de861",
   "metadata": {},
   "source": [
    "Самая высока смертность была среди пассажиров третьего класса, возможно, это было связано с тем, что их каюты находились дальше всего от спасательных шлюпок.\n",
    "\n",
    "Оценим долю выживших для каждого класса в разрезе полов."
   ]
  },
  {
   "cell_type": "code",
   "execution_count": null,
   "id": "a22f58e4",
   "metadata": {
    "scrolled": false
   },
   "outputs": [],
   "source": [
    "sns.catplot(data=exploratory_set, x='Pclass', y='Survived', hue='Sex', kind='bar', errorbar=None)\n",
    "\n",
    "plt.title('Доля выживших в каждом классе')\n",
    "plt.xlabel('Класс билета')\n",
    "plt.ylabel('Доля выживших')\n",
    "\n",
    "plt.show()"
   ]
  },
  {
   "cell_type": "markdown",
   "id": "5de5d376",
   "metadata": {},
   "source": [
    "Таким образом, в каждом классе выжило больше женщин, чем мужчин. Самая высокая смертность была среди мужчин третьего класса."
   ]
  },
  {
   "cell_type": "markdown",
   "id": "e50277f1",
   "metadata": {},
   "source": [
    "#### Name\n",
    "Имена пассажиров, как мы заметили в предварительном анализе, все уникальны. Однако, они содержат титул, который может указывать на социально-экономический статус пассажира и может быть связан с шансами выжить в кораблекружении.\n",
    "\n",
    "Выведем первые 5 значений признака `Name`."
   ]
  },
  {
   "cell_type": "code",
   "execution_count": null,
   "id": "ea99fd8a",
   "metadata": {},
   "outputs": [],
   "source": [
    "exploratory_set[['Name']].head()"
   ]
  },
  {
   "cell_type": "markdown",
   "id": "520a12ba",
   "metadata": {},
   "source": [
    "Выделим новый признак `Title` (титул) и добиви его к `exploratory_set`, затем выведем первые 5 строк получившегося датафрейма."
   ]
  },
  {
   "cell_type": "code",
   "execution_count": null,
   "id": "9a676a18",
   "metadata": {
    "scrolled": true
   },
   "outputs": [],
   "source": [
    "exploratory_set['Title'] = exploratory_set.Name.str.extract(pat=r'\\b,\\s(.+?)\\.\\s[\\b(]?', expand=True)\n",
    "exploratory_set['Title'] = exploratory_set['Title'].str.lower()\n",
    "exploratory_set.head()"
   ]
  },
  {
   "cell_type": "markdown",
   "id": "cbec3cae",
   "metadata": {},
   "source": [
    "Посчитаем описательные статистики для нового признака."
   ]
  },
  {
   "cell_type": "code",
   "execution_count": null,
   "id": "466021e1",
   "metadata": {},
   "outputs": [],
   "source": [
    "exploratory_set[['Title']].describe()"
   ]
  },
  {
   "cell_type": "markdown",
   "id": "0c1e0883",
   "metadata": {},
   "source": [
    "Определим количество повторений каждого титула в наборе данных."
   ]
  },
  {
   "cell_type": "code",
   "execution_count": null,
   "id": "737a7da0",
   "metadata": {},
   "outputs": [],
   "source": [
    "sns.catplot(data=exploratory_set, y='Title', kind='count')\n",
    "\n",
    "plt.title('Титулы пассажиров')\n",
    "plt.xlabel('Количество человек')\n",
    "plt.ylabel('Титул')\n",
    "\n",
    "plt.show()\n",
    "\n",
    "display(exploratory_set.Title.value_counts(dropna=False))"
   ]
  },
  {
   "cell_type": "markdown",
   "id": "be8e3ca0",
   "metadata": {},
   "source": [
    "Обращение *master* в то время использовалось по отношению к младенцам мужского пола. Также признак содержит несколько редко встречающихся титулов. Выведем их, затем вынесем в отдельный список `aristocratic_titles`."
   ]
  },
  {
   "cell_type": "code",
   "execution_count": null,
   "id": "9d7516ae",
   "metadata": {},
   "outputs": [],
   "source": [
    "aristocratic_titles = pd.DataFrame(exploratory_set.Title.value_counts()).query('Title < 10')\n",
    "display(aristocratic_titles)\n",
    "\n",
    "aristocratic_titles = list(aristocratic_titles.index)"
   ]
  },
  {
   "cell_type": "markdown",
   "id": "62ce22b9",
   "metadata": {},
   "source": [
    "Заменим их значением *aristocratic* (аристократический)."
   ]
  },
  {
   "cell_type": "code",
   "execution_count": null,
   "id": "9e17ca90",
   "metadata": {},
   "outputs": [],
   "source": [
    "exploratory_set.loc[exploratory_set.Title.isin(aristocratic_titles), 'Title'] = 'aristocratic'"
   ]
  },
  {
   "cell_type": "markdown",
   "id": "d9c0edc5",
   "metadata": {},
   "source": [
    "Посмотрим как владельцы разных титулов были распределены по классам билетов."
   ]
  },
  {
   "cell_type": "code",
   "execution_count": null,
   "id": "e2fb108f",
   "metadata": {},
   "outputs": [],
   "source": [
    "sns.catplot(data=exploratory_set, y='Title', x='Pclass', hue='Survived', orient='h', alpha=0.5)\n",
    "\n",
    "plt.title('Распреедление владельцев титулов по классам билетов')\n",
    "plt.xlabel('Класс билета')\n",
    "plt.ylabel('Титул')\n",
    "\n",
    "plt.show()"
   ]
  },
  {
   "cell_type": "markdown",
   "id": "80b9bcf8",
   "metadata": {},
   "source": [
    "Владельцы аристократических титулов занимали только первый и второй класс.\n",
    "\n",
    "Оценим долю выживших для каждого титула. Также просматривается некоторая связь между титулом, классом и долей выживших."
   ]
  },
  {
   "cell_type": "code",
   "execution_count": null,
   "id": "cbe48746",
   "metadata": {},
   "outputs": [],
   "source": [
    "sns.catplot(data=exploratory_set, x='Title', y='Survived', kind='bar', errorbar=None, aspect=1.5)\n",
    "\n",
    "plt.title('Доля выживших для каждого титула')\n",
    "plt.xlabel('Титул')\n",
    "plt.ylabel('Доля выживших')\n",
    "\n",
    "plt.show()"
   ]
  },
  {
   "cell_type": "markdown",
   "id": "29fdc135",
   "metadata": {},
   "source": [
    "По смотрим ту же метрику в разрезе полов."
   ]
  },
  {
   "cell_type": "code",
   "execution_count": null,
   "id": "b2247a82",
   "metadata": {},
   "outputs": [],
   "source": [
    "sns.catplot(data=exploratory_set, x='Title', y='Survived', hue='Sex', kind='bar', errorbar=None, aspect=1.5)\n",
    "\n",
    "plt.title('Доля выживших для каждого титула')\n",
    "plt.xlabel('Титул')\n",
    "plt.ylabel('Доля выживших')\n",
    "\n",
    "plt.show()"
   ]
  },
  {
   "cell_type": "markdown",
   "id": "69968a13",
   "metadata": {},
   "source": [
    "Среди мужчин на Титанике аристократы и младенцы имели более высокие шансы спастись."
   ]
  },
  {
   "cell_type": "markdown",
   "id": "a14ba179",
   "metadata": {},
   "source": [
    "#### Sex\n",
    "Оценим количество женщин и мужчин севших на Титаник"
   ]
  },
  {
   "cell_type": "code",
   "execution_count": null,
   "id": "27277fc0",
   "metadata": {},
   "outputs": [],
   "source": [
    "sns.catplot(data=exploratory_set, x='Sex', kind='count')\n",
    "\n",
    "plt.title('Количество мужчин и женщин')\n",
    "plt.xlabel('Пол')\n",
    "plt.ylabel('Количество человек')\n",
    "\n",
    "plt.show()\n",
    "\n",
    "display(X_train.Sex.value_counts())"
   ]
  },
  {
   "cell_type": "markdown",
   "id": "0eaf37f9",
   "metadata": {},
   "source": [
    "Мужчин на титанике было почти в 2 раза больше чем женщин.\n",
    "\n",
    "Оценим количество выживших пассажиров каждого пола."
   ]
  },
  {
   "cell_type": "code",
   "execution_count": null,
   "id": "13220586",
   "metadata": {},
   "outputs": [],
   "source": [
    "sns.catplot(data=exploratory_set, x='Sex', hue='Survived', kind='count')\n",
    "\n",
    "plt.title('Количество выживших и утонувших')\n",
    "plt.xlabel('Пол')\n",
    "plt.ylabel('Количество человек')\n",
    "\n",
    "plt.show()"
   ]
  },
  {
   "cell_type": "markdown",
   "id": "1aa3703d",
   "metadata": {},
   "source": [
    "Оценим долю выживших среди мужчин и женщин"
   ]
  },
  {
   "cell_type": "code",
   "execution_count": null,
   "id": "f9aab9ef",
   "metadata": {},
   "outputs": [],
   "source": [
    "sns.catplot(data=data, x='Sex', y='Survived', kind='bar', errorbar=None)\n",
    "plt.show()"
   ]
  },
  {
   "cell_type": "markdown",
   "id": "84c53535",
   "metadata": {},
   "source": [
    "Женщины на Титанике явно имели более высоки шансы выжить, чем мужчины, что согласуется с протоколом \"Женщины и дети первые\", действовавшим в то время."
   ]
  },
  {
   "cell_type": "markdown",
   "id": "c0777dd1",
   "metadata": {},
   "source": [
    "#### Age"
   ]
  },
  {
   "cell_type": "markdown",
   "id": "49b6125c",
   "metadata": {},
   "source": [
    "Рассмотрим распределение возрастов пассажиров Титаника, для этого построим гистограмму признака `Age`."
   ]
  },
  {
   "cell_type": "code",
   "execution_count": null,
   "id": "c0f1d1fd",
   "metadata": {},
   "outputs": [],
   "source": [
    "sns.displot(exploratory_set.Age, stat='density')\n",
    "\n",
    "plt.xlabel('Возраст')\n",
    "plt.ylabel('Плотность вероятности')\n",
    "plt.title('Распределение возрастов пассажиров')\n",
    "\n",
    "plt.show()\n",
    "\n",
    "display(exploratory_set.Age.describe())"
   ]
  },
  {
   "cell_type": "markdown",
   "id": "e6e3052a",
   "metadata": {},
   "source": [
    "Форма распределения отклоняется от формы нормального.\n",
    "\n",
    "Проверим гипотезу о том, что выжившие пассажиры моложе погибших. Построим распределение возрастов отдельно для погибших и отдельно для выживших."
   ]
  },
  {
   "cell_type": "code",
   "execution_count": null,
   "id": "b57b2008",
   "metadata": {},
   "outputs": [],
   "source": [
    "fig, ax = plt.subplots(1, 2, figsize=(10, 5))\n",
    "\n",
    "\n",
    "sns.histplot(data=exploratory_set, x='Age', stat='density', hue='Survived', ax=ax[0])\n",
    "\n",
    "ax[0].set_xlabel('Возраст')\n",
    "ax[0].set_ylabel('Плотность вероятности')\n",
    "ax[0].set_title('Распределение возрастов пассажиров')\n",
    "\n",
    "sns.boxplot(data=exploratory_set, x='Survived', y='Age', ax=ax[1])\n",
    "\n",
    "ax[1].set_xlabel('Survived (\"Выжил\")')\n",
    "ax[1].set_ylabel('Возраст')\n",
    "ax[1].set_title('Диаграммы размаха для возрастов\\nвыживших и погибших пассажиров')\n",
    "\n",
    "plt.show()"
   ]
  },
  {
   "cell_type": "markdown",
   "id": "c4d1ecf1",
   "metadata": {},
   "source": [
    "Распределения накладываются друг на друга, а на диаграммах размаха есть незначительное количество выбросов. Пока что не будем убирать выбросы, так как масимальное значение возраста пассажира равно 80 годам, что выглядит реалистично.\n",
    "\n",
    "Выполним t-тест, чтобы окончательно разобраться была ли разница между средним возрастом выживших и средним возрастом погибших пассажиров. Выдвенем следующие нулевую (**H0**) и альтернативную (**H1**) гипотезы:\n",
    "- **H0** - средний возраст в обеих группах одинаков;\n",
    "- **H1** - средний возраст групп различается.\n",
    "\n",
    "Уровень значимости **p** выберем равным **0.95**.\n",
    "\n",
    "Прежде чем выполнить тест, расчитаем количество наблюдений в каждой группе, среднее значение и стандартное отклонение."
   ]
  },
  {
   "cell_type": "code",
   "execution_count": null,
   "id": "f1bd22d4",
   "metadata": {},
   "outputs": [],
   "source": [
    "exploratory_set.groupby('Survived').Age.agg(['count', 'mean', 'std'])"
   ]
  },
  {
   "cell_type": "markdown",
   "id": "b2a0f57b",
   "metadata": {},
   "source": [
    "Выборки имеют разный размер, поэтому установим параметр `equal_var=False` при вызове метода `scipy.stats.ttest_ind()`. \n",
    "\n",
    "Также отметим, что средние значения выборок различаются, а стандартные отклонения очень близки, но всё же разные.\n",
    "\n",
    "Выполним t-тест."
   ]
  },
  {
   "cell_type": "code",
   "execution_count": null,
   "id": "3b242e8e",
   "metadata": {},
   "outputs": [],
   "source": [
    "results = ttest_ind(exploratory_set.query('Survived == 0').Age.dropna(),\n",
    "                    exploratory_set.query('Survived == 1').Age.dropna(),\n",
    "                    equal_var=False,\n",
    "                   )\n",
    "\n",
    "print(f'p-значение: {results.pvalue:.3f}')\n",
    "\n",
    "alpha = 0.05\n",
    "\n",
    "if results.pvalue < alpha:\n",
    "    print('Отвергаем нулевую гипотезу.')\n",
    "else:\n",
    "    print('Не получилось отвергнуть нулевую гипотезу.')"
   ]
  },
  {
   "cell_type": "markdown",
   "id": "c0319e91",
   "metadata": {},
   "source": [
    "Значение $p$ очень близко к пороговму. Законен вопрос мог ли получисться такой результат из-за выбросов?\n",
    "\n",
    "Удалим выбросы, для этого в выборках оставим только пассажиров моложе 70 лет, и повторно выполним тест. После очистки данных от выбросов выведем диаграммы размаха и результат тестирования гипотезы."
   ]
  },
  {
   "cell_type": "code",
   "execution_count": null,
   "id": "08240de8",
   "metadata": {},
   "outputs": [],
   "source": [
    "sns.boxplot(data=exploratory_set.query('Age < 70'), x='Survived', y='Age')\n",
    "\n",
    "plt.xlabel('Survived (\"Выжил\")')\n",
    "plt.ylabel('Возраст')\n",
    "plt.title('Диаграммы размаха для возрастов\\nвыживших и погибших пассажиров')\n",
    "\n",
    "plt.show()\n",
    "\n",
    "\n",
    "results = ttest_ind(exploratory_set.query('Survived == 0 and Age < 70').Age.dropna(),\n",
    "                    exploratory_set.query('Survived == 1 and Age < 70').Age.dropna(),\n",
    "                    equal_var=False,\n",
    "                   )\n",
    "\n",
    "print(f'p-значение: {results.pvalue:.3f}')\n",
    "\n",
    "alpha = 0.05\n",
    "\n",
    "if results.pvalue < alpha:\n",
    "    print('Отвергаем нулевую гипотезу.')\n",
    "else:\n",
    "    print('Не получилось отвергнуть нулевую гипотезу.')"
   ]
  },
  {
   "cell_type": "markdown",
   "id": "25acba5d",
   "metadata": {},
   "source": [
    "Оценим к каком квантилю относится значение 70 (после удаления пропусков)."
   ]
  },
  {
   "cell_type": "code",
   "execution_count": null,
   "id": "d0343f15",
   "metadata": {},
   "outputs": [],
   "source": [
    "round(percentileofscore(exploratory_set.Age.dropna(), 70) / 100, 2)"
   ]
  },
  {
   "cell_type": "markdown",
   "id": "917a9e7a",
   "metadata": {},
   "source": [
    "**Можно подытожить, что у нас нет оснований утверждать, что средний возраст выживших и погибших отличается, или что фактор возраста имел решающее значение при спасении.**"
   ]
  },
  {
   "cell_type": "markdown",
   "id": "095bada6",
   "metadata": {},
   "source": [
    "Возраст непрерывная величина, но мы имеем дело с задачей классификации. Может быть целесообразным разбить всех пассажиров на на возрастные группы. В группы с более высокими номерами будем относить пассажиров, которые старше. При этом для дискретизации будем использовать функцию `pd.qcut()`, чтобы в каждой группе оказалось приблизительно одинаковое количество значений."
   ]
  },
  {
   "cell_type": "code",
   "execution_count": null,
   "id": "90c4cde4",
   "metadata": {},
   "outputs": [],
   "source": [
    "exploratory_set['AgeGroup'] = pd.qcut(exploratory_set.Age, q=7, labels=list(range(7)))"
   ]
  },
  {
   "cell_type": "markdown",
   "id": "91c639cc",
   "metadata": {},
   "source": [
    "Проверим количество пассажиров в каждой возрастной групе."
   ]
  },
  {
   "cell_type": "code",
   "execution_count": null,
   "id": "37b732e6",
   "metadata": {},
   "outputs": [],
   "source": [
    "sns.displot(exploratory_set, x='AgeGroup', kind='hist')\n",
    "\n",
    "plt.title('Количество пассажиров в каждой возрастной группе')\n",
    "plt.xlabel('Возрастная группа')\n",
    "plt.ylabel('Количество пассажиров')\n",
    "\n",
    "plt.show()"
   ]
  },
  {
   "cell_type": "code",
   "execution_count": null,
   "id": "0b221503",
   "metadata": {},
   "outputs": [],
   "source": [
    "sns.catplot(data=exploratory_set, x='AgeGroup', y='Survived', kind='bar', errorbar=None)\n",
    "\n",
    "plt.title('Доля выживших пассажиров в\\nкаждой возрастной группе')\n",
    "plt.xlabel('Возрастная группа')\n",
    "plt.ylabel('Доля выживших пассажиров')\n",
    "\n",
    "plt.show()"
   ]
  },
  {
   "cell_type": "markdown",
   "id": "eb53f33d",
   "metadata": {},
   "source": [
    "Разбивка пассажиров на возрастные группы позволяет предположить наличие закономерности между возрастом пассажира и шансом спастись. Попробуем посмотреть сохраняется ли эта закономерность как для мужчин так и для женщин."
   ]
  },
  {
   "cell_type": "code",
   "execution_count": null,
   "id": "55eb13b1",
   "metadata": {},
   "outputs": [],
   "source": [
    "g = sns.catplot(data=exploratory_set, x='AgeGroup', y='Survived', col='Sex', kind='bar', errorbar=None, aspect=0.7)\n",
    "\n",
    "g.set(xlabel='Возрастная группа', ylabel='Доля выживших')\n",
    "g.set_titles(col_template=\"Атрибут Sex = {col_name}\")\n",
    "g.figure.suptitle('Доля выживших пассажиров в каждой возрастной группе')\n",
    "g.figure.subplots_adjust(top=0.85)\n",
    "\n",
    "plt.show()"
   ]
  },
  {
   "cell_type": "markdown",
   "id": "4b54289c",
   "metadata": {},
   "source": [
    "Доля выживших пассажиров среди женщин выше и она практически не меняется взависимости от возрастной группы. Для мужчин просматривается связь между возрастной группой и долей выживших."
   ]
  },
  {
   "cell_type": "markdown",
   "id": "eff21f22",
   "metadata": {},
   "source": [
    "#### SibSp"
   ]
  },
  {
   "cell_type": "markdown",
   "id": "59f2cdbe",
   "metadata": {},
   "source": [
    "Рассмотрим как распределены значения атрибута `SibSp`."
   ]
  },
  {
   "cell_type": "code",
   "execution_count": null,
   "id": "009bbdec",
   "metadata": {},
   "outputs": [],
   "source": [
    "sns.displot(data=exploratory_set, x='SibSp', kind='hist')\n",
    "\n",
    "plt.title('Количество пассажиров для\\nкаждого значения атрибута SibSp')\n",
    "plt.ylabel('Количество пассажиров')\n",
    "\n",
    "plt.show()"
   ]
  },
  {
   "cell_type": "markdown",
   "id": "f5070a59",
   "metadata": {},
   "source": [
    "Оценим долю выживших для каждого значения атрибута `SibSp`."
   ]
  },
  {
   "cell_type": "code",
   "execution_count": null,
   "id": "06ac33a5",
   "metadata": {},
   "outputs": [],
   "source": [
    "sns.catplot(data=exploratory_set, x='SibSp', y='Survived', kind='bar', errorbar=None)\n",
    "\n",
    "plt.title('Доля выживших для каждого\\nзначения атрибута SibSp')\n",
    "plt.ylabel('Доля выживших')\n",
    "\n",
    "plt.show()"
   ]
  },
  {
   "cell_type": "markdown",
   "id": "19102e08",
   "metadata": {},
   "source": [
    "#### Parch"
   ]
  },
  {
   "cell_type": "markdown",
   "id": "0753e509",
   "metadata": {},
   "source": [
    "Рассмотрим как распределены значения атрибута `Parch`."
   ]
  },
  {
   "cell_type": "code",
   "execution_count": null,
   "id": "c00d15a1",
   "metadata": {},
   "outputs": [],
   "source": [
    "sns.displot(exploratory_set, x='Parch', kind='hist')\n",
    "\n",
    "plt.title('Количество пассажиров для\\nкаждого значения атрибута Parch')\n",
    "plt.ylabel('Количество пассажиров')\n",
    "\n",
    "plt.show()"
   ]
  },
  {
   "cell_type": "markdown",
   "id": "7f0f6b37",
   "metadata": {},
   "source": [
    "Оценим долю выживших для каждого значения атрибута `Parch`."
   ]
  },
  {
   "cell_type": "code",
   "execution_count": null,
   "id": "c0b51d0a",
   "metadata": {},
   "outputs": [],
   "source": [
    "sns.catplot(data=exploratory_set, x='Parch', y='Survived', kind='bar', errorbar=None)\n",
    "\n",
    "plt.title('Доля выживших для каждого\\nзначения атрибута Parch')\n",
    "plt.ylabel('Доля выживших')\n",
    "\n",
    "plt.show()"
   ]
  },
  {
   "cell_type": "markdown",
   "id": "deba94a2",
   "metadata": {},
   "source": [
    "Перспективной может оказаться идея добавить атрибут `Family`, я вляющийся суммой атрибутов `Parch` и `SibSp`."
   ]
  },
  {
   "cell_type": "code",
   "execution_count": null,
   "id": "13ca278e",
   "metadata": {},
   "outputs": [],
   "source": [
    "exploratory_set['Family'] = exploratory_set.Parch + exploratory_set.SibSp"
   ]
  },
  {
   "cell_type": "markdown",
   "id": "48a4a696",
   "metadata": {},
   "source": [
    "Построим гистограмму признака `Family`."
   ]
  },
  {
   "cell_type": "code",
   "execution_count": null,
   "id": "86c22a00",
   "metadata": {},
   "outputs": [],
   "source": [
    "g = sns.displot(data=exploratory_set, x='Family', kind='hist')\n",
    "\n",
    "plt.ylabel('Число пассажиров на борту Титаника')\n",
    "plt.title('Гистограмма атрибута Family')\n",
    "\n",
    "plt.show()"
   ]
  },
  {
   "cell_type": "markdown",
   "id": "d71f1137",
   "metadata": {},
   "source": [
    "Изучим долю выживших для каждого значения атрибута `Family`"
   ]
  },
  {
   "cell_type": "code",
   "execution_count": null,
   "id": "7a0e4e0e",
   "metadata": {},
   "outputs": [],
   "source": [
    "sns.catplot(data=exploratory_set, x='Family', y='Survived', kind='bar', errorbar=None)\n",
    "\n",
    "plt.title('Доля выживших для каждого\\nзначения атрибута Family')\n",
    "plt.ylabel('Доля выживших')\n",
    "\n",
    "plt.show()"
   ]
  },
  {
   "cell_type": "markdown",
   "id": "b862b4c5",
   "metadata": {},
   "source": [
    "Также можно попробовать добавить атрибут `isFamily`, который будет равен 1, если пассажир путешествовал с семьёй (если атрибут `Family` больше 0) и в противном случае равен 0."
   ]
  },
  {
   "cell_type": "code",
   "execution_count": null,
   "id": "c612031d",
   "metadata": {},
   "outputs": [],
   "source": [
    "exploratory_set['isFamily'] = exploratory_set.Family.clip(lower=0, upper=1)"
   ]
  },
  {
   "cell_type": "markdown",
   "id": "92d2cc4e",
   "metadata": {},
   "source": [
    "Проверим сколько человек на Титанике путешествовали с семьёй."
   ]
  },
  {
   "cell_type": "code",
   "execution_count": null,
   "id": "e27ff6d7",
   "metadata": {},
   "outputs": [],
   "source": [
    "sns.catplot(data=exploratory_set, x='isFamily', kind='count')\n",
    "\n",
    "plt.title('Количество человек, путешествовавших с семьёй')\n",
    "plt.ylabel('Количество человек')\n",
    "\n",
    "plt.show()"
   ]
  },
  {
   "cell_type": "markdown",
   "id": "265fd5e1",
   "metadata": {},
   "source": [
    "Изучим долю выживших в обеих группах."
   ]
  },
  {
   "cell_type": "code",
   "execution_count": null,
   "id": "2e69b7b9",
   "metadata": {},
   "outputs": [],
   "source": [
    "sns.catplot(data=exploratory_set, x='isFamily', y='Survived', kind='bar', errorbar=None)\n",
    "\n",
    "plt.title('Доля выживших средпассажиров,\\nпутешествовавших с семьёй и без')\n",
    "plt.ylabel('Доля выживших')\n",
    "\n",
    "plt.show()"
   ]
  },
  {
   "cell_type": "markdown",
   "id": "3e0323bf",
   "metadata": {},
   "source": [
    "#### Fare"
   ]
  },
  {
   "cell_type": "markdown",
   "id": "94dbcc1b",
   "metadata": {},
   "source": [
    "Проверим нет ли связи между стоимостью билета и шансом выжить в кораблекрушении. \n",
    "\n",
    "Сначала построим гистограмму атрибута `Fare`."
   ]
  },
  {
   "cell_type": "code",
   "execution_count": null,
   "id": "fe976fda",
   "metadata": {
    "scrolled": false
   },
   "outputs": [],
   "source": [
    "sns.displot(data=exploratory_set, x='Fare', stat='density', aspect=2, kde=True)\n",
    "\n",
    "plt.title('Гистограмма признака Fare')\n",
    "plt.xlabel('Стоимость билета')\n",
    "plt.ylabel('Плотность вероятности')\n",
    "\n",
    "plt.show()"
   ]
  },
  {
   "cell_type": "markdown",
   "id": "f70f9ad0",
   "metadata": {},
   "source": [
    "Распределение имеет \"очень тяжёлый хвост\".\n",
    "\n",
    "Посмотрим как распределена стоимость билетов взависимости от класса."
   ]
  },
  {
   "cell_type": "code",
   "execution_count": null,
   "id": "e8901709",
   "metadata": {},
   "outputs": [],
   "source": [
    "sns.catplot(data=exploratory_set, y='Fare', x='Pclass', aspect=2, kind='box')\n",
    "\n",
    "plt.title('Распределение стоимости билетов в зависимости от класса')\n",
    "plt.xlabel('Класс (Pclass)')\n",
    "plt.ylabel('Стоимость билета (Fare)')\n",
    "\n",
    "plt.show()"
   ]
  },
  {
   "cell_type": "markdown",
   "id": "376f40d6",
   "metadata": {},
   "source": [
    "Посмотрим есть ли разница между стомостями билетов погибших и выживших для каждого класса."
   ]
  },
  {
   "cell_type": "code",
   "execution_count": null,
   "id": "45d63a5d",
   "metadata": {},
   "outputs": [],
   "source": [
    "sns.catplot(data=exploratory_set, y='Fare', x='Survived', col='Pclass', sharey=False, kind='box', aspect=0.75)\n",
    "\n",
    "plt.show()"
   ]
  },
  {
   "cell_type": "markdown",
   "id": "c10100af",
   "metadata": {},
   "source": [
    "Явной зависимости не просмативается.\n",
    "\n",
    "Можно попробовать дискретизировать признак `Fare` аналогично тому как это было сделано с признакоа `Age`."
   ]
  },
  {
   "cell_type": "code",
   "execution_count": null,
   "id": "319c81ce",
   "metadata": {},
   "outputs": [],
   "source": [
    "exploratory_set['FareGroup'] = pd.qcut(exploratory_set.Fare, 6, labels=range(6))"
   ]
  },
  {
   "cell_type": "markdown",
   "id": "1fe68463",
   "metadata": {},
   "source": [
    "Оценим долю выживших в каждой группе признака `FareGroup`."
   ]
  },
  {
   "cell_type": "code",
   "execution_count": null,
   "id": "bcc9116a",
   "metadata": {},
   "outputs": [],
   "source": [
    "sns.catplot(data=exploratory_set, x='FareGroup', y='Survived', kind='bar', errorbar=None)\n",
    "\n",
    "plt.title('Доля выживших для\\nкаждого значения FareGroup')\n",
    "plt.ylabel('Доля выживших')\n",
    "\n",
    "plt.show()"
   ]
  },
  {
   "cell_type": "markdown",
   "id": "98713ef3",
   "metadata": {},
   "source": [
    "#### Cabin"
   ]
  },
  {
   "cell_type": "markdown",
   "id": "cd535a94",
   "metadata": {},
   "source": [
    "Как было отмечено ранее признка `Cabin` 9номер каюты) содержит слишком большое количество уникальных значений и пропусков."
   ]
  },
  {
   "cell_type": "code",
   "execution_count": null,
   "id": "b080f1c0",
   "metadata": {},
   "outputs": [],
   "source": [
    "print(f'Признак Cabin содержит {exploratory_set.Cabin.nunique()} уникальных значений.')\n",
    "print(f'Признак Cabin содержит {exploratory_set.Cabin.isna().sum()} пропусков.')"
   ]
  },
  {
   "cell_type": "markdown",
   "id": "ab6cdecd",
   "metadata": {},
   "source": [
    "Попробуем создать признак `isCabin`, который будет содержать 1, если номер каюты известен, и 0 в противном случае."
   ]
  },
  {
   "cell_type": "code",
   "execution_count": null,
   "id": "5675f10c",
   "metadata": {},
   "outputs": [],
   "source": [
    "exploratory_set['isCabin'] = exploratory_set.Cabin.isna().astype('int')"
   ]
  },
  {
   "cell_type": "markdown",
   "id": "ab01b9e5",
   "metadata": {},
   "source": [
    "Посмотрим различается ли доля выживших в зависимости от значения признака `isCabin`."
   ]
  },
  {
   "cell_type": "code",
   "execution_count": null,
   "id": "3e0cd816",
   "metadata": {},
   "outputs": [],
   "source": [
    "sns.catplot(data=exploratory_set, x='isCabin', y='Survived', kind='bar', errorbar=None)\n",
    "\n",
    "plt.title('Доля выжившиж для\\nкаждого значения isCabin')\n",
    "plt.ylabel('Доля выживших')\n",
    "\n",
    "plt.show()"
   ]
  },
  {
   "cell_type": "markdown",
   "id": "0e916f60",
   "metadata": {},
   "source": [
    "Оказалось, что среди пассажиров, для которых номер каюты известен, доля выживших ниже."
   ]
  },
  {
   "cell_type": "markdown",
   "id": "e8cc8d8f",
   "metadata": {},
   "source": [
    "#### Embarked"
   ]
  },
  {
   "cell_type": "markdown",
   "id": "e4a6e16d",
   "metadata": {},
   "source": [
    "Посмотрим сколько пассажиров село на Титаник в каждом порту."
   ]
  },
  {
   "cell_type": "code",
   "execution_count": null,
   "id": "b7bff0a6",
   "metadata": {},
   "outputs": [],
   "source": [
    "display(exploratory_set.Embarked.value_counts())\n",
    "\n",
    "\n",
    "sns.displot(data=exploratory_set, x='Embarked', kind='hist')\n",
    "\n",
    "plt.title('Количество пассажиров в\\nзависимоти от порта посадки')\n",
    "plt.xlabel('Порт')\n",
    "plt.ylabel('Количество человек')\n",
    "\n",
    "plt.show()"
   ]
  },
  {
   "cell_type": "markdown",
   "id": "519622f9",
   "metadata": {},
   "source": [
    "Больше всего человек село на корабль в Саутгемптоне.\n",
    "\n",
    "Проверим долю выживших в зависимости от значения признака `Embarked`."
   ]
  },
  {
   "cell_type": "code",
   "execution_count": null,
   "id": "46203e28",
   "metadata": {},
   "outputs": [],
   "source": [
    "sns.catplot(data=exploratory_set, x='Embarked', y='Survived', kind='bar', errorbar=None)\n",
    "\n",
    "plt.title('Доля выживших в зависимости\\nот значения признака Embarked')\n",
    "plt.ylabel('Доля выживших')\n",
    "\n",
    "plt.show()"
   ]
  },
  {
   "cell_type": "markdown",
   "id": "092e41fd",
   "metadata": {},
   "source": [
    "### Вывод"
   ]
  },
  {
   "cell_type": "markdown",
   "id": "b8cc5e2a",
   "metadata": {},
   "source": [
    "1. Присутствует дисбаланс классов\n",
    "1. Требуется кодирование категориальных признаков\n",
    "1. Требуется удаление неинформативных признаков\n",
    "1. Требуется обработка пропусков\n",
    "1. Требуется стандартизация данных\n",
    "1. К исследовательскому набору были добавлены новые признаки, информативность которых еще предстоит оценить:\n",
    "    - `Title`\n",
    "    - `AgeGroup`\n",
    "    - `Family`\n",
    "    - `isFamily`\n",
    "    - `FareGroup`\n",
    "    - `isCabin`\n",
    "1. Возможно наличие корреляции между добавленными и имевшимися признаками\n",
    "\n",
    "На первый взгляд, очень важными признаками являются класс билета `Pclass` и пол `Sex` пассажира. Могут оказаться полезны признаки `Title`, `AgeGroup`, `isFamily`. Возможно, окажутся информативны `FareGroup` и `isCabin`. Проверим это предположение после обработки данных.\n",
    "\n",
    "Отметим что женщины имели более высокие шансы спастись, чем мужчины, и что в данных нет явных сведений о том, что более молодые пассажиры имели больше шансов выжить, однако, может оказаться, что некоторые возрастные группы имели больше шансов спастись."
   ]
  },
  {
   "cell_type": "markdown",
   "id": "d3f8e6c7",
   "metadata": {},
   "source": [
    "## Обработка данных"
   ]
  },
  {
   "cell_type": "markdown",
   "id": "b273f649",
   "metadata": {},
   "source": [
    "### Разработка новых признаков\n",
    "На этапе исследовательского анализа мы определили список новых признаков, которые могут оказаться информативны. Создадим собственные трансформеры для добавления этих признаков к обучающей выборке внутри пайплайна, напишем конвейер обработки данных и оценим информативность признаков на выходе этого конвейера.\n",
    "\n",
    "Для кодирования категориальных переменных попробуем использовать целевероятностное кодирование с помощью `category_encoders.target_encoder.TargetEncoder`."
   ]
  },
  {
   "cell_type": "markdown",
   "id": "3ec7f357",
   "metadata": {},
   "source": [
    "#### `Title`\n",
    "Создадим трансформер, который будет добавлять признак `Title` к обучающей выборке."
   ]
  },
  {
   "cell_type": "code",
   "execution_count": null,
   "id": "51e1d516",
   "metadata": {},
   "outputs": [],
   "source": [
    "def add_title(X, y=None):\n",
    "    title = X.Name.str.extract(pat=r'\\b,\\s(.+?)\\.\\s[\\b(]?')\n",
    "    title = pd.Series(title[0], name='Title').str.lower()\n",
    "    \n",
    "    title = title.where(title.isin(['mr', 'miss', 'mrs', 'master']), 'aristocratic')\n",
    "    \n",
    "    return pd.concat([X, title], axis='columns')\n",
    "\n",
    "TitleAdder = FunctionTransformer(func=add_title)"
   ]
  },
  {
   "cell_type": "markdown",
   "id": "642a3bcd",
   "metadata": {},
   "source": [
    "#### `AgeGroup` и `FareGroup`\n",
    "Используем `KBinsDiscretizer` из `sklearn.preprocessing`, чтобы разделить непрерывный признак `Age` на несколько категорий и закодировать их с помощью целевероятностного кодирования (target encoding). Аналогично поступим с признаков `FareGroup`.\n",
    "\n",
    "Приведём пайплайн, который выполнит эти операции. Предполагается, что приведённый ниже пайплайн - часть `ColumnTransformer` и на вход пайплайна подаются только два признака: `Age` и `FareGroup`. `Age` и `FareGroup` имеют тип `np.float64`, поэтому необходимо указать `TargetEncoder` на эти столбцы, задав атрибут `cols = [0, 1]`.\n",
    "\n",
    "```Python\n",
    "Pipeline([\n",
    "    ('imputer', SimpleImputer(strategy='median')),\n",
    "    ('discretizer', KBinsDiscretizer(n_bins=6, encode='ordinal', strategy='quantile')),\n",
    "    ('encoder', TargetEncoder(cols=[0, 1])),\n",
    "])\n",
    "```"
   ]
  },
  {
   "cell_type": "markdown",
   "id": "335b4c36",
   "metadata": {},
   "source": [
    "#### `Family`\n",
    "Создадим трансформер, который добавляет признак `Family` к обучающей выборке."
   ]
  },
  {
   "cell_type": "code",
   "execution_count": null,
   "id": "a596ccdb",
   "metadata": {},
   "outputs": [],
   "source": [
    "def add_family(X, y=None):\n",
    "    family = X.Parch + X.SibSp\n",
    "    family.name ='Family'\n",
    "\n",
    "    return pd.concat([X, family], axis='columns')\n",
    "\n",
    "FamilyAdder = FunctionTransformer(func=add_family)"
   ]
  },
  {
   "cell_type": "markdown",
   "id": "7802f0b6",
   "metadata": {},
   "source": [
    "#### `isFramily` и `isCabin`\n",
    "Для добавления атрибута `isFramily` будем использовать `sklearn.preprocessing.Binarizer`.\n",
    "\n",
    "Признак `Cabin` сам по себе нам не нужен, мы будем заменять его признаком `isCabin`. Будем исользовать `sklearn.impute.MissingIndicator`, чтобы заменить все пропущенные значения единицами, а остальные нулями."
   ]
  },
  {
   "cell_type": "markdown",
   "id": "140c69c3",
   "metadata": {},
   "source": [
    "### Оценка информативности признаков\n",
    "\n",
    "#### Конвейер\n",
    "Создадим конвейер, выполняющий обработку данных."
   ]
  },
  {
   "cell_type": "code",
   "execution_count": null,
   "id": "9336a604",
   "metadata": {},
   "outputs": [],
   "source": [
    "data_prep_target_enc = Pipeline([\n",
    "    ('title_adder', TitleAdder),\n",
    "    ('family_adder', FamilyAdder),\n",
    "    \n",
    "    ('col_selector', ColumnTransformer([\n",
    "        ('drop', 'drop', ['PassengerId', 'Name', 'Ticket']),\n",
    "        ('is_cabin', MissingIndicator(), ['Cabin']),\n",
    "        ('is_family', Binarizer(), ['Family']),\n",
    "        ('cat_features', \n",
    "         Pipeline([('imputer', SimpleImputer(strategy='most_frequent')),\n",
    "                   ('encoder', TargetEncoder()),\n",
    "                  ]), \n",
    "         ['Pclass', 'Sex', 'Embarked', 'Title']\n",
    "        ),\n",
    "        ('age_fare', \n",
    "         Pipeline([\n",
    "             ('imputer', SimpleImputer(strategy='median')),\n",
    "             ('discretizer', KBinsDiscretizer(n_bins=6, encode='ordinal', strategy='quantile')),\n",
    "             ('encoder', TargetEncoder(cols=[0, 1])),\n",
    "         ]), \n",
    "         ['Age', 'Fare']\n",
    "        ),\n",
    "        ('num_features', \n",
    "         Pipeline([\n",
    "             ('imputer', SimpleImputer(strategy='median')),\n",
    "             ('scaler', StandardScaler()),\n",
    "         ]), \n",
    "         ['SibSp', 'Parch', 'Family']\n",
    "        ),\n",
    "    ], remainder='passthrough')\n",
    "    ),        \n",
    "])"
   ]
  },
  {
   "cell_type": "markdown",
   "id": "27cc347f",
   "metadata": {},
   "source": [
    "Попробуем обработать с помощью разработанного конвейера обучающую выборку, преобразовать результат в датафрейм и вывести его первые 5 строк."
   ]
  },
  {
   "cell_type": "code",
   "execution_count": null,
   "id": "78df67dc",
   "metadata": {},
   "outputs": [],
   "source": [
    "cols = [\n",
    "    'isCabin', \n",
    "    'isFamily',\n",
    "    'Pclass', \n",
    "    'Sex', \n",
    "    'Embarked', \n",
    "    'Title', \n",
    "    'AgeGroup', \n",
    "    'FareGroup', \n",
    "    'SibSp', \n",
    "    'Parch',\n",
    "    'Family'\n",
    "]\n",
    "\n",
    "preprocessed_data = pd.DataFrame(data_prep_target_enc.fit_transform(X_train, y_train), columns=cols)\n",
    "preprocessed_data.head()"
   ]
  },
  {
   "cell_type": "markdown",
   "id": "37a3cea0",
   "metadata": {},
   "source": [
    "#### Корреляция между обучающими признаками\n",
    "Оценим корреляцию между признаками после обработки данных. Так как в наборе появились качественные признаки (хоть и закодированные), расчитаем коэффициент ранговой корреляции Кендалла."
   ]
  },
  {
   "cell_type": "code",
   "execution_count": null,
   "id": "52caedd0",
   "metadata": {},
   "outputs": [],
   "source": [
    "plot_corr_matrix(preprocessed_data, vmin=-1, vmax=1, size=(10, 10), method='kendall')"
   ]
  },
  {
   "cell_type": "markdown",
   "id": "924e8ce9",
   "metadata": {},
   "source": [
    "Мы получили скоррелированные между собой признаки. Если появление корреляции, например, между `Famlily` и `SibSp` ожидаемо, то корреляция между параметрами `Title` и `Sex` выглядит неожиданной, но объяснимой: обращения для мужчин и женщин разлины, а женщины имели более высокие шансы выжить.\n",
    "\n",
    "В данных после обработки нашим конвейером появились признаки с сильной корреляцией, например `Title` и `Sex`, `SibSp` и `Family`. Один из признаков в каждой паре можно будет отбросить, либо применить какую-либо другую технику борьбы с мультиколлинеарностью (например разложение на главные компоненты) или технику отбора признаков."
   ]
  },
  {
   "cell_type": "markdown",
   "id": "42e1b489",
   "metadata": {},
   "source": [
    "#### Взаимная информация (Mutual Information)\n",
    "Чтобы выяснить какие обучающие признаки несут больше всего информации о целевом, оценим метрику Mutual Information с помощью `sklearn.feature_selection.mutual_info_classif`. Оценку будем выполнять дважды при значении параметра `n_neighbors` равном 5 и 100."
   ]
  },
  {
   "cell_type": "code",
   "execution_count": null,
   "id": "36bb49de",
   "metadata": {
    "scrolled": false
   },
   "outputs": [],
   "source": [
    "def print_mi_scores(df, n_neighbors):\n",
    "    mi_scores = (pd\n",
    "                 .DataFrame(mutual_info_classif(df, \n",
    "                                                y_train, \n",
    "                                                n_neighbors=n_neighbors, \n",
    "                                                random_state=SEED), \n",
    "                            columns=['mutual_info'], \n",
    "                            index=df.columns\n",
    "                           )\n",
    "                 .sort_values(by='mutual_info', ascending=False)\n",
    "    )\n",
    "\n",
    "    print(f'n_neighbors={n_neighbors}')\n",
    "    display(mi_scores)\n",
    "\n",
    "    (mi_scores\n",
    "     .sort_values(by='mutual_info', ascending=True)\n",
    "     .plot(kind='barh', grid=True, title=f'Mutual information\\nn_neighbors={n_neighbors}')\n",
    "    )\n",
    "\n",
    "    plt.legend(loc='lower right')\n",
    "    plt.show()\n",
    "    \n",
    "    \n",
    "print_mi_scores(preprocessed_data, 5)"
   ]
  },
  {
   "cell_type": "code",
   "execution_count": null,
   "id": "dec209ff",
   "metadata": {
    "scrolled": false
   },
   "outputs": [],
   "source": [
    "print_mi_scores(preprocessed_data, 100)"
   ]
  },
  {
   "cell_type": "markdown",
   "id": "db2a3044",
   "metadata": {},
   "source": [
    "Согласно полученным результатам, признаки неравноценны. Признаки `isFamily`, `Parch`, `SibSp`, `AgeGroup` в обоих случаях попали в 5 пирзнаков с самым низким значение метрики. Возможно, их можно будет безболезненно удалить. Среди 5 признаков с самыми высокими показателями метрики оказались `Title`, `Sex`, `isCabin`, `FareGroup` и `Pclass`.\n",
    "\n",
    "Прежде чем удалять неинформативные признаки и часть скоррелированных, оценим базовую модель и из нескольких классификаторов выберем лучший."
   ]
  },
  {
   "cell_type": "markdown",
   "id": "9364d44a",
   "metadata": {},
   "source": [
    "## Базовая модель\n",
    "В качестве базовой модели, с которой мы будем сравнивать разработанные модели, будем использовать `sklearn.dummy.DummyClassifier`\n",
    "\n",
    "Прежде чем приступить к подбору классификатора и оценке моделей, напишем несколько функций, позволяющих быстро их оценить."
   ]
  },
  {
   "cell_type": "code",
   "execution_count": null,
   "id": "7b712c4a",
   "metadata": {},
   "outputs": [],
   "source": [
    "def print_score(estimator, features, target, score='accuracy', cv=5, n_jobs=-1):\n",
    "    '''Вычисляет среднее, минимальное и максимальное значения метрики,\n",
    "    полученное с помощью кросс-валидации.\n",
    "    '''\n",
    "    \n",
    "    scores = cross_val_score(estimator,\n",
    "                             X=features,\n",
    "                             y=target,\n",
    "                             cv=cv,\n",
    "                             scoring=score,\n",
    "                             n_jobs=n_jobs,\n",
    "                            )\n",
    "    \n",
    "    res = pd.DataFrame(scores, columns=[score]).agg(['mean', 'median', 'min', 'max']).transpose()\n",
    "    \n",
    "    scorer = get_scorer(score)\n",
    "    res.loc[score, 'results_on_train_set'] = scorer(estimator.fit(features, target), features, target)\n",
    "    \n",
    "    return res\n",
    "\n",
    "\n",
    "def plot_roc_curve_for_random_clf():\n",
    "    '''Выводит на экран кривую ROC для классификатора, предсказывающего\n",
    "       целевую переменную случайным образом.\n",
    "    '''\n",
    "    \n",
    "    fig, ax = plt.subplots(1, 1)\n",
    "    \n",
    "    ax.plot([0,1], [0,1], 'k--', label='Random classifier')\n",
    "    ax.grid()\n",
    "    ax.set_xlim((0, 1))\n",
    "    ax.set_ylim((0, 1))\n",
    "\n",
    "    ax.set_xlabel('False Positive Rate')\n",
    "    ax.set_ylabel('True Positive Rate')\n",
    "\n",
    "    ax.legend(loc='lower right')\n",
    "\n",
    "    ax.set_title('ROC curve')\n",
    "    \n",
    "    return fig, ax\n",
    "\n",
    "\n",
    "def plot_roc_curve(y_train, y_scores, ax, style='', label=None):\n",
    "    '''Печатае кривую ROC на оси ax.'''\n",
    "    \n",
    "    fpr, tpr, thresholds = roc_curve(y_train, y_scores)\n",
    "    \n",
    "    ax.plot(fpr, tpr, style, label=label)\n",
    "    \n",
    "    return ax\n",
    "\n",
    "\n",
    "def evaluate_model(model, X, y, label, ax=None, method='predict_proba', cv=5, n_jobs=-1):\n",
    "    '''Выводит на экран сводку о производительности модели, состоящую из метрик\n",
    "    accuracy, f1, roc_auc и кривую ROC. Также возвращат значения метрик в датафрейме df,\n",
    "    печатает кривую ROC на оси ax.\n",
    "    '''\n",
    "    \n",
    "    df = pd.DataFrame(columns= ['mean', 'median', 'min', 'max'])\n",
    "    \n",
    "    for metric in ['accuracy', 'f1', 'roc_auc']:\n",
    "        df = pd.concat([df, print_score(model, X, y, score=metric, cv=cv, n_jobs=n_jobs)])\n",
    "        \n",
    "    print(f'Значения метрик для {label}')\n",
    "    \n",
    "    display(df)\n",
    "        \n",
    "    y_scores = cross_val_predict(model, X, y, cv=cv, method=method, n_jobs=n_jobs)\n",
    "    if method == 'predict_proba':\n",
    "        y_scores = y_scores[:, -1]\n",
    "    \n",
    "    if ax is None:\n",
    "        fig, ax = plot_roc_curve_for_random_clf()        \n",
    "        ax = plot_roc_curve(y_train, y_scores, label=label, ax=ax)\n",
    "        plt.show()\n",
    "        \n",
    "        return df\n",
    "    \n",
    "    else:\n",
    "        ax = plot_roc_curve(y_train, y_scores, label=label, ax=ax)\n",
    "        \n",
    "        return df, ax"
   ]
  },
  {
   "cell_type": "code",
   "execution_count": null,
   "id": "ea8fdac0",
   "metadata": {},
   "outputs": [],
   "source": [
    "dummy_clf = DummyClassifier(strategy='stratified')\n",
    "\n",
    "_ = evaluate_model(model=dummy_clf, X=X_train, y=y_train, label='DummyClassifier')"
   ]
  },
  {
   "cell_type": "markdown",
   "id": "e6e40f13",
   "metadata": {},
   "source": [
    "## Выбор модели"
   ]
  },
  {
   "cell_type": "markdown",
   "id": "c94d2135",
   "metadata": {},
   "source": [
    "Напишем конвейер для которого мы будем подбирать классификатор. Добавим в конвейер апсемплинг, чтобы устранить дисбаланс классов. Шаг, предназначенный для классификатора оставим пустым, так как классификатор еще предстоит подобрать. Также оставим пустым шаг для отбора параметров."
   ]
  },
  {
   "cell_type": "code",
   "execution_count": null,
   "id": "2afa0389",
   "metadata": {},
   "outputs": [],
   "source": [
    "pipe = Pipeline([\n",
    "    ('title_adder', TitleAdder),\n",
    "    ('family_adder', FamilyAdder),\n",
    "    \n",
    "    ('col_selector', ColumnTransformer([\n",
    "        ('drop', 'drop', ['PassengerId', 'Name', 'Ticket']),\n",
    "        ('is_cabin', MissingIndicator(), ['Cabin']),\n",
    "        ('is_family', Binarizer(), ['Family']),\n",
    "        ('cat_features', \n",
    "         Pipeline([('imputer', SimpleImputer(strategy='most_frequent')),\n",
    "                   ('encoder', TargetEncoder()),\n",
    "                  ]), \n",
    "         ['Pclass', 'Sex', 'Embarked', 'Title']\n",
    "        ),\n",
    "        ('age_fare', \n",
    "         Pipeline([\n",
    "             ('imputer', SimpleImputer(strategy='median')),\n",
    "             ('discretizer', KBinsDiscretizer(n_bins=6, encode='ordinal', strategy='quantile')),\n",
    "             ('encoder', TargetEncoder(cols=[0, 1])),\n",
    "         ]), \n",
    "         ['Age', 'Fare']\n",
    "        ),\n",
    "        ('num_features', \n",
    "         Pipeline([\n",
    "             ('imputer', SimpleImputer(strategy='median')),\n",
    "             ('scaler', StandardScaler()),\n",
    "         ]), \n",
    "         ['SibSp', 'Parch', 'Family']\n",
    "        ),\n",
    "    ], remainder='passthrough')\n",
    "    ),   \n",
    "\n",
    "    ('smote', SMOTE()),\n",
    "    \n",
    "    ('feature_selection', 'passthrough'),\n",
    "    \n",
    "    ('classifier', 'passthrough')\n",
    "])\n",
    "\n",
    "pipe"
   ]
  },
  {
   "cell_type": "markdown",
   "id": "f6b5f3de",
   "metadata": {},
   "source": [
    "Попробуем добавлять к конвейеру разные классификаторы и сравним результаты. Рассмотрим следующие классификаторы с параметрами по умолчанию:\n",
    "- LogisticRegression;\n",
    "- SVC;\n",
    "- KNeighborsClassifier;\n",
    "- DecisionTreeClassifier;\n",
    "- RandomFrorestClassifier;\n",
    "- GradientBoostingClassifier."
   ]
  },
  {
   "cell_type": "code",
   "execution_count": null,
   "id": "68c3b10e",
   "metadata": {},
   "outputs": [],
   "source": [
    "def plot_accuracy(df):\n",
    "    g = sns.catplot(aspect=1.5)\n",
    "\n",
    "    g = sns.scatterplot(data=df, \n",
    "                      x='classifier', \n",
    "                      y='accuracy_on_train_set', \n",
    "                      markers='X', \n",
    "                      label='Accuracy на тренировочном наборе'\n",
    "                     )\n",
    "\n",
    "    g = sns.boxplot(data=df, x='classifier', y='accuracy_on_CV', color='white')\n",
    "\n",
    "    g.set_ylim([0.6, 1])\n",
    "    g.tick_params(axis='x', rotation=45)\n",
    "    g.set_xlabel('Классификатор')\n",
    "    g.set_ylabel('Accuracy')\n",
    "    g.set_title('Значения метрики accuracy по результатм\\nкросс-валидации для разных классификаторов')\n",
    "    sns.move_legend(g, 'lower right')\n",
    "\n",
    "    plt.show()"
   ]
  },
  {
   "cell_type": "code",
   "execution_count": null,
   "id": "40374af8",
   "metadata": {
    "scrolled": false
   },
   "outputs": [],
   "source": [
    "classifiers = [\n",
    "    LogisticRegression(),\n",
    "    SVC(kernel='rbf'),\n",
    "    KNeighborsClassifier(),\n",
    "    DecisionTreeClassifier(),\n",
    "    RandomForestClassifier(),\n",
    "    GradientBoostingClassifier(),\n",
    "]\n",
    "\n",
    "methods = [\n",
    "    'predict_proba',\n",
    "    'decision_function',\n",
    "    'predict_proba',\n",
    "    'predict_proba',\n",
    "    'predict_proba',\n",
    "    'predict_proba',\n",
    "]\n",
    "\n",
    "\n",
    "fig, ax = plot_roc_curve_for_random_clf()\n",
    "\n",
    "scores = pd.DataFrame(columns=['classifier', 'accuracy_on_CV', 'accuracy_on_train_set'])\n",
    "\n",
    "for i, (classifier, method) in enumerate(zip(classifiers, methods)):\n",
    "    label = type(classifier).__name__\n",
    "    print(f'{i+1}. {label}')\n",
    "\n",
    "    pipe.set_params(classifier=classifier)\n",
    "    \n",
    "    df, ax = evaluate_model(model=pipe, X=X_train, y=y_train, method=method, label=label, cv=CV, ax=ax)\n",
    "    \n",
    "    score = pd.DataFrame(cross_val_score(estimator=pipe, \n",
    "                                         X=X_train, \n",
    "                                         y=y_train, \n",
    "                                         scoring='accuracy',\n",
    "                                         cv=CV,\n",
    "                                         n_jobs=-1,\n",
    "                                        ),\n",
    "                         columns=['accuracy_on_CV']\n",
    "                        )\n",
    "    score['classifier'] = label\n",
    "    score['accuracy_on_train_set'] = df.loc['accuracy', 'results_on_train_set']\n",
    "    scores = scores.append(score)\n",
    "    \n",
    "    \n",
    "    print() \n",
    "    \n",
    "plt.legend()\n",
    "plt.show()\n",
    "\n",
    "print()\n",
    "\n",
    "\n",
    "plot_accuracy(scores)"
   ]
  },
  {
   "cell_type": "markdown",
   "id": "d9315101",
   "metadata": {},
   "source": [
    "`DecisionTreeClassifier` показал самое низкое значение метрики *ROC_AUC*, далее не будем его рассматривать. Остальные модели показали достаточно хорошие результаты. `SVC(kernel='rbf')`, `RandomForestClassifier` и `GradientBoostingClassifier` показали близкие результаты, при этом медианное значение метрики *accuracy* превысило целевое, либо оказалось очень близко к нему.\n",
    "\n",
    "На последнем графике, содержащем диаграммы размаха для значений целевой метрики по результатам кросс-валидации, отмечены значения *accuracy*, полученные на тренировочном наборе (модель обучена и оценена на полной обучающей выборке). Значения метрики, полученные на тренировочной выборке, выше мединных значений, полученных на кросс-валидации. Складывается впечатление, что все модели, кроме `LogisticRegression` и `SVC(kernel='rbf')`, демонстрируют оверфитинг.\n",
    "\n",
    "Самое высокое медианное значение *accuracy* показал`GradientBoostingClassifier`, остановимся на нём. Попробуем встроить в конвейер выбор признаков и настроить гиперпараметры, будем надеяться, что это поможет повысить точность предсказаний и устранить оверфитинг."
   ]
  },
  {
   "cell_type": "markdown",
   "id": "e631daad",
   "metadata": {},
   "source": [
    "## Отбор признаков"
   ]
  },
  {
   "cell_type": "markdown",
   "id": "c477e4b3",
   "metadata": {},
   "source": [
    "Попробуем выбрать информативные признаки с помощью техники называемой *Recursive feature elimination with cross-validation*. Для определения информативности признаков будем использовать `GradientBoostingClassifier` с настройками по умолчанию. \n",
    "\n",
    "Определим оптимальное число признаков. В качестве целевой метрики выберем *accuracy*."
   ]
  },
  {
   "cell_type": "code",
   "execution_count": null,
   "id": "94c3de43",
   "metadata": {},
   "outputs": [],
   "source": [
    "rfecv = RFECV(\n",
    "    estimator = GradientBoostingClassifier(),\n",
    "    step=1,\n",
    "    cv=CV,\n",
    "    scoring='accuracy',\n",
    "    min_features_to_select=1,\n",
    "    n_jobs=-1,\n",
    ")\n",
    "\n",
    "print()\n",
    "\n",
    "rfecv.fit(preprocessed_data, y_train)\n",
    "\n",
    "print(f\"Оптимальное количество признаков: {rfecv.n_features_} из {rfecv.n_features_in_}\")"
   ]
  },
  {
   "cell_type": "markdown",
   "id": "f5a3136d",
   "metadata": {},
   "source": [
    "Построим график зависимости среднего значения целевой метрики от количества выбранных признаков, нанесём на график доверительный интервал для каждого значения."
   ]
  },
  {
   "cell_type": "code",
   "execution_count": null,
   "id": "5dbeff47",
   "metadata": {},
   "outputs": [],
   "source": [
    "n_scores = len(rfecv.cv_results_[\"mean_test_score\"])\n",
    "\n",
    "plt.errorbar(\n",
    "    x=np.arange(n_scores) + 1,\n",
    "    y=rfecv.cv_results_[\"mean_test_score\"],\n",
    "    yerr=rfecv.cv_results_[\"std_test_score\"],\n",
    "    fmt='s',\n",
    "    capsize=5,\n",
    "    ecolor='k',\n",
    "    elinewidth=1,\n",
    ")\n",
    "\n",
    "plt.xlabel(\"Количество признаков\")\n",
    "plt.ylabel(\"Средниее значение метрики accuracy\")\n",
    "plt.title(\"Зависимость метрики accuracy от\\nколичества признаков, выбранных RFE\")\n",
    "plt.xlim((0, 12))\n",
    "plt.ylim((0.7, 0.95))\n",
    "\n",
    "plt.grid()\n",
    "\n",
    "plt.show()"
   ]
  },
  {
   "cell_type": "markdown",
   "id": "e42ec774",
   "metadata": {},
   "source": [
    "Выведем датафрейм с результатом работы алгоритма отбора признаков. Если `Support=False`, значит признак отбрасывается."
   ]
  },
  {
   "cell_type": "code",
   "execution_count": null,
   "id": "563fb7ac",
   "metadata": {
    "scrolled": true
   },
   "outputs": [],
   "source": [
    "features_info = pd.DataFrame({\n",
    "    'Name': rfecv.feature_names_in_,\n",
    "    'Rank': rfecv.ranking_,\n",
    "    'Support': rfecv.support_\n",
    "}).sort_values('Rank', ignore_index=True)\n",
    "\n",
    "features_info"
   ]
  },
  {
   "cell_type": "code",
   "execution_count": null,
   "id": "fad47ccf",
   "metadata": {},
   "outputs": [],
   "source": []
  },
  {
   "cell_type": "code",
   "execution_count": null,
   "id": "ddee3e8e",
   "metadata": {},
   "outputs": [],
   "source": [
    "print_mi_scores(preprocessed_data, 100)"
   ]
  },
  {
   "cell_type": "code",
   "execution_count": null,
   "id": "acbea0e0",
   "metadata": {},
   "outputs": [],
   "source": []
  },
  {
   "cell_type": "code",
   "execution_count": null,
   "id": "40246ae4",
   "metadata": {},
   "outputs": [],
   "source": []
  },
  {
   "cell_type": "code",
   "execution_count": null,
   "id": "241339f0",
   "metadata": {},
   "outputs": [],
   "source": []
  },
  {
   "cell_type": "code",
   "execution_count": null,
   "id": "7b3fc14e",
   "metadata": {},
   "outputs": [],
   "source": []
  },
  {
   "cell_type": "code",
   "execution_count": null,
   "id": "5926a330",
   "metadata": {},
   "outputs": [],
   "source": []
  },
  {
   "cell_type": "code",
   "execution_count": null,
   "id": "0fe88dac",
   "metadata": {},
   "outputs": [],
   "source": []
  },
  {
   "cell_type": "markdown",
   "id": "4bd77582",
   "metadata": {},
   "source": [
    "```Python\n",
    "selector = RFE(estimator=GradientBoostingClassifier(**params), \n",
    "               n_features_to_select=(features_info.Rank == 1).sum()\n",
    "              )\n",
    "\n",
    "pipe = Pipeline([\n",
    "    ('title_adder', TitleAdder),\n",
    "    ('family_adder', FamilyAdder),\n",
    "    \n",
    "    ('col_selector', ColumnTransformer([\n",
    "        ('drop', 'drop', ['PassengerId', 'Name', 'Ticket']),\n",
    "        ('is_cabin', MissingIndicator(), ['Cabin']),\n",
    "        ('is_family', Binarizer(), ['Family']),\n",
    "        ('cat_features', \n",
    "         Pipeline([('imputer', SimpleImputer(strategy='most_frequent')),\n",
    "                   ('encoder', TargetEncoder()),\n",
    "                  ]), \n",
    "         ['Pclass', 'Sex', 'Embarked', 'Title']\n",
    "        ),\n",
    "        ('age_fare', \n",
    "         Pipeline([\n",
    "             ('imputer', SimpleImputer(strategy='median')),\n",
    "             ('discretizer', KBinsDiscretizer(n_bins=6, encode='ordinal', strategy='quantile')),\n",
    "             ('encoder', TargetEncoder(cols=[0, 1])),\n",
    "         ]), \n",
    "         ['Age', 'Fare']\n",
    "        ),\n",
    "        ('num_features', \n",
    "         Pipeline([\n",
    "             ('imputer', SimpleImputer(strategy='median')),\n",
    "             ('scaler', StandardScaler()),\n",
    "         ]), \n",
    "         ['SibSp', 'Parch', 'Family']\n",
    "        ),\n",
    "    ], remainder='passthrough')\n",
    "    ),   \n",
    "\n",
    "    ('smote', SMOTE()),\n",
    "    \n",
    "    ('feature_selection', selector),\n",
    "    \n",
    "    ('classifier', GradientBoostingClassifier())\n",
    "])\n",
    "\n",
    "pipe\n",
    "```"
   ]
  },
  {
   "cell_type": "markdown",
   "id": "b5375c3f",
   "metadata": {},
   "source": [
    "pipe.fit(X_train, y_train)"
   ]
  },
  {
   "cell_type": "markdown",
   "id": "ea8698db",
   "metadata": {},
   "source": [
    "```Python\n",
    "scores = pd.DataFrame(columns=['classifier', 'accuracy_on_CV', 'accuracy_on_train_set'])\n",
    "\n",
    "fig, ax = plot_roc_curve_for_random_clf()\n",
    "\n",
    "scores = pd.DataFrame(columns=['classifier', 'accuracy_on_CV', 'accuracy_on_train_set'])\n",
    "    \n",
    "df, ax = evaluate_model(model=pipe, X=X_train, y=y_train, method='predict_proba', label='pipe', cv=CV, ax=ax)\n",
    "\n",
    "score = pd.DataFrame(cross_val_score(estimator=pipe, \n",
    "                                     X=X_train, \n",
    "                                     y=y_train, \n",
    "                                     scoring='accuracy',\n",
    "                                     cv=CV,\n",
    "                                     n_jobs=-1,\n",
    "                                    ),\n",
    "                     columns=['accuracy_on_CV']\n",
    "                    )\n",
    "score['classifier'] = 'pipe'\n",
    "score['accuracy_on_train_set'] = df.loc['accuracy', 'results_on_train_set']\n",
    "scores = scores.append(score)\n",
    "\n",
    "\n",
    "print() \n",
    "    \n",
    "plt.legend()\n",
    "plt.show()\n",
    "\n",
    "print()\n",
    "\n",
    "\n",
    "plot_accuracy(scores)\n",
    "```"
   ]
  },
  {
   "cell_type": "code",
   "execution_count": null,
   "id": "c8f042f8",
   "metadata": {},
   "outputs": [],
   "source": []
  }
 ],
 "metadata": {
  "kernelspec": {
   "display_name": "Python 3 (ipykernel)",
   "language": "python",
   "name": "python3"
  },
  "language_info": {
   "codemirror_mode": {
    "name": "ipython",
    "version": 3
   },
   "file_extension": ".py",
   "mimetype": "text/x-python",
   "name": "python",
   "nbconvert_exporter": "python",
   "pygments_lexer": "ipython3",
   "version": "3.10.4"
  },
  "toc": {
   "base_numbering": 1,
   "nav_menu": {
    "height": "741px",
    "width": "447px"
   },
   "number_sections": true,
   "sideBar": true,
   "skip_h1_title": true,
   "title_cell": "Содержание",
   "title_sidebar": "Содержание",
   "toc_cell": true,
   "toc_position": {
    "height": "541.594px",
    "left": "25px",
    "top": "110.229px",
    "width": "276.667px"
   },
   "toc_section_display": true,
   "toc_window_display": true
  }
 },
 "nbformat": 4,
 "nbformat_minor": 5
}
